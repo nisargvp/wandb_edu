{
 "cells": [
  {
   "cell_type": "markdown",
   "metadata": {},
   "source": [
    "<a href=\"https://colab.research.google.com/github/wandb/edu/blob/main/decision-opt-course/assignment/start_here.ipynb\" target=\"_parent\"><img src=\"https://colab.research.google.com/assets/colab-badge.svg\" alt=\"Open In Colab\"/></a>\n",
    "<!--- @wandbcode{decisionopt-assignment} -->"
   ]
  },
  {
   "cell_type": "markdown",
   "metadata": {},
   "source": [
    "# Your Mission\n",
    "<!--- @wandbcode{decisionopt-assignment} -->\n",
    "\n",
    "Your mission, should you choose to accept it, is to write a python function that will determine when a large manufacturer repairs their machines and when they let them run unrepaired 🙏🏻\n",
    "\n",
    "You will use data from Kaggle's [Classication of Machine Failures](https://www.kaggle.com/competitions/playground-series-s3e17) competition. The original data doesn't include economic information like the cost of repairing a machine. This information is described in this assignment and you will code it in your simulation (the original data was also synthetically generated, so it was generated with a similar process).\n",
    "\n",
    "You will\n",
    "\n",
    "1. Write a function that calculates maintenance and repair costs when you use any supplied decision function for determining when to do machine maintenance\n",
    "2. Create 3 decision functions and compare their costs using the function you just wrote in step 1\n",
    "3. Write and share a Weights & Biases report so your colleagues can see the implications of using your preferred decision function. In your report, describe (in just a few sentences):\n",
    "  - How you might deal with potential covariate shift if training data was collected in winter when air temperatures are lower, so you expect future air temperatures to be warmer\n",
    "  - How you might test your decision function in reality to make sure it works before applying it at scale"
   ]
  },
  {
   "cell_type": "markdown",
   "metadata": {},
   "source": [
    "# Data"
   ]
  },
  {
   "cell_type": "code",
   "execution_count": 1,
   "metadata": {},
   "outputs": [],
   "source": [
    "# Uncomment if you're on Google Colab\n",
    "# !mkdir data\n",
    "# !wget -P data https://raw.githubusercontent.com/wandb/edu/main/decision-opt-course/assignment/data/train.csv\n",
    "# !pip install wandb -qqq\n",
    "# !pip install scikit-learn==1.1.3 -qqq"
   ]
  },
  {
   "cell_type": "code",
   "execution_count": 2,
   "metadata": {},
   "outputs": [
    {
     "data": {
      "text/html": [
       "<div>\n",
       "<style scoped>\n",
       "    .dataframe tbody tr th:only-of-type {\n",
       "        vertical-align: middle;\n",
       "    }\n",
       "\n",
       "    .dataframe tbody tr th {\n",
       "        vertical-align: top;\n",
       "    }\n",
       "\n",
       "    .dataframe thead th {\n",
       "        text-align: right;\n",
       "    }\n",
       "</style>\n",
       "<table border=\"1\" class=\"dataframe\">\n",
       "  <thead>\n",
       "    <tr style=\"text-align: right;\">\n",
       "      <th></th>\n",
       "      <th>id</th>\n",
       "      <th>Product ID</th>\n",
       "      <th>Type</th>\n",
       "      <th>Air temperature [K]</th>\n",
       "      <th>Process temperature [K]</th>\n",
       "      <th>Rotational speed [rpm]</th>\n",
       "      <th>Torque [Nm]</th>\n",
       "      <th>Tool wear [min]</th>\n",
       "      <th>Machine failure</th>\n",
       "      <th>TWF</th>\n",
       "      <th>HDF</th>\n",
       "      <th>PWF</th>\n",
       "      <th>OSF</th>\n",
       "      <th>RNF</th>\n",
       "    </tr>\n",
       "  </thead>\n",
       "  <tbody>\n",
       "    <tr>\n",
       "      <th>0</th>\n",
       "      <td>0</td>\n",
       "      <td>L50096</td>\n",
       "      <td>L</td>\n",
       "      <td>300.6</td>\n",
       "      <td>309.6</td>\n",
       "      <td>1596</td>\n",
       "      <td>36.1</td>\n",
       "      <td>140</td>\n",
       "      <td>0</td>\n",
       "      <td>0</td>\n",
       "      <td>0</td>\n",
       "      <td>0</td>\n",
       "      <td>0</td>\n",
       "      <td>0</td>\n",
       "    </tr>\n",
       "    <tr>\n",
       "      <th>1</th>\n",
       "      <td>1</td>\n",
       "      <td>M20343</td>\n",
       "      <td>M</td>\n",
       "      <td>302.6</td>\n",
       "      <td>312.1</td>\n",
       "      <td>1759</td>\n",
       "      <td>29.1</td>\n",
       "      <td>200</td>\n",
       "      <td>0</td>\n",
       "      <td>0</td>\n",
       "      <td>0</td>\n",
       "      <td>0</td>\n",
       "      <td>0</td>\n",
       "      <td>0</td>\n",
       "    </tr>\n",
       "    <tr>\n",
       "      <th>2</th>\n",
       "      <td>2</td>\n",
       "      <td>L49454</td>\n",
       "      <td>L</td>\n",
       "      <td>299.3</td>\n",
       "      <td>308.5</td>\n",
       "      <td>1805</td>\n",
       "      <td>26.5</td>\n",
       "      <td>25</td>\n",
       "      <td>0</td>\n",
       "      <td>0</td>\n",
       "      <td>0</td>\n",
       "      <td>0</td>\n",
       "      <td>0</td>\n",
       "      <td>0</td>\n",
       "    </tr>\n",
       "    <tr>\n",
       "      <th>3</th>\n",
       "      <td>3</td>\n",
       "      <td>L53355</td>\n",
       "      <td>L</td>\n",
       "      <td>301.0</td>\n",
       "      <td>310.9</td>\n",
       "      <td>1524</td>\n",
       "      <td>44.3</td>\n",
       "      <td>197</td>\n",
       "      <td>0</td>\n",
       "      <td>0</td>\n",
       "      <td>0</td>\n",
       "      <td>0</td>\n",
       "      <td>0</td>\n",
       "      <td>0</td>\n",
       "    </tr>\n",
       "    <tr>\n",
       "      <th>4</th>\n",
       "      <td>4</td>\n",
       "      <td>M24050</td>\n",
       "      <td>M</td>\n",
       "      <td>298.0</td>\n",
       "      <td>309.0</td>\n",
       "      <td>1641</td>\n",
       "      <td>35.4</td>\n",
       "      <td>34</td>\n",
       "      <td>0</td>\n",
       "      <td>0</td>\n",
       "      <td>0</td>\n",
       "      <td>0</td>\n",
       "      <td>0</td>\n",
       "      <td>0</td>\n",
       "    </tr>\n",
       "  </tbody>\n",
       "</table>\n",
       "</div>"
      ],
      "text/plain": [
       "   id Product ID Type  Air temperature [K]  Process temperature [K]  \\\n",
       "0   0     L50096    L                300.6                    309.6   \n",
       "1   1     M20343    M                302.6                    312.1   \n",
       "2   2     L49454    L                299.3                    308.5   \n",
       "3   3     L53355    L                301.0                    310.9   \n",
       "4   4     M24050    M                298.0                    309.0   \n",
       "\n",
       "   Rotational speed [rpm]  Torque [Nm]  Tool wear [min]  Machine failure  TWF  \\\n",
       "0                    1596         36.1              140                0    0   \n",
       "1                    1759         29.1              200                0    0   \n",
       "2                    1805         26.5               25                0    0   \n",
       "3                    1524         44.3              197                0    0   \n",
       "4                    1641         35.4               34                0    0   \n",
       "\n",
       "   HDF  PWF  OSF  RNF  \n",
       "0    0    0    0    0  \n",
       "1    0    0    0    0  \n",
       "2    0    0    0    0  \n",
       "3    0    0    0    0  \n",
       "4    0    0    0    0  "
      ]
     },
     "execution_count": 2,
     "metadata": {},
     "output_type": "execute_result"
    }
   ],
   "source": [
    "import numpy as np\n",
    "import pandas as pd\n",
    "\n",
    "data = pd.read_csv('data/train.csv')\n",
    "data.head()"
   ]
  },
  {
   "cell_type": "markdown",
   "metadata": {},
   "source": [
    "Note: TWF, HDF, PWF, OSF and RNF are different types of failures (eg tool wear, heat dissipation, power wear, overstrain and random failures respectively). You will decide whether to repair a machine before the failure, and thus before you would know `Machine failure` or any of the failure type information"
   ]
  },
  {
   "cell_type": "code",
   "execution_count": 3,
   "metadata": {},
   "outputs": [
    {
     "data": {
      "text/html": [
       "<div>\n",
       "<style scoped>\n",
       "    .dataframe tbody tr th:only-of-type {\n",
       "        vertical-align: middle;\n",
       "    }\n",
       "\n",
       "    .dataframe tbody tr th {\n",
       "        vertical-align: top;\n",
       "    }\n",
       "\n",
       "    .dataframe thead th {\n",
       "        text-align: right;\n",
       "    }\n",
       "</style>\n",
       "<table border=\"1\" class=\"dataframe\">\n",
       "  <thead>\n",
       "    <tr style=\"text-align: right;\">\n",
       "      <th></th>\n",
       "      <th>id</th>\n",
       "      <th>Air temperature [K]</th>\n",
       "      <th>Process temperature [K]</th>\n",
       "      <th>Rotational speed [rpm]</th>\n",
       "      <th>Torque [Nm]</th>\n",
       "      <th>Tool wear [min]</th>\n",
       "      <th>Machine failure</th>\n",
       "      <th>TWF</th>\n",
       "      <th>HDF</th>\n",
       "      <th>PWF</th>\n",
       "      <th>OSF</th>\n",
       "      <th>RNF</th>\n",
       "    </tr>\n",
       "  </thead>\n",
       "  <tbody>\n",
       "    <tr>\n",
       "      <th>count</th>\n",
       "      <td>2148.000000</td>\n",
       "      <td>2148.000000</td>\n",
       "      <td>2148.000000</td>\n",
       "      <td>2148.000000</td>\n",
       "      <td>2148.000000</td>\n",
       "      <td>2148.000000</td>\n",
       "      <td>2148.0</td>\n",
       "      <td>2148.000000</td>\n",
       "      <td>2148.000000</td>\n",
       "      <td>2148.000000</td>\n",
       "      <td>2148.000000</td>\n",
       "      <td>2148.000000</td>\n",
       "    </tr>\n",
       "    <tr>\n",
       "      <th>mean</th>\n",
       "      <td>68681.000466</td>\n",
       "      <td>300.860242</td>\n",
       "      <td>310.280214</td>\n",
       "      <td>1453.563315</td>\n",
       "      <td>50.149395</td>\n",
       "      <td>132.957169</td>\n",
       "      <td>1.0</td>\n",
       "      <td>0.098696</td>\n",
       "      <td>0.324953</td>\n",
       "      <td>0.150838</td>\n",
       "      <td>0.249534</td>\n",
       "      <td>0.002793</td>\n",
       "    </tr>\n",
       "    <tr>\n",
       "      <th>std</th>\n",
       "      <td>39000.245558</td>\n",
       "      <td>2.004966</td>\n",
       "      <td>1.256133</td>\n",
       "      <td>283.389995</td>\n",
       "      <td>13.263687</td>\n",
       "      <td>73.542665</td>\n",
       "      <td>0.0</td>\n",
       "      <td>0.298323</td>\n",
       "      <td>0.468467</td>\n",
       "      <td>0.357974</td>\n",
       "      <td>0.432844</td>\n",
       "      <td>0.052790</td>\n",
       "    </tr>\n",
       "    <tr>\n",
       "      <th>min</th>\n",
       "      <td>130.000000</td>\n",
       "      <td>295.600000</td>\n",
       "      <td>306.000000</td>\n",
       "      <td>1181.000000</td>\n",
       "      <td>3.800000</td>\n",
       "      <td>0.000000</td>\n",
       "      <td>1.0</td>\n",
       "      <td>0.000000</td>\n",
       "      <td>0.000000</td>\n",
       "      <td>0.000000</td>\n",
       "      <td>0.000000</td>\n",
       "      <td>0.000000</td>\n",
       "    </tr>\n",
       "    <tr>\n",
       "      <th>25%</th>\n",
       "      <td>34544.500000</td>\n",
       "      <td>299.100000</td>\n",
       "      <td>309.575000</td>\n",
       "      <td>1340.000000</td>\n",
       "      <td>45.600000</td>\n",
       "      <td>69.750000</td>\n",
       "      <td>1.0</td>\n",
       "      <td>0.000000</td>\n",
       "      <td>0.000000</td>\n",
       "      <td>0.000000</td>\n",
       "      <td>0.000000</td>\n",
       "      <td>0.000000</td>\n",
       "    </tr>\n",
       "    <tr>\n",
       "      <th>50%</th>\n",
       "      <td>67957.500000</td>\n",
       "      <td>301.400000</td>\n",
       "      <td>310.400000</td>\n",
       "      <td>1369.000000</td>\n",
       "      <td>52.150000</td>\n",
       "      <td>149.000000</td>\n",
       "      <td>1.0</td>\n",
       "      <td>0.000000</td>\n",
       "      <td>0.000000</td>\n",
       "      <td>0.000000</td>\n",
       "      <td>0.000000</td>\n",
       "      <td>0.000000</td>\n",
       "    </tr>\n",
       "    <tr>\n",
       "      <th>75%</th>\n",
       "      <td>102714.250000</td>\n",
       "      <td>302.400000</td>\n",
       "      <td>311.100000</td>\n",
       "      <td>1433.000000</td>\n",
       "      <td>58.500000</td>\n",
       "      <td>201.000000</td>\n",
       "      <td>1.0</td>\n",
       "      <td>0.000000</td>\n",
       "      <td>1.000000</td>\n",
       "      <td>0.000000</td>\n",
       "      <td>0.000000</td>\n",
       "      <td>0.000000</td>\n",
       "    </tr>\n",
       "    <tr>\n",
       "      <th>max</th>\n",
       "      <td>136266.000000</td>\n",
       "      <td>304.400000</td>\n",
       "      <td>313.600000</td>\n",
       "      <td>2886.000000</td>\n",
       "      <td>76.600000</td>\n",
       "      <td>253.000000</td>\n",
       "      <td>1.0</td>\n",
       "      <td>1.000000</td>\n",
       "      <td>1.000000</td>\n",
       "      <td>1.000000</td>\n",
       "      <td>1.000000</td>\n",
       "      <td>1.000000</td>\n",
       "    </tr>\n",
       "  </tbody>\n",
       "</table>\n",
       "</div>"
      ],
      "text/plain": [
       "                  id  Air temperature [K]  Process temperature [K]  \\\n",
       "count    2148.000000          2148.000000              2148.000000   \n",
       "mean    68681.000466           300.860242               310.280214   \n",
       "std     39000.245558             2.004966                 1.256133   \n",
       "min       130.000000           295.600000               306.000000   \n",
       "25%     34544.500000           299.100000               309.575000   \n",
       "50%     67957.500000           301.400000               310.400000   \n",
       "75%    102714.250000           302.400000               311.100000   \n",
       "max    136266.000000           304.400000               313.600000   \n",
       "\n",
       "       Rotational speed [rpm]  Torque [Nm]  Tool wear [min]  Machine failure  \\\n",
       "count             2148.000000  2148.000000      2148.000000           2148.0   \n",
       "mean              1453.563315    50.149395       132.957169              1.0   \n",
       "std                283.389995    13.263687        73.542665              0.0   \n",
       "min               1181.000000     3.800000         0.000000              1.0   \n",
       "25%               1340.000000    45.600000        69.750000              1.0   \n",
       "50%               1369.000000    52.150000       149.000000              1.0   \n",
       "75%               1433.000000    58.500000       201.000000              1.0   \n",
       "max               2886.000000    76.600000       253.000000              1.0   \n",
       "\n",
       "               TWF          HDF          PWF          OSF          RNF  \n",
       "count  2148.000000  2148.000000  2148.000000  2148.000000  2148.000000  \n",
       "mean      0.098696     0.324953     0.150838     0.249534     0.002793  \n",
       "std       0.298323     0.468467     0.357974     0.432844     0.052790  \n",
       "min       0.000000     0.000000     0.000000     0.000000     0.000000  \n",
       "25%       0.000000     0.000000     0.000000     0.000000     0.000000  \n",
       "50%       0.000000     0.000000     0.000000     0.000000     0.000000  \n",
       "75%       0.000000     1.000000     0.000000     0.000000     0.000000  \n",
       "max       1.000000     1.000000     1.000000     1.000000     1.000000  "
      ]
     },
     "execution_count": 3,
     "metadata": {},
     "output_type": "execute_result"
    }
   ],
   "source": [
    "# Add any EDA you want to do here. You do not need to include it in the final report\n",
    "\n",
    "data[data['Machine failure'] == 1].describe()"
   ]
  },
  {
   "cell_type": "code",
   "execution_count": 4,
   "metadata": {},
   "outputs": [
    {
     "data": {
      "text/html": [
       "<div>\n",
       "<style scoped>\n",
       "    .dataframe tbody tr th:only-of-type {\n",
       "        vertical-align: middle;\n",
       "    }\n",
       "\n",
       "    .dataframe tbody tr th {\n",
       "        vertical-align: top;\n",
       "    }\n",
       "\n",
       "    .dataframe thead th {\n",
       "        text-align: right;\n",
       "    }\n",
       "</style>\n",
       "<table border=\"1\" class=\"dataframe\">\n",
       "  <thead>\n",
       "    <tr style=\"text-align: right;\">\n",
       "      <th></th>\n",
       "      <th>id</th>\n",
       "      <th>Air temperature [K]</th>\n",
       "      <th>Process temperature [K]</th>\n",
       "      <th>Rotational speed [rpm]</th>\n",
       "      <th>Torque [Nm]</th>\n",
       "      <th>Tool wear [min]</th>\n",
       "      <th>Machine failure</th>\n",
       "      <th>TWF</th>\n",
       "      <th>HDF</th>\n",
       "      <th>PWF</th>\n",
       "      <th>OSF</th>\n",
       "      <th>RNF</th>\n",
       "    </tr>\n",
       "  </thead>\n",
       "  <tbody>\n",
       "    <tr>\n",
       "      <th>count</th>\n",
       "      <td>134281.000000</td>\n",
       "      <td>134281.000000</td>\n",
       "      <td>134281.000000</td>\n",
       "      <td>134281.000000</td>\n",
       "      <td>134281.000000</td>\n",
       "      <td>134281.000000</td>\n",
       "      <td>134281.0</td>\n",
       "      <td>134281.0</td>\n",
       "      <td>134281.000000</td>\n",
       "      <td>134281.000000</td>\n",
       "      <td>134281.000000</td>\n",
       "      <td>134281.000000</td>\n",
       "    </tr>\n",
       "    <tr>\n",
       "      <th>mean</th>\n",
       "      <td>68206.529718</td>\n",
       "      <td>299.846820</td>\n",
       "      <td>309.935645</td>\n",
       "      <td>1521.399148</td>\n",
       "      <td>40.191867</td>\n",
       "      <td>103.952234</td>\n",
       "      <td>0.0</td>\n",
       "      <td>0.0</td>\n",
       "      <td>0.000045</td>\n",
       "      <td>0.000022</td>\n",
       "      <td>0.000030</td>\n",
       "      <td>0.002249</td>\n",
       "    </tr>\n",
       "    <tr>\n",
       "      <th>std</th>\n",
       "      <td>39390.008284</td>\n",
       "      <td>1.855531</td>\n",
       "      <td>1.386470</td>\n",
       "      <td>134.904503</td>\n",
       "      <td>8.310852</td>\n",
       "      <td>63.696575</td>\n",
       "      <td>0.0</td>\n",
       "      <td>0.0</td>\n",
       "      <td>0.006684</td>\n",
       "      <td>0.004727</td>\n",
       "      <td>0.005458</td>\n",
       "      <td>0.047371</td>\n",
       "    </tr>\n",
       "    <tr>\n",
       "      <th>min</th>\n",
       "      <td>0.000000</td>\n",
       "      <td>295.300000</td>\n",
       "      <td>305.800000</td>\n",
       "      <td>1183.000000</td>\n",
       "      <td>4.200000</td>\n",
       "      <td>0.000000</td>\n",
       "      <td>0.0</td>\n",
       "      <td>0.0</td>\n",
       "      <td>0.000000</td>\n",
       "      <td>0.000000</td>\n",
       "      <td>0.000000</td>\n",
       "      <td>0.000000</td>\n",
       "    </tr>\n",
       "    <tr>\n",
       "      <th>25%</th>\n",
       "      <td>34098.000000</td>\n",
       "      <td>298.300000</td>\n",
       "      <td>308.700000</td>\n",
       "      <td>1434.000000</td>\n",
       "      <td>34.600000</td>\n",
       "      <td>48.000000</td>\n",
       "      <td>0.0</td>\n",
       "      <td>0.0</td>\n",
       "      <td>0.000000</td>\n",
       "      <td>0.000000</td>\n",
       "      <td>0.000000</td>\n",
       "      <td>0.000000</td>\n",
       "    </tr>\n",
       "    <tr>\n",
       "      <th>50%</th>\n",
       "      <td>68219.000000</td>\n",
       "      <td>300.000000</td>\n",
       "      <td>310.000000</td>\n",
       "      <td>1495.000000</td>\n",
       "      <td>40.300000</td>\n",
       "      <td>105.000000</td>\n",
       "      <td>0.0</td>\n",
       "      <td>0.0</td>\n",
       "      <td>0.000000</td>\n",
       "      <td>0.000000</td>\n",
       "      <td>0.000000</td>\n",
       "      <td>0.000000</td>\n",
       "    </tr>\n",
       "    <tr>\n",
       "      <th>75%</th>\n",
       "      <td>102314.000000</td>\n",
       "      <td>301.100000</td>\n",
       "      <td>310.900000</td>\n",
       "      <td>1581.000000</td>\n",
       "      <td>45.900000</td>\n",
       "      <td>158.000000</td>\n",
       "      <td>0.0</td>\n",
       "      <td>0.0</td>\n",
       "      <td>0.000000</td>\n",
       "      <td>0.000000</td>\n",
       "      <td>0.000000</td>\n",
       "      <td>0.000000</td>\n",
       "    </tr>\n",
       "    <tr>\n",
       "      <th>max</th>\n",
       "      <td>136428.000000</td>\n",
       "      <td>304.400000</td>\n",
       "      <td>313.800000</td>\n",
       "      <td>2874.000000</td>\n",
       "      <td>75.400000</td>\n",
       "      <td>253.000000</td>\n",
       "      <td>0.0</td>\n",
       "      <td>0.0</td>\n",
       "      <td>1.000000</td>\n",
       "      <td>1.000000</td>\n",
       "      <td>1.000000</td>\n",
       "      <td>1.000000</td>\n",
       "    </tr>\n",
       "  </tbody>\n",
       "</table>\n",
       "</div>"
      ],
      "text/plain": [
       "                  id  Air temperature [K]  Process temperature [K]  \\\n",
       "count  134281.000000        134281.000000            134281.000000   \n",
       "mean    68206.529718           299.846820               309.935645   \n",
       "std     39390.008284             1.855531                 1.386470   \n",
       "min         0.000000           295.300000               305.800000   \n",
       "25%     34098.000000           298.300000               308.700000   \n",
       "50%     68219.000000           300.000000               310.000000   \n",
       "75%    102314.000000           301.100000               310.900000   \n",
       "max    136428.000000           304.400000               313.800000   \n",
       "\n",
       "       Rotational speed [rpm]    Torque [Nm]  Tool wear [min]  \\\n",
       "count           134281.000000  134281.000000    134281.000000   \n",
       "mean              1521.399148      40.191867       103.952234   \n",
       "std                134.904503       8.310852        63.696575   \n",
       "min               1183.000000       4.200000         0.000000   \n",
       "25%               1434.000000      34.600000        48.000000   \n",
       "50%               1495.000000      40.300000       105.000000   \n",
       "75%               1581.000000      45.900000       158.000000   \n",
       "max               2874.000000      75.400000       253.000000   \n",
       "\n",
       "       Machine failure       TWF            HDF            PWF            OSF  \\\n",
       "count         134281.0  134281.0  134281.000000  134281.000000  134281.000000   \n",
       "mean               0.0       0.0       0.000045       0.000022       0.000030   \n",
       "std                0.0       0.0       0.006684       0.004727       0.005458   \n",
       "min                0.0       0.0       0.000000       0.000000       0.000000   \n",
       "25%                0.0       0.0       0.000000       0.000000       0.000000   \n",
       "50%                0.0       0.0       0.000000       0.000000       0.000000   \n",
       "75%                0.0       0.0       0.000000       0.000000       0.000000   \n",
       "max                0.0       0.0       1.000000       1.000000       1.000000   \n",
       "\n",
       "                 RNF  \n",
       "count  134281.000000  \n",
       "mean        0.002249  \n",
       "std         0.047371  \n",
       "min         0.000000  \n",
       "25%         0.000000  \n",
       "50%         0.000000  \n",
       "75%         0.000000  \n",
       "max         1.000000  "
      ]
     },
     "execution_count": 4,
     "metadata": {},
     "output_type": "execute_result"
    }
   ],
   "source": [
    "data[data['Machine failure'] == 0].describe()"
   ]
  },
  {
   "cell_type": "markdown",
   "metadata": {},
   "source": [
    "# Modeling\n",
    "\n",
    "You can use this model or change it to another model you like"
   ]
  },
  {
   "cell_type": "code",
   "execution_count": 5,
   "metadata": {},
   "outputs": [
    {
     "data": {
      "text/html": [
       "<style>#sk-container-id-1 {color: black;background-color: white;}#sk-container-id-1 pre{padding: 0;}#sk-container-id-1 div.sk-toggleable {background-color: white;}#sk-container-id-1 label.sk-toggleable__label {cursor: pointer;display: block;width: 100%;margin-bottom: 0;padding: 0.3em;box-sizing: border-box;text-align: center;}#sk-container-id-1 label.sk-toggleable__label-arrow:before {content: \"▸\";float: left;margin-right: 0.25em;color: #696969;}#sk-container-id-1 label.sk-toggleable__label-arrow:hover:before {color: black;}#sk-container-id-1 div.sk-estimator:hover label.sk-toggleable__label-arrow:before {color: black;}#sk-container-id-1 div.sk-toggleable__content {max-height: 0;max-width: 0;overflow: hidden;text-align: left;background-color: #f0f8ff;}#sk-container-id-1 div.sk-toggleable__content pre {margin: 0.2em;color: black;border-radius: 0.25em;background-color: #f0f8ff;}#sk-container-id-1 input.sk-toggleable__control:checked~div.sk-toggleable__content {max-height: 200px;max-width: 100%;overflow: auto;}#sk-container-id-1 input.sk-toggleable__control:checked~label.sk-toggleable__label-arrow:before {content: \"▾\";}#sk-container-id-1 div.sk-estimator input.sk-toggleable__control:checked~label.sk-toggleable__label {background-color: #d4ebff;}#sk-container-id-1 div.sk-label input.sk-toggleable__control:checked~label.sk-toggleable__label {background-color: #d4ebff;}#sk-container-id-1 input.sk-hidden--visually {border: 0;clip: rect(1px 1px 1px 1px);clip: rect(1px, 1px, 1px, 1px);height: 1px;margin: -1px;overflow: hidden;padding: 0;position: absolute;width: 1px;}#sk-container-id-1 div.sk-estimator {font-family: monospace;background-color: #f0f8ff;border: 1px dotted black;border-radius: 0.25em;box-sizing: border-box;margin-bottom: 0.5em;}#sk-container-id-1 div.sk-estimator:hover {background-color: #d4ebff;}#sk-container-id-1 div.sk-parallel-item::after {content: \"\";width: 100%;border-bottom: 1px solid gray;flex-grow: 1;}#sk-container-id-1 div.sk-label:hover label.sk-toggleable__label {background-color: #d4ebff;}#sk-container-id-1 div.sk-serial::before {content: \"\";position: absolute;border-left: 1px solid gray;box-sizing: border-box;top: 0;bottom: 0;left: 50%;z-index: 0;}#sk-container-id-1 div.sk-serial {display: flex;flex-direction: column;align-items: center;background-color: white;padding-right: 0.2em;padding-left: 0.2em;position: relative;}#sk-container-id-1 div.sk-item {position: relative;z-index: 1;}#sk-container-id-1 div.sk-parallel {display: flex;align-items: stretch;justify-content: center;background-color: white;position: relative;}#sk-container-id-1 div.sk-item::before, #sk-container-id-1 div.sk-parallel-item::before {content: \"\";position: absolute;border-left: 1px solid gray;box-sizing: border-box;top: 0;bottom: 0;left: 50%;z-index: -1;}#sk-container-id-1 div.sk-parallel-item {display: flex;flex-direction: column;z-index: 1;position: relative;background-color: white;}#sk-container-id-1 div.sk-parallel-item:first-child::after {align-self: flex-end;width: 50%;}#sk-container-id-1 div.sk-parallel-item:last-child::after {align-self: flex-start;width: 50%;}#sk-container-id-1 div.sk-parallel-item:only-child::after {width: 0;}#sk-container-id-1 div.sk-dashed-wrapped {border: 1px dashed gray;margin: 0 0.4em 0.5em 0.4em;box-sizing: border-box;padding-bottom: 0.4em;background-color: white;}#sk-container-id-1 div.sk-label label {font-family: monospace;font-weight: bold;display: inline-block;line-height: 1.2em;}#sk-container-id-1 div.sk-label-container {text-align: center;}#sk-container-id-1 div.sk-container {/* jupyter's `normalize.less` sets `[hidden] { display: none; }` but bootstrap.min.css set `[hidden] { display: none !important; }` so we also need the `!important` here to be able to override the default hidden behavior on the sphinx rendered scikit-learn.org. See: https://github.com/scikit-learn/scikit-learn/issues/21755 */display: inline-block !important;position: relative;}#sk-container-id-1 div.sk-text-repr-fallback {display: none;}</style><div id=\"sk-container-id-1\" class=\"sk-top-container\"><div class=\"sk-text-repr-fallback\"><pre>Pipeline(steps=[(&#x27;preprocessor&#x27;,\n",
       "                 ColumnTransformer(remainder=&#x27;passthrough&#x27;,\n",
       "                                   transformers=[(&#x27;one_hot&#x27;, OneHotEncoder(),\n",
       "                                                  &lt;sklearn.compose._column_transformer.make_column_selector object at 0x0000028901A5D880&gt;)])),\n",
       "                (&#x27;classifier&#x27;, GradientBoostingClassifier())])</pre><b>In a Jupyter environment, please rerun this cell to show the HTML representation or trust the notebook. <br />On GitHub, the HTML representation is unable to render, please try loading this page with nbviewer.org.</b></div><div class=\"sk-container\" hidden><div class=\"sk-item sk-dashed-wrapped\"><div class=\"sk-label-container\"><div class=\"sk-label sk-toggleable\"><input class=\"sk-toggleable__control sk-hidden--visually\" id=\"sk-estimator-id-1\" type=\"checkbox\" ><label for=\"sk-estimator-id-1\" class=\"sk-toggleable__label sk-toggleable__label-arrow\">Pipeline</label><div class=\"sk-toggleable__content\"><pre>Pipeline(steps=[(&#x27;preprocessor&#x27;,\n",
       "                 ColumnTransformer(remainder=&#x27;passthrough&#x27;,\n",
       "                                   transformers=[(&#x27;one_hot&#x27;, OneHotEncoder(),\n",
       "                                                  &lt;sklearn.compose._column_transformer.make_column_selector object at 0x0000028901A5D880&gt;)])),\n",
       "                (&#x27;classifier&#x27;, GradientBoostingClassifier())])</pre></div></div></div><div class=\"sk-serial\"><div class=\"sk-item sk-dashed-wrapped\"><div class=\"sk-label-container\"><div class=\"sk-label sk-toggleable\"><input class=\"sk-toggleable__control sk-hidden--visually\" id=\"sk-estimator-id-2\" type=\"checkbox\" ><label for=\"sk-estimator-id-2\" class=\"sk-toggleable__label sk-toggleable__label-arrow\">preprocessor: ColumnTransformer</label><div class=\"sk-toggleable__content\"><pre>ColumnTransformer(remainder=&#x27;passthrough&#x27;,\n",
       "                  transformers=[(&#x27;one_hot&#x27;, OneHotEncoder(),\n",
       "                                 &lt;sklearn.compose._column_transformer.make_column_selector object at 0x0000028901A5D880&gt;)])</pre></div></div></div><div class=\"sk-parallel\"><div class=\"sk-parallel-item\"><div class=\"sk-item\"><div class=\"sk-label-container\"><div class=\"sk-label sk-toggleable\"><input class=\"sk-toggleable__control sk-hidden--visually\" id=\"sk-estimator-id-3\" type=\"checkbox\" ><label for=\"sk-estimator-id-3\" class=\"sk-toggleable__label sk-toggleable__label-arrow\">one_hot</label><div class=\"sk-toggleable__content\"><pre>&lt;sklearn.compose._column_transformer.make_column_selector object at 0x0000028901A5D880&gt;</pre></div></div></div><div class=\"sk-serial\"><div class=\"sk-item\"><div class=\"sk-estimator sk-toggleable\"><input class=\"sk-toggleable__control sk-hidden--visually\" id=\"sk-estimator-id-4\" type=\"checkbox\" ><label for=\"sk-estimator-id-4\" class=\"sk-toggleable__label sk-toggleable__label-arrow\">OneHotEncoder</label><div class=\"sk-toggleable__content\"><pre>OneHotEncoder()</pre></div></div></div></div></div></div><div class=\"sk-parallel-item\"><div class=\"sk-item\"><div class=\"sk-label-container\"><div class=\"sk-label sk-toggleable\"><input class=\"sk-toggleable__control sk-hidden--visually\" id=\"sk-estimator-id-5\" type=\"checkbox\" ><label for=\"sk-estimator-id-5\" class=\"sk-toggleable__label sk-toggleable__label-arrow\">remainder</label><div class=\"sk-toggleable__content\"><pre>[&#x27;Air temperature [K]&#x27;, &#x27;Process temperature [K]&#x27;, &#x27;Rotational speed [rpm]&#x27;, &#x27;Torque [Nm]&#x27;, &#x27;Tool wear [min]&#x27;]</pre></div></div></div><div class=\"sk-serial\"><div class=\"sk-item\"><div class=\"sk-estimator sk-toggleable\"><input class=\"sk-toggleable__control sk-hidden--visually\" id=\"sk-estimator-id-6\" type=\"checkbox\" ><label for=\"sk-estimator-id-6\" class=\"sk-toggleable__label sk-toggleable__label-arrow\">passthrough</label><div class=\"sk-toggleable__content\"><pre>passthrough</pre></div></div></div></div></div></div></div></div><div class=\"sk-item\"><div class=\"sk-estimator sk-toggleable\"><input class=\"sk-toggleable__control sk-hidden--visually\" id=\"sk-estimator-id-7\" type=\"checkbox\" ><label for=\"sk-estimator-id-7\" class=\"sk-toggleable__label sk-toggleable__label-arrow\">GradientBoostingClassifier</label><div class=\"sk-toggleable__content\"><pre>GradientBoostingClassifier()</pre></div></div></div></div></div></div></div>"
      ],
      "text/plain": [
       "Pipeline(steps=[('preprocessor',\n",
       "                 ColumnTransformer(remainder='passthrough',\n",
       "                                   transformers=[('one_hot', OneHotEncoder(),\n",
       "                                                  <sklearn.compose._column_transformer.make_column_selector object at 0x0000028901A5D880>)])),\n",
       "                ('classifier', GradientBoostingClassifier())])"
      ]
     },
     "execution_count": 5,
     "metadata": {},
     "output_type": "execute_result"
    }
   ],
   "source": [
    "from sklearn.model_selection import train_test_split\n",
    "from sklearn.ensemble import GradientBoostingClassifier\n",
    "from sklearn.pipeline import Pipeline\n",
    "from sklearn.preprocessing import OneHotEncoder\n",
    "from sklearn.compose import ColumnTransformer\n",
    "from sklearn.compose import make_column_selector as selector\n",
    "\n",
    "predictive_features = ['Type', 'Air temperature [K]', 'Process temperature [K]', 'Rotational speed [rpm]', 'Torque [Nm]', 'Tool wear [min]']\n",
    "# We split data between train and test by indexing into data. \n",
    "# This splits by time period if data came in chronological order.\n",
    "# It's also useful to keep this as a DataFrame so your decision function can access features by name\n",
    "train = data[:100_000]\n",
    "test = data[100_000:]\n",
    "\n",
    "preprocessor = ColumnTransformer(\n",
    "    transformers=[(\"one_hot\", OneHotEncoder(), selector(dtype_include=\"object\"))],\n",
    "    remainder=\"passthrough\",  # Leave numerical variables unchanged\n",
    ")\n",
    "modeling_pipeline = Pipeline([(\"preprocessor\", preprocessor), (\"classifier\", GradientBoostingClassifier())])\n",
    "modeling_pipeline.fit(train[predictive_features], train['Machine failure'])"
   ]
  },
  {
   "cell_type": "code",
   "execution_count": 6,
   "metadata": {},
   "outputs": [
    {
     "name": "stderr",
     "output_type": "stream",
     "text": [
      "Failed to detect the name of this notebook, you can set it manually with the WANDB_NOTEBOOK_NAME environment variable to enable code saving.\n",
      "\u001b[34m\u001b[1mwandb\u001b[0m: Currently logged in as: \u001b[33mnisargvp\u001b[0m. Use \u001b[1m`wandb login --relogin`\u001b[0m to force relogin\n"
     ]
    },
    {
     "data": {
      "text/html": [
       "Tracking run with wandb version 0.15.8"
      ],
      "text/plain": [
       "<IPython.core.display.HTML object>"
      ]
     },
     "metadata": {},
     "output_type": "display_data"
    },
    {
     "data": {
      "text/html": [
       "Run data is saved locally in <code>c:\\Users\\nisar\\Documents\\FDSL\\wandb_edu\\decision-opt-course\\assignment\\wandb\\run-20230818_164320-6anzqylx</code>"
      ],
      "text/plain": [
       "<IPython.core.display.HTML object>"
      ]
     },
     "metadata": {},
     "output_type": "display_data"
    },
    {
     "data": {
      "text/html": [
       "Syncing run <strong><a href='https://wandb.ai/nisargvp/Decision%20Optimization%20Assignment/runs/6anzqylx' target=\"_blank\">upbeat-smoke-42</a></strong> to <a href='https://wandb.ai/nisargvp/Decision%20Optimization%20Assignment' target=\"_blank\">Weights & Biases</a> (<a href='https://wandb.me/run' target=\"_blank\">docs</a>)<br/>"
      ],
      "text/plain": [
       "<IPython.core.display.HTML object>"
      ]
     },
     "metadata": {},
     "output_type": "display_data"
    },
    {
     "data": {
      "text/html": [
       " View project at <a href='https://wandb.ai/nisargvp/Decision%20Optimization%20Assignment' target=\"_blank\">https://wandb.ai/nisargvp/Decision%20Optimization%20Assignment</a>"
      ],
      "text/plain": [
       "<IPython.core.display.HTML object>"
      ]
     },
     "metadata": {},
     "output_type": "display_data"
    },
    {
     "data": {
      "text/html": [
       " View run at <a href='https://wandb.ai/nisargvp/Decision%20Optimization%20Assignment/runs/6anzqylx' target=\"_blank\">https://wandb.ai/nisargvp/Decision%20Optimization%20Assignment/runs/6anzqylx</a>"
      ],
      "text/plain": [
       "<IPython.core.display.HTML object>"
      ]
     },
     "metadata": {},
     "output_type": "display_data"
    },
    {
     "name": "stderr",
     "output_type": "stream",
     "text": [
      "\u001b[34m\u001b[1mwandb\u001b[0m: \u001b[33mWARNING\u001b[0m wandb.plots.* functions are deprecated and will be removed in a future release. Please use wandb.plot.* instead.\n",
      "\u001b[34m\u001b[1mwandb\u001b[0m: Visualizing heatmap.\n",
      "c:\\Users\\nisar\\anaconda3\\envs\\modern_ts\\lib\\site-packages\\sklearn\\utils\\deprecation.py:87: FutureWarning: Function plot_roc_curve is deprecated; Function :func:`plot_roc_curve` is deprecated in 1.0 and will be removed in 1.2. Use one of the class methods: :meth:`sklearn.metrics.RocCurveDisplay.from_predictions` or :meth:`sklearn.metrics.RocCurveDisplay.from_estimator`.\n",
      "  warnings.warn(msg, category=FutureWarning)\n"
     ]
    },
    {
     "data": {
      "text/html": [
       "Waiting for W&B process to finish... <strong style=\"color:green\">(success).</strong>"
      ],
      "text/plain": [
       "<IPython.core.display.HTML object>"
      ]
     },
     "metadata": {},
     "output_type": "display_data"
    },
    {
     "data": {
      "application/vnd.jupyter.widget-view+json": {
       "model_id": "3fb5240e265a4f7cb4413fd8878d480e",
       "version_major": 2,
       "version_minor": 0
      },
      "text/plain": [
       "VBox(children=(Label(value='0.025 MB of 0.025 MB uploaded (0.000 MB deduped)\\r'), FloatProgress(value=0.996030…"
      ]
     },
     "metadata": {},
     "output_type": "display_data"
    },
    {
     "data": {
      "text/html": [
       "<style>\n",
       "    table.wandb td:nth-child(1) { padding: 0 10px; text-align: left ; width: auto;} td:nth-child(2) {text-align: left ; width: 100%}\n",
       "    .wandb-row { display: flex; flex-direction: row; flex-wrap: wrap; justify-content: flex-start; width: 100% }\n",
       "    .wandb-col { display: flex; flex-direction: column; flex-basis: 100%; flex: 1; padding: 10px; }\n",
       "    </style>\n",
       "<div class=\"wandb-row\"><div class=\"wandb-col\"><h3>Run history:</h3><br/><table class=\"wandb\"><tr><td>accuracy</td><td>▁</td></tr><tr><td>f1</td><td>▁</td></tr><tr><td>precision</td><td>▁</td></tr><tr><td>recall</td><td>▁</td></tr><tr><td>roc_auc</td><td>▁</td></tr></table><br/></div><div class=\"wandb-col\"><h3>Run summary:</h3><br/><table class=\"wandb\"><tr><td>accuracy</td><td>0.98584</td></tr><tr><td>f1</td><td>0.37379</td></tr><tr><td>precision</td><td>0.65812</td></tr><tr><td>recall</td><td>0.26102</td></tr><tr><td>roc_auc</td><td>0.93088</td></tr></table><br/></div></div>"
      ],
      "text/plain": [
       "<IPython.core.display.HTML object>"
      ]
     },
     "metadata": {},
     "output_type": "display_data"
    },
    {
     "data": {
      "text/html": [
       " View run <strong style=\"color:#cdcd00\">upbeat-smoke-42</strong> at: <a href='https://wandb.ai/nisargvp/Decision%20Optimization%20Assignment/runs/6anzqylx' target=\"_blank\">https://wandb.ai/nisargvp/Decision%20Optimization%20Assignment/runs/6anzqylx</a><br/>Synced 5 W&B file(s), 2 media file(s), 1 artifact file(s) and 0 other file(s)"
      ],
      "text/plain": [
       "<IPython.core.display.HTML object>"
      ]
     },
     "metadata": {},
     "output_type": "display_data"
    },
    {
     "data": {
      "text/html": [
       "Find logs at: <code>.\\wandb\\run-20230818_164320-6anzqylx\\logs</code>"
      ],
      "text/plain": [
       "<IPython.core.display.HTML object>"
      ]
     },
     "metadata": {},
     "output_type": "display_data"
    },
    {
     "data": {
      "image/png": "[encoded data removed]",
      "text/plain": [
       "<Figure size 640x480 with 1 Axes>"
      ]
     },
     "metadata": {},
     "output_type": "display_data"
    }
   ],
   "source": [
    "import wandb\n",
    "from sklearn.metrics import confusion_matrix, accuracy_score, precision_score, recall_score, f1_score, roc_auc_score, plot_roc_curve\n",
    "\n",
    "project_name = 'Decision Optimization Assignment'\n",
    "# start a new run\n",
    "run = wandb.init(project=project_name)\n",
    "\n",
    "# predict labels for test set\n",
    "test_predictions = modeling_pipeline.predict(test[predictive_features])\n",
    "test_probabilities = modeling_pipeline.predict_proba(test[predictive_features])[:, 1]\n",
    "\n",
    "# calculate metrics\n",
    "conf_mat = confusion_matrix(test['Machine failure'], test_predictions)\n",
    "accuracy = accuracy_score(test['Machine failure'], test_predictions)\n",
    "precision = precision_score(test['Machine failure'], test_predictions)\n",
    "recall = recall_score(test['Machine failure'], test_predictions)\n",
    "f1 = f1_score(test['Machine failure'], test_predictions)\n",
    "roc_auc = roc_auc_score(test['Machine failure'], test_probabilities)\n",
    "\n",
    "# calculate feature importance for tree-based model\n",
    "feature_importance = modeling_pipeline.named_steps['classifier'].feature_importances_\n",
    "\n",
    "# log metrics to wandb\n",
    "wandb.log({\"confusion_matrix\": wandb.plots.HeatMap(\n",
    "    np.unique(test['Machine failure']), \n",
    "    np.unique(test['Machine failure']), \n",
    "    conf_mat, \n",
    "    show_text=True\n",
    ")})\n",
    "wandb.log({\"accuracy\": accuracy})\n",
    "wandb.log({\"precision\": precision})\n",
    "wandb.log({\"recall\": recall})\n",
    "wandb.log({\"f1\": f1})\n",
    "wandb.log({\"roc_auc\": roc_auc})\n",
    "wandb.log({\"feature_importance\": wandb.Histogram(feature_importance)})\n",
    "\n",
    "# plot roc curve\n",
    "ax = plot_roc_curve(modeling_pipeline, test[predictive_features], test['Machine failure'])\n",
    "ax.figure_.savefig(\"roc_curve.png\")\n",
    "wandb.log({\"roc_curve\": wandb.Image(\"roc_curve.png\")})\n",
    "\n",
    "# end run\n",
    "run.finish()\n"
   ]
  },
  {
   "cell_type": "markdown",
   "metadata": {},
   "source": [
    "# Simulation\n",
    "\n",
    "Your model will predict the likelihood of failure for each row in the data. You will then apply a decision function that considers `Machine Type`` and the probability of failure to decide whether to do preventive maintenance for that machine at that time.\n",
    "\n",
    "If choose to do preventive maintenance, you pay the cost shown below for `Cost of preventive maintenance` for that machine type. If you don't do maintenance and the observed data in validation is that it failed, then you pay `Cost of failure` for that machine type.\n",
    "\n",
    "| Machine Type | Cost of preventive maintenance | Cost of failure if you don't do preventive maintenance |\n",
    "|--------------|--------------------------------|--------------------------------------------------------|\n",
    "| L            | 1000                           | 30000                                                  |\n",
    "| M            | 5000                           | 250000                                                 |\n",
    "| H            | 10000                          | 800000                                                 |\n",
    "\n",
    "First, write a function that determines the costs given some data, a machine learning model to predict failure rates, and a decision function:"
   ]
  },
  {
   "cell_type": "code",
   "execution_count": 7,
   "metadata": {},
   "outputs": [],
   "source": [
    "def log_metrics(outcomes, name=\"decision_function_name\", tags = None):\n",
    "    with wandb.init(project=project_name,\n",
    "                    name=name,\n",
    "                    job_type=\"repair decision cost simulations\",\n",
    "                    tags= tags):\n",
    "        wandb.log({     \n",
    "            \"repair_costs\": outcomes[\"repair_cost\"].sum(),\n",
    "            \"failure_costs\": outcomes[\"failure_cost\"].sum(),\n",
    "            \"total_costs\": outcomes[\"repair_cost\"].sum() + outcomes[\"failure_cost\"].sum(),\n",
    "        })\n",
    "    return"
   ]
  },
  {
   "cell_type": "code",
   "execution_count": 8,
   "metadata": {},
   "outputs": [],
   "source": [
    "def cost_calculator(data, model, decision, tags=None, log=True, decision_name = \"decision_function\"):\n",
    "    \"\"\"\n",
    "    Args:\n",
    "        data (pandas.DataFrame): The dataset on which the cost is calculated.\n",
    "        model (sklearn-compatible model. Compatible with type sklearn.base.BaseEstimator): The predictive model.\n",
    "        decision_function (function): The decision function of the model.\n",
    "    \n",
    "    Returns:\n",
    "        int: The cost of using this decision function with the predictive model on this dataset.\n",
    "    \"\"\"\n",
    "    data = data.copy()\n",
    "    \n",
    "    repair_cost_df = pd.DataFrame(\n",
    "        {\n",
    "            'machine_type': ['L', 'M', 'H'],\n",
    "            'maintenance_cost': [1000, 5000, 10000],\n",
    "            'failure_cost': [30000, 250000, 800000]\n",
    "        }\n",
    "    )\n",
    "    \n",
    "    data = data.merge(repair_cost_df, how='left', left_on='Type', right_on='machine_type', validate='many_to_one').drop('machine_type', axis=1)\n",
    "    \n",
    "    data['repair_decision'] = decision\n",
    "    \n",
    "    data[\"repair_cost\"] = np.where(\n",
    "        data[\"repair_decision\"] == 1,\n",
    "        data[\"repair_decision\"] * data[\"maintenance_cost\"],\n",
    "        0\n",
    "    )\n",
    "    \n",
    "    data[\"failure_cost\"] = np.where(\n",
    "        (data[\"repair_decision\"] == 0) & (data[\"Machine failure\"] == 1),\n",
    "        data[\"failure_cost\"],\n",
    "        0\n",
    "    )\n",
    "    \n",
    "    if log:\n",
    "        log_metrics(data, decision_name, tags)\n",
    "    \n",
    "    return (data.repair_cost.sum() + data.failure_cost.sum())"
   ]
  },
  {
   "cell_type": "markdown",
   "metadata": {},
   "source": [
    "Here is an example decision function."
   ]
  },
  {
   "cell_type": "code",
   "execution_count": 9,
   "metadata": {},
   "outputs": [
    {
     "data": {
      "text/html": [
       "Tracking run with wandb version 0.15.8"
      ],
      "text/plain": [
       "<IPython.core.display.HTML object>"
      ]
     },
     "metadata": {},
     "output_type": "display_data"
    },
    {
     "data": {
      "text/html": [
       "Run data is saved locally in <code>c:\\Users\\nisar\\Documents\\FDSL\\wandb_edu\\decision-opt-course\\assignment\\wandb\\run-20230818_164329-nbodmp74</code>"
      ],
      "text/plain": [
       "<IPython.core.display.HTML object>"
      ]
     },
     "metadata": {},
     "output_type": "display_data"
    },
    {
     "data": {
      "text/html": [
       "Syncing run <strong><a href='https://wandb.ai/nisargvp/Decision%20Optimization%20Assignment/runs/nbodmp74' target=\"_blank\">first_decision</a></strong> to <a href='https://wandb.ai/nisargvp/Decision%20Optimization%20Assignment' target=\"_blank\">Weights & Biases</a> (<a href='https://wandb.me/run' target=\"_blank\">docs</a>)<br/>"
      ],
      "text/plain": [
       "<IPython.core.display.HTML object>"
      ]
     },
     "metadata": {},
     "output_type": "display_data"
    },
    {
     "data": {
      "text/html": [
       " View project at <a href='https://wandb.ai/nisargvp/Decision%20Optimization%20Assignment' target=\"_blank\">https://wandb.ai/nisargvp/Decision%20Optimization%20Assignment</a>"
      ],
      "text/plain": [
       "<IPython.core.display.HTML object>"
      ]
     },
     "metadata": {},
     "output_type": "display_data"
    },
    {
     "data": {
      "text/html": [
       " View run at <a href='https://wandb.ai/nisargvp/Decision%20Optimization%20Assignment/runs/nbodmp74' target=\"_blank\">https://wandb.ai/nisargvp/Decision%20Optimization%20Assignment/runs/nbodmp74</a>"
      ],
      "text/plain": [
       "<IPython.core.display.HTML object>"
      ]
     },
     "metadata": {},
     "output_type": "display_data"
    },
    {
     "data": {
      "text/html": [
       "Waiting for W&B process to finish... <strong style=\"color:green\">(success).</strong>"
      ],
      "text/plain": [
       "<IPython.core.display.HTML object>"
      ]
     },
     "metadata": {},
     "output_type": "display_data"
    },
    {
     "data": {
      "application/vnd.jupyter.widget-view+json": {
       "model_id": "120abc4434f84489af1da1ad9946b3f9",
       "version_major": 2,
       "version_minor": 0
      },
      "text/plain": [
       "VBox(children=(Label(value='0.001 MB of 0.007 MB uploaded (0.000 MB deduped)\\r'), FloatProgress(value=0.175919…"
      ]
     },
     "metadata": {},
     "output_type": "display_data"
    },
    {
     "data": {
      "text/html": [
       "<style>\n",
       "    table.wandb td:nth-child(1) { padding: 0 10px; text-align: left ; width: auto;} td:nth-child(2) {text-align: left ; width: 100%}\n",
       "    .wandb-row { display: flex; flex-direction: row; flex-wrap: wrap; justify-content: flex-start; width: 100% }\n",
       "    .wandb-col { display: flex; flex-direction: column; flex-basis: 100%; flex: 1; padding: 10px; }\n",
       "    </style>\n",
       "<div class=\"wandb-row\"><div class=\"wandb-col\"><h3>Run history:</h3><br/><table class=\"wandb\"><tr><td>failure_costs</td><td>▁</td></tr><tr><td>repair_costs</td><td>▁</td></tr><tr><td>total_costs</td><td>▁</td></tr></table><br/></div><div class=\"wandb-col\"><h3>Run summary:</h3><br/><table class=\"wandb\"><tr><td>failure_costs</td><td>12660000</td></tr><tr><td>repair_costs</td><td>14353000</td></tr><tr><td>total_costs</td><td>27013000</td></tr></table><br/></div></div>"
      ],
      "text/plain": [
       "<IPython.core.display.HTML object>"
      ]
     },
     "metadata": {},
     "output_type": "display_data"
    },
    {
     "data": {
      "text/html": [
       " View run <strong style=\"color:#cdcd00\">first_decision</strong> at: <a href='https://wandb.ai/nisargvp/Decision%20Optimization%20Assignment/runs/nbodmp74' target=\"_blank\">https://wandb.ai/nisargvp/Decision%20Optimization%20Assignment/runs/nbodmp74</a><br/>Synced 4 W&B file(s), 0 media file(s), 0 artifact file(s) and 0 other file(s)"
      ],
      "text/plain": [
       "<IPython.core.display.HTML object>"
      ]
     },
     "metadata": {},
     "output_type": "display_data"
    },
    {
     "data": {
      "text/html": [
       "Find logs at: <code>.\\wandb\\run-20230818_164329-nbodmp74\\logs</code>"
      ],
      "text/plain": [
       "<IPython.core.display.HTML object>"
      ]
     },
     "metadata": {},
     "output_type": "display_data"
    },
    {
     "data": {
      "text/plain": [
       "27013000"
      ]
     },
     "execution_count": 9,
     "metadata": {},
     "output_type": "execute_result"
    }
   ],
   "source": [
    "def first_decision_function(data, model):\n",
    "    \"\"\"\n",
    "    Args:\n",
    "        data (pandas.DataFrame): Data to make a decision on\n",
    "        model (sklearn model): A trained sklearn classifier\n",
    "    \n",
    "    Returns:\n",
    "        repair_decision (bool): A decision to repair or not to repair\n",
    "    \"\"\"\n",
    "    fixed_decision_threshold = 0.01\n",
    "    probability_of_failure = model.predict_proba(data[predictive_features])[:, 1]\n",
    "    repair_decision = probability_of_failure > fixed_decision_threshold\n",
    "    return repair_decision\n",
    "\n",
    "first_decision = first_decision_function(test, modeling_pipeline,)\n",
    "cost_calculator(test, modeling_pipeline, first_decision, log=True, decision_name='first_decision')"
   ]
  },
  {
   "cell_type": "code",
   "execution_count": 10,
   "metadata": {},
   "outputs": [
    {
     "data": {
      "text/html": [
       "Tracking run with wandb version 0.15.8"
      ],
      "text/plain": [
       "<IPython.core.display.HTML object>"
      ]
     },
     "metadata": {},
     "output_type": "display_data"
    },
    {
     "data": {
      "text/html": [
       "Run data is saved locally in <code>c:\\Users\\nisar\\Documents\\FDSL\\wandb_edu\\decision-opt-course\\assignment\\wandb\\run-20230818_164334-ytd680qa</code>"
      ],
      "text/plain": [
       "<IPython.core.display.HTML object>"
      ]
     },
     "metadata": {},
     "output_type": "display_data"
    },
    {
     "data": {
      "text/html": [
       "Syncing run <strong><a href='https://wandb.ai/nisargvp/Decision%20Optimization%20Assignment/runs/ytd680qa' target=\"_blank\">second_decision</a></strong> to <a href='https://wandb.ai/nisargvp/Decision%20Optimization%20Assignment' target=\"_blank\">Weights & Biases</a> (<a href='https://wandb.me/run' target=\"_blank\">docs</a>)<br/>"
      ],
      "text/plain": [
       "<IPython.core.display.HTML object>"
      ]
     },
     "metadata": {},
     "output_type": "display_data"
    },
    {
     "data": {
      "text/html": [
       " View project at <a href='https://wandb.ai/nisargvp/Decision%20Optimization%20Assignment' target=\"_blank\">https://wandb.ai/nisargvp/Decision%20Optimization%20Assignment</a>"
      ],
      "text/plain": [
       "<IPython.core.display.HTML object>"
      ]
     },
     "metadata": {},
     "output_type": "display_data"
    },
    {
     "data": {
      "text/html": [
       " View run at <a href='https://wandb.ai/nisargvp/Decision%20Optimization%20Assignment/runs/ytd680qa' target=\"_blank\">https://wandb.ai/nisargvp/Decision%20Optimization%20Assignment/runs/ytd680qa</a>"
      ],
      "text/plain": [
       "<IPython.core.display.HTML object>"
      ]
     },
     "metadata": {},
     "output_type": "display_data"
    },
    {
     "data": {
      "text/html": [
       "Waiting for W&B process to finish... <strong style=\"color:green\">(success).</strong>"
      ],
      "text/plain": [
       "<IPython.core.display.HTML object>"
      ]
     },
     "metadata": {},
     "output_type": "display_data"
    },
    {
     "data": {
      "application/vnd.jupyter.widget-view+json": {
       "model_id": "37261c90967f4a4eb03ba69c57024604",
       "version_major": 2,
       "version_minor": 0
      },
      "text/plain": [
       "VBox(children=(Label(value='0.001 MB of 0.007 MB uploaded (0.000 MB deduped)\\r'), FloatProgress(value=0.176028…"
      ]
     },
     "metadata": {},
     "output_type": "display_data"
    },
    {
     "data": {
      "text/html": [
       "<style>\n",
       "    table.wandb td:nth-child(1) { padding: 0 10px; text-align: left ; width: auto;} td:nth-child(2) {text-align: left ; width: 100%}\n",
       "    .wandb-row { display: flex; flex-direction: row; flex-wrap: wrap; justify-content: flex-start; width: 100% }\n",
       "    .wandb-col { display: flex; flex-direction: column; flex-basis: 100%; flex: 1; padding: 10px; }\n",
       "    </style>\n",
       "<div class=\"wandb-row\"><div class=\"wandb-col\"><h3>Run history:</h3><br/><table class=\"wandb\"><tr><td>failure_costs</td><td>▁</td></tr><tr><td>repair_costs</td><td>▁</td></tr><tr><td>total_costs</td><td>▁</td></tr></table><br/></div><div class=\"wandb-col\"><h3>Run summary:</h3><br/><table class=\"wandb\"><tr><td>failure_costs</td><td>10740000</td></tr><tr><td>repair_costs</td><td>18619000</td></tr><tr><td>total_costs</td><td>29359000</td></tr></table><br/></div></div>"
      ],
      "text/plain": [
       "<IPython.core.display.HTML object>"
      ]
     },
     "metadata": {},
     "output_type": "display_data"
    },
    {
     "data": {
      "text/html": [
       " View run <strong style=\"color:#cdcd00\">second_decision</strong> at: <a href='https://wandb.ai/nisargvp/Decision%20Optimization%20Assignment/runs/ytd680qa' target=\"_blank\">https://wandb.ai/nisargvp/Decision%20Optimization%20Assignment/runs/ytd680qa</a><br/>Synced 4 W&B file(s), 0 media file(s), 0 artifact file(s) and 0 other file(s)"
      ],
      "text/plain": [
       "<IPython.core.display.HTML object>"
      ]
     },
     "metadata": {},
     "output_type": "display_data"
    },
    {
     "data": {
      "text/html": [
       "Find logs at: <code>.\\wandb\\run-20230818_164334-ytd680qa\\logs</code>"
      ],
      "text/plain": [
       "<IPython.core.display.HTML object>"
      ]
     },
     "metadata": {},
     "output_type": "display_data"
    },
    {
     "data": {
      "text/plain": [
       "29359000"
      ]
     },
     "execution_count": 10,
     "metadata": {},
     "output_type": "execute_result"
    }
   ],
   "source": [
    "def second_decision_function(data, model):\n",
    "    \"\"\"\n",
    "    Args:\n",
    "        data (pandas.DataFrame): Data to make a decision on\n",
    "        model (sklearn model): A trained sklearn classifier\n",
    "    \n",
    "    Returns:\n",
    "        repair_decision (bool): A decision to repair or not to repair\n",
    "    \"\"\"\n",
    "    machine_types = ['L', 'M', 'H']\n",
    "    decision_thresholds = [0.02, 0.004, 0.006] \n",
    "    repair_decisions = []\n",
    "    original_indices = []\n",
    "    \n",
    "    for machine_type, decision_threshold in zip(machine_types, decision_thresholds):\n",
    "        data_by_type = data[data.Type == machine_type]\n",
    "        probability_of_failure = model.predict_proba(data_by_type[predictive_features])[:, 1]\n",
    "        repair_decision = probability_of_failure > decision_threshold\n",
    "        repair_decisions.extend(repair_decision)\n",
    "        original_indices.extend(data_by_type.index)\n",
    "    \n",
    "    repair_decision_df = pd.DataFrame({'index': original_indices, 'repair_decision': repair_decisions})\n",
    "    repair_decision_df = repair_decision_df.sort_values(by='index')\n",
    "    \n",
    "    return np.array(repair_decision_df['repair_decision'])\n",
    "\n",
    "second_decision = second_decision_function(test, modeling_pipeline,)\n",
    "cost_calculator(test, modeling_pipeline, second_decision, log=True, decision_name='second_decision')"
   ]
  },
  {
   "cell_type": "code",
   "execution_count": 11,
   "metadata": {},
   "outputs": [],
   "source": [
    "def third_decision_function(data, model, threshold):\n",
    "    \"\"\"\n",
    "    Args:\n",
    "        data (pandas.DataFrame): Data to make a decision on\n",
    "        model (sklearn model): A trained sklearn classifier\n",
    "    \n",
    "    Returns:\n",
    "        repair_decision (bool): A decision to repair or not to repair\n",
    "    \"\"\"\n",
    "    probability_of_failure = model.predict_proba(data[predictive_features])[:, 1]\n",
    "    repair_decision = probability_of_failure > threshold\n",
    "        \n",
    "    return repair_decision"
   ]
  },
  {
   "cell_type": "code",
   "execution_count": 13,
   "metadata": {},
   "outputs": [],
   "source": [
    "def optimize_threshold(data, model, machine_types=['L', 'M', 'H'], thresholds=None):\n",
    "    if thresholds is None:\n",
    "        thresholds = np.linspace(0.001, 0.1, 100) # adjust the range and step size as needed\n",
    "    \n",
    "    optimal_thresholds = {}\n",
    "    for machine_type in machine_types:\n",
    "        min_cost = float('inf')\n",
    "        best_threshold = None\n",
    "        for threshold in thresholds:\n",
    "            decision = third_decision_function(data, model, threshold)\n",
    "            cost = cost_calculator(data, model, decision, log=False)\n",
    "            if cost < min_cost:\n",
    "                min_cost = cost\n",
    "                best_threshold = threshold\n",
    "        \n",
    "        optimal_thresholds[machine_type] = best_threshold\n",
    "    \n",
    "    return optimal_thresholds\n",
    "\n",
    "optimal_thresholds = optimize_threshold(test, modeling_pipeline)"
   ]
  },
  {
   "cell_type": "code",
   "execution_count": 14,
   "metadata": {},
   "outputs": [
    {
     "data": {
      "text/html": [
       "Tracking run with wandb version 0.15.8"
      ],
      "text/plain": [
       "<IPython.core.display.HTML object>"
      ]
     },
     "metadata": {},
     "output_type": "display_data"
    },
    {
     "data": {
      "text/html": [
       "Run data is saved locally in <code>c:\\Users\\nisar\\Documents\\FDSL\\wandb_edu\\decision-opt-course\\assignment\\wandb\\run-20230818_164623-d2j6tscu</code>"
      ],
      "text/plain": [
       "<IPython.core.display.HTML object>"
      ]
     },
     "metadata": {},
     "output_type": "display_data"
    },
    {
     "data": {
      "text/html": [
       "Syncing run <strong><a href='https://wandb.ai/nisargvp/Decision%20Optimization%20Assignment/runs/d2j6tscu' target=\"_blank\">optimal_decision</a></strong> to <a href='https://wandb.ai/nisargvp/Decision%20Optimization%20Assignment' target=\"_blank\">Weights & Biases</a> (<a href='https://wandb.me/run' target=\"_blank\">docs</a>)<br/>"
      ],
      "text/plain": [
       "<IPython.core.display.HTML object>"
      ]
     },
     "metadata": {},
     "output_type": "display_data"
    },
    {
     "data": {
      "text/html": [
       " View project at <a href='https://wandb.ai/nisargvp/Decision%20Optimization%20Assignment' target=\"_blank\">https://wandb.ai/nisargvp/Decision%20Optimization%20Assignment</a>"
      ],
      "text/plain": [
       "<IPython.core.display.HTML object>"
      ]
     },
     "metadata": {},
     "output_type": "display_data"
    },
    {
     "data": {
      "text/html": [
       " View run at <a href='https://wandb.ai/nisargvp/Decision%20Optimization%20Assignment/runs/d2j6tscu' target=\"_blank\">https://wandb.ai/nisargvp/Decision%20Optimization%20Assignment/runs/d2j6tscu</a>"
      ],
      "text/plain": [
       "<IPython.core.display.HTML object>"
      ]
     },
     "metadata": {},
     "output_type": "display_data"
    },
    {
     "data": {
      "text/html": [
       "Waiting for W&B process to finish... <strong style=\"color:green\">(success).</strong>"
      ],
      "text/plain": [
       "<IPython.core.display.HTML object>"
      ]
     },
     "metadata": {},
     "output_type": "display_data"
    },
    {
     "data": {
      "application/vnd.jupyter.widget-view+json": {
       "model_id": "4da862c42492403fa564cf3afb505a8a",
       "version_major": 2,
       "version_minor": 0
      },
      "text/plain": [
       "VBox(children=(Label(value='0.001 MB of 0.001 MB uploaded (0.000 MB deduped)\\r'), FloatProgress(value=1.0, max…"
      ]
     },
     "metadata": {},
     "output_type": "display_data"
    },
    {
     "data": {
      "text/html": [
       "<style>\n",
       "    table.wandb td:nth-child(1) { padding: 0 10px; text-align: left ; width: auto;} td:nth-child(2) {text-align: left ; width: 100%}\n",
       "    .wandb-row { display: flex; flex-direction: row; flex-wrap: wrap; justify-content: flex-start; width: 100% }\n",
       "    .wandb-col { display: flex; flex-direction: column; flex-basis: 100%; flex: 1; padding: 10px; }\n",
       "    </style>\n",
       "<div class=\"wandb-row\"><div class=\"wandb-col\"><h3>Run history:</h3><br/><table class=\"wandb\"><tr><td>failure_costs</td><td>▁</td></tr><tr><td>repair_costs</td><td>▁</td></tr><tr><td>total_costs</td><td>▁</td></tr></table><br/></div><div class=\"wandb-col\"><h3>Run summary:</h3><br/><table class=\"wandb\"><tr><td>failure_costs</td><td>17140000</td></tr><tr><td>repair_costs</td><td>7115000</td></tr><tr><td>total_costs</td><td>24255000</td></tr></table><br/></div></div>"
      ],
      "text/plain": [
       "<IPython.core.display.HTML object>"
      ]
     },
     "metadata": {},
     "output_type": "display_data"
    },
    {
     "data": {
      "text/html": [
       " View run <strong style=\"color:#cdcd00\">optimal_decision</strong> at: <a href='https://wandb.ai/nisargvp/Decision%20Optimization%20Assignment/runs/d2j6tscu' target=\"_blank\">https://wandb.ai/nisargvp/Decision%20Optimization%20Assignment/runs/d2j6tscu</a><br/>Synced 4 W&B file(s), 0 media file(s), 0 artifact file(s) and 0 other file(s)"
      ],
      "text/plain": [
       "<IPython.core.display.HTML object>"
      ]
     },
     "metadata": {},
     "output_type": "display_data"
    },
    {
     "data": {
      "text/html": [
       "Find logs at: <code>.\\wandb\\run-20230818_164623-d2j6tscu\\logs</code>"
      ],
      "text/plain": [
       "<IPython.core.display.HTML object>"
      ]
     },
     "metadata": {},
     "output_type": "display_data"
    },
    {
     "data": {
      "text/plain": [
       "24255000"
      ]
     },
     "execution_count": 14,
     "metadata": {},
     "output_type": "execute_result"
    }
   ],
   "source": [
    "def optimal_decision_function(data, model, optimal_thresholds):\n",
    "    machine_types = ['L', 'M', 'H']\n",
    "    repair_decisions = []\n",
    "    original_indices = []\n",
    "    \n",
    "    for machine_type in machine_types:\n",
    "        data_by_type = data[data.Type == machine_type]\n",
    "        probability_of_failure = model.predict_proba(data_by_type[predictive_features])[:, 1]\n",
    "        repair_decision = probability_of_failure > optimal_thresholds[machine_type]\n",
    "        repair_decisions.extend(repair_decision)\n",
    "        original_indices.extend(data_by_type.index)\n",
    "    \n",
    "    repair_decision_df = pd.DataFrame({'index': original_indices, 'repair_decision': repair_decisions})\n",
    "    repair_decision_df = repair_decision_df.sort_values(by='index')\n",
    "    \n",
    "    return np.array(repair_decision_df['repair_decision'])\n",
    "\n",
    "optimal_decision = optimal_decision_function(test, modeling_pipeline, optimal_thresholds)\n",
    "cost_calculator(test, modeling_pipeline, optimal_decision, log=True, decision_name='optimal_decision')"
   ]
  },
  {
   "cell_type": "markdown",
   "metadata": {},
   "source": [
    "Once you have created and compared at least three decision functions, you can create and submit your report comparing them. Remember to describe (in a sentence or two) your plan for dealing with the covariate shift and testing issues described at the top of this assignment.\n",
    "\n",
    "Good Luck!"
   ]
  },
  {
   "cell_type": "markdown",
   "metadata": {},
   "source": [
    "### WANDB Report: https://api.wandb.ai/links/nisargvp/fs7n18x4"
   ]
  },
  {
   "cell_type": "code",
   "execution_count": null,
   "metadata": {},
   "outputs": [],
   "source": []
  },
  {
   "cell_type": "code",
   "execution_count": null,
   "metadata": {},
   "outputs": [],
   "source": []
  },
  {
   "cell_type": "markdown",
   "metadata": {},
   "source": []
  }
 ],
 "metadata": {
  "kernelspec": {
   "display_name": "Python 3",
   "language": "python",
   "name": "python3"
  },
  "language_info": {
   "codemirror_mode": {
    "name": "ipython",
    "version": 3
   },
   "file_extension": ".py",
   "mimetype": "text/x-python",
   "name": "python",
   "nbconvert_exporter": "python",
   "pygments_lexer": "ipython3",
   "version": "3.9.0"
  }
 },
 "nbformat": 4,
 "nbformat_minor": 4
}
