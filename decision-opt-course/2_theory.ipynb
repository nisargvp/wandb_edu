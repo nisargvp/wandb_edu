{
 "cells": [
  {
   "cell_type": "markdown",
   "metadata": {},
   "source": [
    "<a href=\"https://colab.research.google.com/github/wandb/edu/blob/main/decision-opt-course/2_theory.ipynb\" target=\"_parent\"><img src=\"https://colab.research.google.com/assets/colab-badge.svg\" alt=\"Open In Colab\"/></a>\n",
    "<!--- @wandbcode{decisionopt-nb2a} -->"
   ]
  },
  {
   "cell_type": "markdown",
   "metadata": {},
   "source": [
    "# Lesson 2 - Comparing loss functions"
   ]
  },
  {
   "cell_type": "code",
   "execution_count": null,
   "metadata": {},
   "outputs": [],
   "source": [
    "import matplotlib.pyplot as plt\n",
    "import numpy as np\n",
    "from sklearn.metrics import mean_absolute_error, mean_squared_error\n",
    "\n",
    "plt.style.use(\"fivethirtyeight\")\n",
    "\n",
    "actuals = np.array([1, 8, 9])\n",
    "possible_preds = np.arange(0, 12, 0.1)\n",
    "\n",
    "\n",
    "def calc_loss_one_pred(loss_function, actuals, pred):\n",
    "    preds_array = np.full(actuals.shape, pred)\n",
    "    loss = loss_function(actuals, preds_array)\n",
    "    return loss\n",
    "\n",
    "\n",
    "def plot_loss(loss_function, actuals, possible_preds):\n",
    "    loss = [calc_loss_one_pred(loss_function, actuals, pred) for pred in possible_preds]\n",
    "    plt.plot(possible_preds, loss)\n",
    "    plt.xlabel(\"Prediction\")\n",
    "    plt.ylabel(\"Loss\")\n",
    "    plot_title = loss_function.__name__.replace(\"_\", \" \").title()\n",
    "    plt.title(plot_title)\n",
    "    plt.show()\n",
    "\n",
    "\n",
    "plot_loss(mean_absolute_error, actuals, possible_preds)"
   ]
  },
  {
   "cell_type": "code",
   "execution_count": null,
   "metadata": {},
   "outputs": [],
   "source": [
    "plot_loss(mean_squared_error, actuals, possible_preds)"
   ]
  },
  {
   "cell_type": "code",
   "execution_count": null,
   "metadata": {},
   "outputs": [],
   "source": [
    "def utility_function(inventory, demand):\n",
    "    if demand >= inventory:\n",
    "        return -3 * (demand - inventory)\n",
    "    else:\n",
    "        return demand - inventory\n",
    "\n",
    "\n",
    "print(f\"Loss from stocking 6 when demand is 1: {utility_function(6, 1)}\")\n",
    "print(f\"Loss from stocking 6 when demand is 8: {utility_function(6, 8)}\")\n",
    "print(f\"Loss from stocking 6 when demand is 9: {utility_function(6, 9)}\")"
   ]
  },
  {
   "cell_type": "code",
   "execution_count": null,
   "metadata": {},
   "outputs": [],
   "source": []
  },
  {
   "cell_type": "code",
   "execution_count": null,
   "metadata": {},
   "outputs": [],
   "source": []
  }
 ],
 "metadata": {
  "kernelspec": {
   "display_name": "Python 3",
   "language": "python",
   "name": "python3"
  },
  "language_info": {
   "codemirror_mode": {
    "name": "ipython",
    "version": 3
   },
   "file_extension": ".py",
   "mimetype": "text/x-python",
   "name": "python",
   "nbconvert_exporter": "python",
   "pygments_lexer": "ipython3",
   "version": "3.9.0"
  }
 },
 "nbformat": 4,
 "nbformat_minor": 4
}
