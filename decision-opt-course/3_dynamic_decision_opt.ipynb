{
 "cells": [
  {
   "cell_type": "markdown",
   "metadata": {},
   "source": [
    "# Lesson 3 - Dynamic Decision Optimization\n",
    "<!--- @wandbcode{decisionopt-nb3b} -->\n",
    "\n",
    "Please note that this notebook requires more RAM than offered in free version of Google Colab, so it may not be possible to run it there."
   ]
  },
  {
   "cell_type": "code",
   "execution_count": 1,
   "metadata": {},
   "outputs": [
    {
     "data": {
      "text/html": [
       "<div>\n",
       "<style scoped>\n",
       "    .dataframe tbody tr th:only-of-type {\n",
       "        vertical-align: middle;\n",
       "    }\n",
       "\n",
       "    .dataframe tbody tr th {\n",
       "        vertical-align: top;\n",
       "    }\n",
       "\n",
       "    .dataframe thead th {\n",
       "        text-align: right;\n",
       "    }\n",
       "</style>\n",
       "<table border=\"1\" class=\"dataframe\">\n",
       "  <thead>\n",
       "    <tr style=\"text-align: right;\">\n",
       "      <th></th>\n",
       "      <th>Agencia_ID</th>\n",
       "      <th>Canal_ID</th>\n",
       "      <th>Ruta_SAK</th>\n",
       "      <th>Cliente_ID</th>\n",
       "      <th>Producto_ID</th>\n",
       "      <th>Semana</th>\n",
       "      <th>Venta_uni_hoy</th>\n",
       "      <th>Venta_hoy</th>\n",
       "      <th>Dev_uni_proxima</th>\n",
       "      <th>Dev_proxima</th>\n",
       "      <th>Demanda_uni_equil</th>\n",
       "    </tr>\n",
       "  </thead>\n",
       "  <tbody>\n",
       "    <tr>\n",
       "      <th>5030470</th>\n",
       "      <td>1110</td>\n",
       "      <td>7</td>\n",
       "      <td>3301</td>\n",
       "      <td>15766</td>\n",
       "      <td>1238</td>\n",
       "      <td>5</td>\n",
       "      <td>1</td>\n",
       "      <td>9.83</td>\n",
       "      <td>0</td>\n",
       "      <td>0.0</td>\n",
       "      <td>1</td>\n",
       "    </tr>\n",
       "    <tr>\n",
       "      <th>5030471</th>\n",
       "      <td>1110</td>\n",
       "      <td>7</td>\n",
       "      <td>3301</td>\n",
       "      <td>15766</td>\n",
       "      <td>1242</td>\n",
       "      <td>5</td>\n",
       "      <td>2</td>\n",
       "      <td>15.28</td>\n",
       "      <td>0</td>\n",
       "      <td>0.0</td>\n",
       "      <td>2</td>\n",
       "    </tr>\n",
       "    <tr>\n",
       "      <th>5030472</th>\n",
       "      <td>1110</td>\n",
       "      <td>7</td>\n",
       "      <td>3301</td>\n",
       "      <td>15766</td>\n",
       "      <td>1250</td>\n",
       "      <td>5</td>\n",
       "      <td>8</td>\n",
       "      <td>61.12</td>\n",
       "      <td>0</td>\n",
       "      <td>0.0</td>\n",
       "      <td>8</td>\n",
       "    </tr>\n",
       "    <tr>\n",
       "      <th>5030473</th>\n",
       "      <td>1110</td>\n",
       "      <td>7</td>\n",
       "      <td>3301</td>\n",
       "      <td>15766</td>\n",
       "      <td>1309</td>\n",
       "      <td>5</td>\n",
       "      <td>6</td>\n",
       "      <td>40.56</td>\n",
       "      <td>0</td>\n",
       "      <td>0.0</td>\n",
       "      <td>6</td>\n",
       "    </tr>\n",
       "    <tr>\n",
       "      <th>5030474</th>\n",
       "      <td>1110</td>\n",
       "      <td>7</td>\n",
       "      <td>3301</td>\n",
       "      <td>15766</td>\n",
       "      <td>3894</td>\n",
       "      <td>5</td>\n",
       "      <td>8</td>\n",
       "      <td>74.80</td>\n",
       "      <td>0</td>\n",
       "      <td>0.0</td>\n",
       "      <td>8</td>\n",
       "    </tr>\n",
       "  </tbody>\n",
       "</table>\n",
       "</div>"
      ],
      "text/plain": [
       "         Agencia_ID  Canal_ID  Ruta_SAK  Cliente_ID  Producto_ID  Semana  \\\n",
       "5030470        1110         7      3301       15766         1238       5   \n",
       "5030471        1110         7      3301       15766         1242       5   \n",
       "5030472        1110         7      3301       15766         1250       5   \n",
       "5030473        1110         7      3301       15766         1309       5   \n",
       "5030474        1110         7      3301       15766         3894       5   \n",
       "\n",
       "         Venta_uni_hoy  Venta_hoy  Dev_uni_proxima  Dev_proxima  \\\n",
       "5030470              1       9.83                0          0.0   \n",
       "5030471              2      15.28                0          0.0   \n",
       "5030472              8      61.12                0          0.0   \n",
       "5030473              6      40.56                0          0.0   \n",
       "5030474              8      74.80                0          0.0   \n",
       "\n",
       "         Demanda_uni_equil  \n",
       "5030470                  1  \n",
       "5030471                  2  \n",
       "5030472                  8  \n",
       "5030473                  6  \n",
       "5030474                  8  "
      ]
     },
     "execution_count": 1,
     "metadata": {},
     "output_type": "execute_result"
    }
   ],
   "source": [
    "import os \n",
    "import pandas as pd\n",
    "import pickle\n",
    "import torch\n",
    "import wandb\n",
    "\n",
    "os.environ[\"WANDB_QUIET\"] = \"true\"\n",
    "project_name = \"Dynamic Inventory Management for Bimbo\"\n",
    "decision_data = pd.read_parquet('decision_data.parquet')\n",
    "decision_data.head()"
   ]
  },
  {
   "cell_type": "code",
   "execution_count": 2,
   "metadata": {},
   "outputs": [],
   "source": [
    "sample_store_and_product = decision_data.query(\n",
    "\"Agencia_ID == 1110 & Canal_ID == 7 & Ruta_SAK == 3301 & Cliente_ID == 15766 & Producto_ID == 1238\"\n",
    ")"
   ]
  },
  {
   "cell_type": "code",
   "execution_count": 3,
   "metadata": {},
   "outputs": [
    {
     "data": {
      "text/plain": [
       "tensor([1.3850, 1.9977, 1.9977, 2.3958, 1.9977])"
      ]
     },
     "execution_count": 3,
     "metadata": {},
     "output_type": "execute_result"
    }
   ],
   "source": [
    "store_product_ids = [\n",
    "    \"Agencia_ID\",\n",
    "    \"Canal_ID\",\n",
    "    \"Ruta_SAK\",\n",
    "    \"Cliente_ID\",\n",
    "    \"Producto_ID\",\n",
    "]\n",
    "\n",
    "numerical_cols = [\n",
    "    \"Venta_uni_hoy\",\n",
    "    \"Venta_hoy\",\n",
    "]\n",
    "\n",
    "model = torch.load(\"predictive_model.pt\")\n",
    "with open('catgeorical_encoder.pkl', 'rb') as f:\n",
    "    encoder = pickle.load(f)\n",
    "\n",
    "categorical_for_prediction = sample_store_and_product[store_product_ids].values\n",
    "categorical_encoded = encoder.transform(categorical_for_prediction)\n",
    "categorical_tensor = torch.from_numpy(categorical_encoded).long()\n",
    "categorical_tensor = [categorical_tensor[:, i] for i in range(categorical_tensor.shape[1])]\n",
    "\n",
    "numerical_tensor = torch.from_numpy(sample_store_and_product[numerical_cols].values).float()\n",
    "model.eval()\n",
    "with torch.no_grad():\n",
    "    prediction = model(categorical_tensor, numerical_tensor)\n",
    "prediction"
   ]
  },
  {
   "cell_type": "code",
   "execution_count": 4,
   "metadata": {},
   "outputs": [
    {
     "data": {
      "text/html": [
       "<div>\n",
       "<style scoped>\n",
       "    .dataframe tbody tr th:only-of-type {\n",
       "        vertical-align: middle;\n",
       "    }\n",
       "\n",
       "    .dataframe tbody tr th {\n",
       "        vertical-align: top;\n",
       "    }\n",
       "\n",
       "    .dataframe thead th {\n",
       "        text-align: right;\n",
       "    }\n",
       "</style>\n",
       "<table border=\"1\" class=\"dataframe\">\n",
       "  <thead>\n",
       "    <tr style=\"text-align: right;\">\n",
       "      <th></th>\n",
       "      <th>Agencia_ID</th>\n",
       "      <th>Canal_ID</th>\n",
       "      <th>Ruta_SAK</th>\n",
       "      <th>Cliente_ID</th>\n",
       "      <th>Producto_ID</th>\n",
       "      <th>Semana</th>\n",
       "      <th>Venta_uni_hoy</th>\n",
       "      <th>Venta_hoy</th>\n",
       "      <th>Dev_uni_proxima</th>\n",
       "      <th>Dev_proxima</th>\n",
       "      <th>Demanda_uni_equil</th>\n",
       "      <th>predicted_demand</th>\n",
       "    </tr>\n",
       "  </thead>\n",
       "  <tbody>\n",
       "    <tr>\n",
       "      <th>5030470</th>\n",
       "      <td>1110</td>\n",
       "      <td>7</td>\n",
       "      <td>3301</td>\n",
       "      <td>15766</td>\n",
       "      <td>1238</td>\n",
       "      <td>5</td>\n",
       "      <td>1</td>\n",
       "      <td>9.83</td>\n",
       "      <td>0</td>\n",
       "      <td>0.0</td>\n",
       "      <td>1</td>\n",
       "      <td>1.385030</td>\n",
       "    </tr>\n",
       "    <tr>\n",
       "      <th>7545705</th>\n",
       "      <td>1110</td>\n",
       "      <td>7</td>\n",
       "      <td>3301</td>\n",
       "      <td>15766</td>\n",
       "      <td>1238</td>\n",
       "      <td>6</td>\n",
       "      <td>2</td>\n",
       "      <td>19.66</td>\n",
       "      <td>0</td>\n",
       "      <td>0.0</td>\n",
       "      <td>2</td>\n",
       "      <td>1.997693</td>\n",
       "    </tr>\n",
       "    <tr>\n",
       "      <th>10060940</th>\n",
       "      <td>1110</td>\n",
       "      <td>7</td>\n",
       "      <td>3301</td>\n",
       "      <td>15766</td>\n",
       "      <td>1238</td>\n",
       "      <td>7</td>\n",
       "      <td>2</td>\n",
       "      <td>19.66</td>\n",
       "      <td>0</td>\n",
       "      <td>0.0</td>\n",
       "      <td>2</td>\n",
       "      <td>1.997693</td>\n",
       "    </tr>\n",
       "    <tr>\n",
       "      <th>12576175</th>\n",
       "      <td>1110</td>\n",
       "      <td>7</td>\n",
       "      <td>3301</td>\n",
       "      <td>15766</td>\n",
       "      <td>1238</td>\n",
       "      <td>8</td>\n",
       "      <td>3</td>\n",
       "      <td>29.49</td>\n",
       "      <td>0</td>\n",
       "      <td>0.0</td>\n",
       "      <td>3</td>\n",
       "      <td>2.395756</td>\n",
       "    </tr>\n",
       "    <tr>\n",
       "      <th>15091410</th>\n",
       "      <td>1110</td>\n",
       "      <td>7</td>\n",
       "      <td>3301</td>\n",
       "      <td>15766</td>\n",
       "      <td>1238</td>\n",
       "      <td>9</td>\n",
       "      <td>2</td>\n",
       "      <td>19.66</td>\n",
       "      <td>0</td>\n",
       "      <td>0.0</td>\n",
       "      <td>2</td>\n",
       "      <td>1.997693</td>\n",
       "    </tr>\n",
       "  </tbody>\n",
       "</table>\n",
       "</div>"
      ],
      "text/plain": [
       "          Agencia_ID  Canal_ID  Ruta_SAK  Cliente_ID  Producto_ID  Semana  \\\n",
       "5030470         1110         7      3301       15766         1238       5   \n",
       "7545705         1110         7      3301       15766         1238       6   \n",
       "10060940        1110         7      3301       15766         1238       7   \n",
       "12576175        1110         7      3301       15766         1238       8   \n",
       "15091410        1110         7      3301       15766         1238       9   \n",
       "\n",
       "          Venta_uni_hoy  Venta_hoy  Dev_uni_proxima  Dev_proxima  \\\n",
       "5030470               1       9.83                0          0.0   \n",
       "7545705               2      19.66                0          0.0   \n",
       "10060940              2      19.66                0          0.0   \n",
       "12576175              3      29.49                0          0.0   \n",
       "15091410              2      19.66                0          0.0   \n",
       "\n",
       "          Demanda_uni_equil  predicted_demand  \n",
       "5030470                   1          1.385030  \n",
       "7545705                   2          1.997693  \n",
       "10060940                  2          1.997693  \n",
       "12576175                  3          2.395756  \n",
       "15091410                  2          1.997693  "
      ]
     },
     "execution_count": 4,
     "metadata": {},
     "output_type": "execute_result"
    }
   ],
   "source": [
    "sample_store_and_product = sample_store_and_product.assign(predicted_demand = prediction.numpy())\n",
    "sample_store_and_product"
   ]
  },
  {
   "cell_type": "code",
   "execution_count": 5,
   "metadata": {},
   "outputs": [
    {
     "data": {
      "text/html": [
       "<div>\n",
       "<style scoped>\n",
       "    .dataframe tbody tr th:only-of-type {\n",
       "        vertical-align: middle;\n",
       "    }\n",
       "\n",
       "    .dataframe tbody tr th {\n",
       "        vertical-align: top;\n",
       "    }\n",
       "\n",
       "    .dataframe thead th {\n",
       "        text-align: right;\n",
       "    }\n",
       "</style>\n",
       "<table border=\"1\" class=\"dataframe\">\n",
       "  <thead>\n",
       "    <tr style=\"text-align: right;\">\n",
       "      <th></th>\n",
       "      <th>Agencia_ID</th>\n",
       "      <th>Canal_ID</th>\n",
       "      <th>Ruta_SAK</th>\n",
       "      <th>Cliente_ID</th>\n",
       "      <th>Producto_ID</th>\n",
       "      <th>Semana</th>\n",
       "      <th>Venta_uni_hoy</th>\n",
       "      <th>Venta_hoy</th>\n",
       "      <th>Dev_uni_proxima</th>\n",
       "      <th>Dev_proxima</th>\n",
       "      <th>Demanda_uni_equil</th>\n",
       "      <th>predicted_demand</th>\n",
       "    </tr>\n",
       "  </thead>\n",
       "  <tbody>\n",
       "    <tr>\n",
       "      <th>5030470</th>\n",
       "      <td>1110</td>\n",
       "      <td>7</td>\n",
       "      <td>3301</td>\n",
       "      <td>15766</td>\n",
       "      <td>1238</td>\n",
       "      <td>5</td>\n",
       "      <td>1</td>\n",
       "      <td>9.83</td>\n",
       "      <td>0</td>\n",
       "      <td>0.0</td>\n",
       "      <td>1</td>\n",
       "      <td>1.385030</td>\n",
       "    </tr>\n",
       "    <tr>\n",
       "      <th>7545705</th>\n",
       "      <td>1110</td>\n",
       "      <td>7</td>\n",
       "      <td>3301</td>\n",
       "      <td>15766</td>\n",
       "      <td>1238</td>\n",
       "      <td>6</td>\n",
       "      <td>2</td>\n",
       "      <td>19.66</td>\n",
       "      <td>0</td>\n",
       "      <td>0.0</td>\n",
       "      <td>2</td>\n",
       "      <td>1.997693</td>\n",
       "    </tr>\n",
       "    <tr>\n",
       "      <th>10060940</th>\n",
       "      <td>1110</td>\n",
       "      <td>7</td>\n",
       "      <td>3301</td>\n",
       "      <td>15766</td>\n",
       "      <td>1238</td>\n",
       "      <td>7</td>\n",
       "      <td>2</td>\n",
       "      <td>19.66</td>\n",
       "      <td>0</td>\n",
       "      <td>0.0</td>\n",
       "      <td>2</td>\n",
       "      <td>1.997693</td>\n",
       "    </tr>\n",
       "    <tr>\n",
       "      <th>12576175</th>\n",
       "      <td>1110</td>\n",
       "      <td>7</td>\n",
       "      <td>3301</td>\n",
       "      <td>15766</td>\n",
       "      <td>1238</td>\n",
       "      <td>8</td>\n",
       "      <td>3</td>\n",
       "      <td>29.49</td>\n",
       "      <td>0</td>\n",
       "      <td>0.0</td>\n",
       "      <td>3</td>\n",
       "      <td>2.395756</td>\n",
       "    </tr>\n",
       "    <tr>\n",
       "      <th>15091410</th>\n",
       "      <td>1110</td>\n",
       "      <td>7</td>\n",
       "      <td>3301</td>\n",
       "      <td>15766</td>\n",
       "      <td>1238</td>\n",
       "      <td>9</td>\n",
       "      <td>2</td>\n",
       "      <td>19.66</td>\n",
       "      <td>0</td>\n",
       "      <td>0.0</td>\n",
       "      <td>2</td>\n",
       "      <td>1.997693</td>\n",
       "    </tr>\n",
       "  </tbody>\n",
       "</table>\n",
       "</div>"
      ],
      "text/plain": [
       "          Agencia_ID  Canal_ID  Ruta_SAK  Cliente_ID  Producto_ID  Semana  \\\n",
       "5030470         1110         7      3301       15766         1238       5   \n",
       "7545705         1110         7      3301       15766         1238       6   \n",
       "10060940        1110         7      3301       15766         1238       7   \n",
       "12576175        1110         7      3301       15766         1238       8   \n",
       "15091410        1110         7      3301       15766         1238       9   \n",
       "\n",
       "          Venta_uni_hoy  Venta_hoy  Dev_uni_proxima  Dev_proxima  \\\n",
       "5030470               1       9.83                0          0.0   \n",
       "7545705               2      19.66                0          0.0   \n",
       "10060940              2      19.66                0          0.0   \n",
       "12576175              3      29.49                0          0.0   \n",
       "15091410              2      19.66                0          0.0   \n",
       "\n",
       "          Demanda_uni_equil  predicted_demand  \n",
       "5030470                   1          1.385030  \n",
       "7545705                   2          1.997693  \n",
       "10060940                  2          1.997693  \n",
       "12576175                  3          2.395756  \n",
       "15091410                  2          1.997693  "
      ]
     },
     "execution_count": 5,
     "metadata": {},
     "output_type": "execute_result"
    }
   ],
   "source": [
    "def add_preds_to_df(df):\n",
    "    categorical_for_prediction = df[store_product_ids].values\n",
    "    categorical_encoded = encoder.transform(categorical_for_prediction)\n",
    "    categorical_tensor = torch.from_numpy(categorical_encoded).long()\n",
    "    categorical_tensor = [categorical_tensor[:, i] for i in range(categorical_tensor.shape[1])]\n",
    "    numerical_tensor = torch.from_numpy(df[numerical_cols].values).float()\n",
    "    model.eval()\n",
    "    with torch.no_grad():\n",
    "        prediction = model(categorical_tensor, numerical_tensor)\n",
    "    return df.assign(predicted_demand = prediction.numpy())\n",
    "\n",
    "sample_store_and_product = decision_data.query(\n",
    "\"Agencia_ID == 1110 & Canal_ID == 7 & Ruta_SAK == 3301 & Cliente_ID == 15766 & Producto_ID == 1238\"\n",
    ")\n",
    "add_preds_to_df(sample_store_and_product)"
   ]
  },
  {
   "cell_type": "code",
   "execution_count": 6,
   "metadata": {},
   "outputs": [
    {
     "data": {
      "text/html": [
       "<div>\n",
       "<style scoped>\n",
       "    .dataframe tbody tr th:only-of-type {\n",
       "        vertical-align: middle;\n",
       "    }\n",
       "\n",
       "    .dataframe tbody tr th {\n",
       "        vertical-align: top;\n",
       "    }\n",
       "\n",
       "    .dataframe thead th {\n",
       "        text-align: right;\n",
       "    }\n",
       "</style>\n",
       "<table border=\"1\" class=\"dataframe\">\n",
       "  <thead>\n",
       "    <tr style=\"text-align: right;\">\n",
       "      <th></th>\n",
       "      <th>Agencia_ID</th>\n",
       "      <th>Canal_ID</th>\n",
       "      <th>Ruta_SAK</th>\n",
       "      <th>Cliente_ID</th>\n",
       "      <th>Producto_ID</th>\n",
       "      <th>Semana</th>\n",
       "      <th>Venta_uni_hoy</th>\n",
       "      <th>Venta_hoy</th>\n",
       "      <th>Dev_uni_proxima</th>\n",
       "      <th>Dev_proxima</th>\n",
       "      <th>Demanda_uni_equil</th>\n",
       "      <th>predicted_demand</th>\n",
       "      <th>old_stock</th>\n",
       "      <th>new_stock</th>\n",
       "      <th>shortage</th>\n",
       "      <th>total_sold</th>\n",
       "      <th>spoilage</th>\n",
       "    </tr>\n",
       "  </thead>\n",
       "  <tbody>\n",
       "    <tr>\n",
       "      <th>5030470</th>\n",
       "      <td>1110</td>\n",
       "      <td>7</td>\n",
       "      <td>3301</td>\n",
       "      <td>15766</td>\n",
       "      <td>1238</td>\n",
       "      <td>5</td>\n",
       "      <td>1</td>\n",
       "      <td>9.83</td>\n",
       "      <td>0</td>\n",
       "      <td>0.0</td>\n",
       "      <td>1</td>\n",
       "      <td>1.385030</td>\n",
       "      <td>0.0</td>\n",
       "      <td>1.0</td>\n",
       "      <td>0.38503</td>\n",
       "      <td>1.0</td>\n",
       "      <td>NaN</td>\n",
       "    </tr>\n",
       "    <tr>\n",
       "      <th>7545705</th>\n",
       "      <td>1110</td>\n",
       "      <td>7</td>\n",
       "      <td>3301</td>\n",
       "      <td>15766</td>\n",
       "      <td>1238</td>\n",
       "      <td>6</td>\n",
       "      <td>2</td>\n",
       "      <td>19.66</td>\n",
       "      <td>0</td>\n",
       "      <td>0.0</td>\n",
       "      <td>2</td>\n",
       "      <td>1.997693</td>\n",
       "      <td>0.0</td>\n",
       "      <td>1.0</td>\n",
       "      <td>1.00000</td>\n",
       "      <td>1.0</td>\n",
       "      <td>0.0</td>\n",
       "    </tr>\n",
       "    <tr>\n",
       "      <th>10060940</th>\n",
       "      <td>1110</td>\n",
       "      <td>7</td>\n",
       "      <td>3301</td>\n",
       "      <td>15766</td>\n",
       "      <td>1238</td>\n",
       "      <td>7</td>\n",
       "      <td>2</td>\n",
       "      <td>19.66</td>\n",
       "      <td>0</td>\n",
       "      <td>0.0</td>\n",
       "      <td>2</td>\n",
       "      <td>1.997693</td>\n",
       "      <td>0.0</td>\n",
       "      <td>1.0</td>\n",
       "      <td>1.00000</td>\n",
       "      <td>1.0</td>\n",
       "      <td>0.0</td>\n",
       "    </tr>\n",
       "    <tr>\n",
       "      <th>12576175</th>\n",
       "      <td>1110</td>\n",
       "      <td>7</td>\n",
       "      <td>3301</td>\n",
       "      <td>15766</td>\n",
       "      <td>1238</td>\n",
       "      <td>8</td>\n",
       "      <td>3</td>\n",
       "      <td>29.49</td>\n",
       "      <td>0</td>\n",
       "      <td>0.0</td>\n",
       "      <td>3</td>\n",
       "      <td>2.395756</td>\n",
       "      <td>0.0</td>\n",
       "      <td>1.0</td>\n",
       "      <td>2.00000</td>\n",
       "      <td>1.0</td>\n",
       "      <td>0.0</td>\n",
       "    </tr>\n",
       "    <tr>\n",
       "      <th>15091410</th>\n",
       "      <td>1110</td>\n",
       "      <td>7</td>\n",
       "      <td>3301</td>\n",
       "      <td>15766</td>\n",
       "      <td>1238</td>\n",
       "      <td>9</td>\n",
       "      <td>2</td>\n",
       "      <td>19.66</td>\n",
       "      <td>0</td>\n",
       "      <td>0.0</td>\n",
       "      <td>2</td>\n",
       "      <td>1.997693</td>\n",
       "      <td>0.0</td>\n",
       "      <td>1.0</td>\n",
       "      <td>1.00000</td>\n",
       "      <td>1.0</td>\n",
       "      <td>0.0</td>\n",
       "    </tr>\n",
       "  </tbody>\n",
       "</table>\n",
       "</div>"
      ],
      "text/plain": [
       "          Agencia_ID  Canal_ID  Ruta_SAK  Cliente_ID  Producto_ID  Semana  \\\n",
       "5030470         1110         7      3301       15766         1238       5   \n",
       "7545705         1110         7      3301       15766         1238       6   \n",
       "10060940        1110         7      3301       15766         1238       7   \n",
       "12576175        1110         7      3301       15766         1238       8   \n",
       "15091410        1110         7      3301       15766         1238       9   \n",
       "\n",
       "          Venta_uni_hoy  Venta_hoy  Dev_uni_proxima  Dev_proxima  \\\n",
       "5030470               1       9.83                0          0.0   \n",
       "7545705               2      19.66                0          0.0   \n",
       "10060940              2      19.66                0          0.0   \n",
       "12576175              3      29.49                0          0.0   \n",
       "15091410              2      19.66                0          0.0   \n",
       "\n",
       "          Demanda_uni_equil  predicted_demand  old_stock  new_stock  shortage  \\\n",
       "5030470                   1          1.385030        0.0        1.0   0.38503   \n",
       "7545705                   2          1.997693        0.0        1.0   1.00000   \n",
       "10060940                  2          1.997693        0.0        1.0   1.00000   \n",
       "12576175                  3          2.395756        0.0        1.0   2.00000   \n",
       "15091410                  2          1.997693        0.0        1.0   1.00000   \n",
       "\n",
       "          total_sold  spoilage  \n",
       "5030470          1.0       NaN  \n",
       "7545705          1.0       0.0  \n",
       "10060940         1.0       0.0  \n",
       "12576175         1.0       0.0  \n",
       "15091410         1.0       0.0  "
      ]
     },
     "execution_count": 6,
     "metadata": {},
     "output_type": "execute_result"
    }
   ],
   "source": [
    "def add_col_with_initial_value(df, col_name, value):\n",
    "    df.loc[df.index[0], col_name] = value\n",
    "    return df\n",
    "\n",
    "def simulate_outcomes(df, decision_rule):\n",
    "    df = df.copy()\n",
    "    df = add_preds_to_df(df)\n",
    "    df = add_col_with_initial_value(df, \"old_stock\", 0)\n",
    "    first_stocking_decision = decision_rule(df.iloc[0])\n",
    "    df = add_col_with_initial_value(df, \"new_stock\", first_stocking_decision)\n",
    "    first_shortage = max(0, df.iloc[0].predicted_demand - df.iloc[0].new_stock)\n",
    "    first_amount_sold = min(df.iloc[0].Demanda_uni_equil, df.iloc[0].new_stock + df.iloc[0].old_stock)\n",
    "    df = add_col_with_initial_value(df, \"shortage\", first_shortage)\n",
    "    df = add_col_with_initial_value(df, \"total_sold\", first_amount_sold)\n",
    "\n",
    "    # Sometimes can use .shift pattern\n",
    "    prev_period = df.iloc[0, :]\n",
    "    for i in df.index[1:]:\n",
    "        df.loc[i, \"old_stock\"] = max(0,\n",
    "                                    min(prev_period.old_stock + prev_period.new_stock - prev_period.Demanda_uni_equil,\n",
    "                                     prev_period.new_stock\n",
    "                                    ))\n",
    "        df.loc[i, \"new_stock\"] = decision_rule(df.loc[i])\n",
    "        stock_on_hand = df.loc[i, \"old_stock\"] + df.loc[i, \"new_stock\"]\n",
    "        df.loc[i, \"shortage\"] = max(0, df.loc[i, \"Demanda_uni_equil\"] - stock_on_hand)\n",
    "        df.loc[i, \"total_sold\"] = min(df.loc[i, \"Demanda_uni_equil\"], stock_on_hand)\n",
    "        df.loc[i, \"spoilage\"] = max(0, df.loc[i, \"old_stock\"] - df.loc[i, \"Demanda_uni_equil\"])\n",
    "        prev_period = df.loc[i]\n",
    "    return df\n",
    "\n",
    "def first_decision_rule(state):\n",
    "    return 1\n",
    "\n",
    "simulate_outcomes(sample_store_and_product, first_decision_rule)"
   ]
  },
  {
   "cell_type": "markdown",
   "metadata": {},
   "source": [
    "## Scaling to multiple stores"
   ]
  },
  {
   "cell_type": "code",
   "execution_count": 7,
   "metadata": {},
   "outputs": [
    {
     "data": {
      "text/plain": [
       "Agencia_ID\n",
       "1110      14270\n",
       "1111     108890\n",
       "1112      74115\n",
       "1113      43345\n",
       "1114      23035\n",
       "          ...  \n",
       "24049     14915\n",
       "24539     16765\n",
       "24669     23115\n",
       "25699     12140\n",
       "25759      1190\n",
       "Length: 545, dtype: int64"
      ]
     },
     "execution_count": 7,
     "metadata": {},
     "output_type": "execute_result"
    }
   ],
   "source": [
    "decision_data.groupby('Agencia_ID').size()"
   ]
  },
  {
   "cell_type": "code",
   "execution_count": 8,
   "metadata": {},
   "outputs": [],
   "source": [
    "decision_validation_data = decision_data.query('Agencia_ID == 1110') # choose the rule\n",
    "decision_holdout_data = decision_data.query('Agencia_ID == 24049')   # hold-out data to test the rule"
   ]
  },
  {
   "cell_type": "code",
   "execution_count": 9,
   "metadata": {},
   "outputs": [
    {
     "name": "stderr",
     "output_type": "stream",
     "text": [
      "Failed to detect the name of this notebook, you can set it manually with the WANDB_NOTEBOOK_NAME environment variable to enable code saving.\n"
     ]
    },
    {
     "data": {
      "text/html": [
       "Syncing run <strong><a href='https://wandb.ai/nisargvp/Dynamic%20Inventory%20Management%20for%20Bimbo/runs/onghhcqs' target=\"_blank\">first_decision_rule</a></strong> to <a href='https://wandb.ai/nisargvp/Dynamic%20Inventory%20Management%20for%20Bimbo' target=\"_blank\">Weights & Biases</a> (<a href='https://wandb.me/run' target=\"_blank\">docs</a>)<br/>"
      ],
      "text/plain": [
       "<IPython.core.display.HTML object>"
      ]
     },
     "metadata": {},
     "output_type": "display_data"
    },
    {
     "data": {
      "text/html": [
       " View run at <a href='https://wandb.ai/nisargvp/Dynamic%20Inventory%20Management%20for%20Bimbo/runs/onghhcqs' target=\"_blank\">https://wandb.ai/nisargvp/Dynamic%20Inventory%20Management%20for%20Bimbo/runs/onghhcqs</a>"
      ],
      "text/plain": [
       "<IPython.core.display.HTML object>"
      ]
     },
     "metadata": {},
     "output_type": "display_data"
    },
    {
     "data": {
      "text/html": [
       "Waiting for W&B process to finish... <strong style=\"color:green\">(success).</strong>"
      ],
      "text/plain": [
       "<IPython.core.display.HTML object>"
      ]
     },
     "metadata": {},
     "output_type": "display_data"
    },
    {
     "data": {
      "application/vnd.jupyter.widget-view+json": {
       "model_id": "587cbed1209e451a859e3195d8fa3d14",
       "version_major": 2,
       "version_minor": 0
      },
      "text/plain": [
       "VBox(children=(Label(value='1.462 MB of 1.462 MB uploaded (0.000 MB deduped)\\r'), FloatProgress(value=1.0, max…"
      ]
     },
     "metadata": {},
     "output_type": "display_data"
    },
    {
     "data": {
      "text/html": [
       " View run <strong style=\"color:#cdcd00\">first_decision_rule</strong> at: <a href='https://wandb.ai/nisargvp/Dynamic%20Inventory%20Management%20for%20Bimbo/runs/onghhcqs' target=\"_blank\">https://wandb.ai/nisargvp/Dynamic%20Inventory%20Management%20for%20Bimbo/runs/onghhcqs</a><br/>Synced 4 W&B file(s), 1 media file(s), 1 artifact file(s) and 0 other file(s)"
      ],
      "text/plain": [
       "<IPython.core.display.HTML object>"
      ]
     },
     "metadata": {},
     "output_type": "display_data"
    },
    {
     "data": {
      "text/html": [
       "<div>\n",
       "<style scoped>\n",
       "    .dataframe tbody tr th:only-of-type {\n",
       "        vertical-align: middle;\n",
       "    }\n",
       "\n",
       "    .dataframe tbody tr th {\n",
       "        vertical-align: top;\n",
       "    }\n",
       "\n",
       "    .dataframe thead th {\n",
       "        text-align: right;\n",
       "    }\n",
       "</style>\n",
       "<table border=\"1\" class=\"dataframe\">\n",
       "  <thead>\n",
       "    <tr style=\"text-align: right;\">\n",
       "      <th></th>\n",
       "      <th>Agencia_ID</th>\n",
       "      <th>Canal_ID</th>\n",
       "      <th>Ruta_SAK</th>\n",
       "      <th>Cliente_ID</th>\n",
       "      <th>Producto_ID</th>\n",
       "      <th>Semana</th>\n",
       "      <th>Venta_uni_hoy</th>\n",
       "      <th>Venta_hoy</th>\n",
       "      <th>Dev_uni_proxima</th>\n",
       "      <th>Dev_proxima</th>\n",
       "      <th>Demanda_uni_equil</th>\n",
       "      <th>predicted_demand</th>\n",
       "      <th>old_stock</th>\n",
       "      <th>new_stock</th>\n",
       "      <th>shortage</th>\n",
       "      <th>total_sold</th>\n",
       "      <th>spoilage</th>\n",
       "    </tr>\n",
       "  </thead>\n",
       "  <tbody>\n",
       "    <tr>\n",
       "      <th>5030470</th>\n",
       "      <td>1110</td>\n",
       "      <td>7</td>\n",
       "      <td>3301</td>\n",
       "      <td>15766</td>\n",
       "      <td>1238</td>\n",
       "      <td>5</td>\n",
       "      <td>1</td>\n",
       "      <td>9.83</td>\n",
       "      <td>0</td>\n",
       "      <td>0.0</td>\n",
       "      <td>1</td>\n",
       "      <td>1.385030</td>\n",
       "      <td>0.0</td>\n",
       "      <td>1.0</td>\n",
       "      <td>0.385030</td>\n",
       "      <td>1.0</td>\n",
       "      <td>NaN</td>\n",
       "    </tr>\n",
       "    <tr>\n",
       "      <th>7545705</th>\n",
       "      <td>1110</td>\n",
       "      <td>7</td>\n",
       "      <td>3301</td>\n",
       "      <td>15766</td>\n",
       "      <td>1238</td>\n",
       "      <td>6</td>\n",
       "      <td>2</td>\n",
       "      <td>19.66</td>\n",
       "      <td>0</td>\n",
       "      <td>0.0</td>\n",
       "      <td>2</td>\n",
       "      <td>1.997693</td>\n",
       "      <td>0.0</td>\n",
       "      <td>1.0</td>\n",
       "      <td>1.000000</td>\n",
       "      <td>1.0</td>\n",
       "      <td>0.0</td>\n",
       "    </tr>\n",
       "    <tr>\n",
       "      <th>10060940</th>\n",
       "      <td>1110</td>\n",
       "      <td>7</td>\n",
       "      <td>3301</td>\n",
       "      <td>15766</td>\n",
       "      <td>1238</td>\n",
       "      <td>7</td>\n",
       "      <td>2</td>\n",
       "      <td>19.66</td>\n",
       "      <td>0</td>\n",
       "      <td>0.0</td>\n",
       "      <td>2</td>\n",
       "      <td>1.997693</td>\n",
       "      <td>0.0</td>\n",
       "      <td>1.0</td>\n",
       "      <td>1.000000</td>\n",
       "      <td>1.0</td>\n",
       "      <td>0.0</td>\n",
       "    </tr>\n",
       "    <tr>\n",
       "      <th>12576175</th>\n",
       "      <td>1110</td>\n",
       "      <td>7</td>\n",
       "      <td>3301</td>\n",
       "      <td>15766</td>\n",
       "      <td>1238</td>\n",
       "      <td>8</td>\n",
       "      <td>3</td>\n",
       "      <td>29.49</td>\n",
       "      <td>0</td>\n",
       "      <td>0.0</td>\n",
       "      <td>3</td>\n",
       "      <td>2.395756</td>\n",
       "      <td>0.0</td>\n",
       "      <td>1.0</td>\n",
       "      <td>2.000000</td>\n",
       "      <td>1.0</td>\n",
       "      <td>0.0</td>\n",
       "    </tr>\n",
       "    <tr>\n",
       "      <th>15091410</th>\n",
       "      <td>1110</td>\n",
       "      <td>7</td>\n",
       "      <td>3301</td>\n",
       "      <td>15766</td>\n",
       "      <td>1238</td>\n",
       "      <td>9</td>\n",
       "      <td>2</td>\n",
       "      <td>19.66</td>\n",
       "      <td>0</td>\n",
       "      <td>0.0</td>\n",
       "      <td>2</td>\n",
       "      <td>1.997693</td>\n",
       "      <td>0.0</td>\n",
       "      <td>1.0</td>\n",
       "      <td>1.000000</td>\n",
       "      <td>1.0</td>\n",
       "      <td>0.0</td>\n",
       "    </tr>\n",
       "    <tr>\n",
       "      <th>...</th>\n",
       "      <td>...</td>\n",
       "      <td>...</td>\n",
       "      <td>...</td>\n",
       "      <td>...</td>\n",
       "      <td>...</td>\n",
       "      <td>...</td>\n",
       "      <td>...</td>\n",
       "      <td>...</td>\n",
       "      <td>...</td>\n",
       "      <td>...</td>\n",
       "      <td>...</td>\n",
       "      <td>...</td>\n",
       "      <td>...</td>\n",
       "      <td>...</td>\n",
       "      <td>...</td>\n",
       "      <td>...</td>\n",
       "      <td>...</td>\n",
       "    </tr>\n",
       "    <tr>\n",
       "      <th>5033323</th>\n",
       "      <td>1110</td>\n",
       "      <td>11</td>\n",
       "      <td>3504</td>\n",
       "      <td>4706818</td>\n",
       "      <td>1146</td>\n",
       "      <td>5</td>\n",
       "      <td>1</td>\n",
       "      <td>21.39</td>\n",
       "      <td>0</td>\n",
       "      <td>0.0</td>\n",
       "      <td>1</td>\n",
       "      <td>1.645354</td>\n",
       "      <td>0.0</td>\n",
       "      <td>1.0</td>\n",
       "      <td>0.645354</td>\n",
       "      <td>1.0</td>\n",
       "      <td>NaN</td>\n",
       "    </tr>\n",
       "    <tr>\n",
       "      <th>7548558</th>\n",
       "      <td>1110</td>\n",
       "      <td>11</td>\n",
       "      <td>3504</td>\n",
       "      <td>4706818</td>\n",
       "      <td>1146</td>\n",
       "      <td>6</td>\n",
       "      <td>2</td>\n",
       "      <td>42.78</td>\n",
       "      <td>0</td>\n",
       "      <td>0.0</td>\n",
       "      <td>2</td>\n",
       "      <td>2.371523</td>\n",
       "      <td>0.0</td>\n",
       "      <td>1.0</td>\n",
       "      <td>1.000000</td>\n",
       "      <td>1.0</td>\n",
       "      <td>0.0</td>\n",
       "    </tr>\n",
       "    <tr>\n",
       "      <th>10063793</th>\n",
       "      <td>1110</td>\n",
       "      <td>11</td>\n",
       "      <td>3504</td>\n",
       "      <td>4706818</td>\n",
       "      <td>1146</td>\n",
       "      <td>7</td>\n",
       "      <td>1</td>\n",
       "      <td>21.39</td>\n",
       "      <td>0</td>\n",
       "      <td>0.0</td>\n",
       "      <td>1</td>\n",
       "      <td>1.645354</td>\n",
       "      <td>0.0</td>\n",
       "      <td>1.0</td>\n",
       "      <td>0.000000</td>\n",
       "      <td>1.0</td>\n",
       "      <td>0.0</td>\n",
       "    </tr>\n",
       "    <tr>\n",
       "      <th>12579028</th>\n",
       "      <td>1110</td>\n",
       "      <td>11</td>\n",
       "      <td>3504</td>\n",
       "      <td>4706818</td>\n",
       "      <td>1146</td>\n",
       "      <td>8</td>\n",
       "      <td>2</td>\n",
       "      <td>42.78</td>\n",
       "      <td>0</td>\n",
       "      <td>0.0</td>\n",
       "      <td>2</td>\n",
       "      <td>2.371523</td>\n",
       "      <td>0.0</td>\n",
       "      <td>1.0</td>\n",
       "      <td>1.000000</td>\n",
       "      <td>1.0</td>\n",
       "      <td>0.0</td>\n",
       "    </tr>\n",
       "    <tr>\n",
       "      <th>15094263</th>\n",
       "      <td>1110</td>\n",
       "      <td>11</td>\n",
       "      <td>3504</td>\n",
       "      <td>4706818</td>\n",
       "      <td>1146</td>\n",
       "      <td>9</td>\n",
       "      <td>1</td>\n",
       "      <td>21.39</td>\n",
       "      <td>0</td>\n",
       "      <td>0.0</td>\n",
       "      <td>1</td>\n",
       "      <td>1.645354</td>\n",
       "      <td>0.0</td>\n",
       "      <td>1.0</td>\n",
       "      <td>0.000000</td>\n",
       "      <td>1.0</td>\n",
       "      <td>0.0</td>\n",
       "    </tr>\n",
       "  </tbody>\n",
       "</table>\n",
       "<p>14270 rows × 17 columns</p>\n",
       "</div>"
      ],
      "text/plain": [
       "          Agencia_ID  Canal_ID  Ruta_SAK  Cliente_ID  Producto_ID  Semana  \\\n",
       "5030470         1110         7      3301       15766         1238       5   \n",
       "7545705         1110         7      3301       15766         1238       6   \n",
       "10060940        1110         7      3301       15766         1238       7   \n",
       "12576175        1110         7      3301       15766         1238       8   \n",
       "15091410        1110         7      3301       15766         1238       9   \n",
       "...              ...       ...       ...         ...          ...     ...   \n",
       "5033323         1110        11      3504     4706818         1146       5   \n",
       "7548558         1110        11      3504     4706818         1146       6   \n",
       "10063793        1110        11      3504     4706818         1146       7   \n",
       "12579028        1110        11      3504     4706818         1146       8   \n",
       "15094263        1110        11      3504     4706818         1146       9   \n",
       "\n",
       "          Venta_uni_hoy  Venta_hoy  Dev_uni_proxima  Dev_proxima  \\\n",
       "5030470               1       9.83                0          0.0   \n",
       "7545705               2      19.66                0          0.0   \n",
       "10060940              2      19.66                0          0.0   \n",
       "12576175              3      29.49                0          0.0   \n",
       "15091410              2      19.66                0          0.0   \n",
       "...                 ...        ...              ...          ...   \n",
       "5033323               1      21.39                0          0.0   \n",
       "7548558               2      42.78                0          0.0   \n",
       "10063793              1      21.39                0          0.0   \n",
       "12579028              2      42.78                0          0.0   \n",
       "15094263              1      21.39                0          0.0   \n",
       "\n",
       "          Demanda_uni_equil  predicted_demand  old_stock  new_stock  shortage  \\\n",
       "5030470                   1          1.385030        0.0        1.0  0.385030   \n",
       "7545705                   2          1.997693        0.0        1.0  1.000000   \n",
       "10060940                  2          1.997693        0.0        1.0  1.000000   \n",
       "12576175                  3          2.395756        0.0        1.0  2.000000   \n",
       "15091410                  2          1.997693        0.0        1.0  1.000000   \n",
       "...                     ...               ...        ...        ...       ...   \n",
       "5033323                   1          1.645354        0.0        1.0  0.645354   \n",
       "7548558                   2          2.371523        0.0        1.0  1.000000   \n",
       "10063793                  1          1.645354        0.0        1.0  0.000000   \n",
       "12579028                  2          2.371523        0.0        1.0  1.000000   \n",
       "15094263                  1          1.645354        0.0        1.0  0.000000   \n",
       "\n",
       "          total_sold  spoilage  \n",
       "5030470          1.0       NaN  \n",
       "7545705          1.0       0.0  \n",
       "10060940         1.0       0.0  \n",
       "12576175         1.0       0.0  \n",
       "15091410         1.0       0.0  \n",
       "...              ...       ...  \n",
       "5033323          1.0       NaN  \n",
       "7548558          1.0       0.0  \n",
       "10063793         1.0       0.0  \n",
       "12579028         1.0       0.0  \n",
       "15094263         1.0       0.0  \n",
       "\n",
       "[14270 rows x 17 columns]"
      ]
     },
     "execution_count": 9,
     "metadata": {},
     "output_type": "execute_result"
    }
   ],
   "source": [
    "def objective_function(df):\n",
    "    return df.total_sold.sum() - 3*df.shortage.sum() - 0.5 * df.spoilage.sum() - 0.5*df.old_stock.sum()\n",
    "\n",
    "def log_metrics(outcomes, decision_function, tags=None):\n",
    "    with wandb.init(project=project_name,\n",
    "                    name=decision_function.__name__,\n",
    "                    job_type=\"simulation outcomes\",\n",
    "                    tags=tags\n",
    "                    ):\n",
    "        wandb.log({\n",
    "            \"number_of_orders\": outcomes.new_stock.count(),\n",
    "            \"total_inventory_orders\": outcomes.new_stock.sum(),\n",
    "            \"number_of_shortages\": (outcomes.shortage > 0).sum(),\n",
    "            \"total_shortage\": outcomes.shortage.sum(),\n",
    "            \"total_sold\": outcomes.total_sold.sum(),\n",
    "            \"total_old_stock\": outcomes.old_stock.sum(),\n",
    "            \"full_outcome\": outcomes[store_product_ids + ['Semana', 'old_stock', 'new_stock', 'shortage', 'total_sold', 'spoilage']],\n",
    "            \"objective_function\": objective_function(outcomes)\n",
    "        })\n",
    "    return\n",
    "\n",
    "def simulate_multiple_stores_and_products(raw_data, decision_function, tags, log=True):\n",
    "    groups = raw_data.groupby(store_product_ids)\n",
    "    outcomes = pd.concat([simulate_outcomes(group, decision_function) for _, group in groups])\n",
    "    if log:\n",
    "        log_metrics(outcomes, decision_function, tags)\n",
    "    return outcomes\n",
    "\n",
    "simulate_multiple_stores_and_products(decision_validation_data, first_decision_rule, tags=[\"agencia_1110\"])"
   ]
  },
  {
   "cell_type": "code",
   "execution_count": 10,
   "metadata": {},
   "outputs": [
    {
     "data": {
      "text/html": [
       "Syncing run <strong><a href='https://wandb.ai/nisargvp/Dynamic%20Inventory%20Management%20for%20Bimbo/runs/9wtdfgw9' target=\"_blank\">first_decision_rule</a></strong> to <a href='https://wandb.ai/nisargvp/Dynamic%20Inventory%20Management%20for%20Bimbo' target=\"_blank\">Weights & Biases</a> (<a href='https://wandb.me/run' target=\"_blank\">docs</a>)<br/>"
      ],
      "text/plain": [
       "<IPython.core.display.HTML object>"
      ]
     },
     "metadata": {},
     "output_type": "display_data"
    },
    {
     "data": {
      "text/html": [
       " View run at <a href='https://wandb.ai/nisargvp/Dynamic%20Inventory%20Management%20for%20Bimbo/runs/9wtdfgw9' target=\"_blank\">https://wandb.ai/nisargvp/Dynamic%20Inventory%20Management%20for%20Bimbo/runs/9wtdfgw9</a>"
      ],
      "text/plain": [
       "<IPython.core.display.HTML object>"
      ]
     },
     "metadata": {},
     "output_type": "display_data"
    },
    {
     "data": {
      "text/html": [
       "Waiting for W&B process to finish... <strong style=\"color:green\">(success).</strong>"
      ],
      "text/plain": [
       "<IPython.core.display.HTML object>"
      ]
     },
     "metadata": {},
     "output_type": "display_data"
    },
    {
     "data": {
      "application/vnd.jupyter.widget-view+json": {
       "model_id": "e2c0594642be4e29beec504f9deeda4d",
       "version_major": 2,
       "version_minor": 0
      },
      "text/plain": [
       "VBox(children=(Label(value='1.462 MB of 1.462 MB uploaded (0.000 MB deduped)\\r'), FloatProgress(value=1.0, max…"
      ]
     },
     "metadata": {},
     "output_type": "display_data"
    },
    {
     "data": {
      "text/html": [
       " View run <strong style=\"color:#cdcd00\">first_decision_rule</strong> at: <a href='https://wandb.ai/nisargvp/Dynamic%20Inventory%20Management%20for%20Bimbo/runs/9wtdfgw9' target=\"_blank\">https://wandb.ai/nisargvp/Dynamic%20Inventory%20Management%20for%20Bimbo/runs/9wtdfgw9</a><br/>Synced 4 W&B file(s), 1 media file(s), 1 artifact file(s) and 0 other file(s)"
      ],
      "text/plain": [
       "<IPython.core.display.HTML object>"
      ]
     },
     "metadata": {},
     "output_type": "display_data"
    },
    {
     "data": {
      "text/html": [
       "Syncing run <strong><a href='https://wandb.ai/nisargvp/Dynamic%20Inventory%20Management%20for%20Bimbo/runs/xqv3oeqw' target=\"_blank\">predicted_need</a></strong> to <a href='https://wandb.ai/nisargvp/Dynamic%20Inventory%20Management%20for%20Bimbo' target=\"_blank\">Weights & Biases</a> (<a href='https://wandb.me/run' target=\"_blank\">docs</a>)<br/>"
      ],
      "text/plain": [
       "<IPython.core.display.HTML object>"
      ]
     },
     "metadata": {},
     "output_type": "display_data"
    },
    {
     "data": {
      "text/html": [
       " View run at <a href='https://wandb.ai/nisargvp/Dynamic%20Inventory%20Management%20for%20Bimbo/runs/xqv3oeqw' target=\"_blank\">https://wandb.ai/nisargvp/Dynamic%20Inventory%20Management%20for%20Bimbo/runs/xqv3oeqw</a>"
      ],
      "text/plain": [
       "<IPython.core.display.HTML object>"
      ]
     },
     "metadata": {},
     "output_type": "display_data"
    },
    {
     "data": {
      "text/html": [
       "Waiting for W&B process to finish... <strong style=\"color:green\">(success).</strong>"
      ],
      "text/plain": [
       "<IPython.core.display.HTML object>"
      ]
     },
     "metadata": {},
     "output_type": "display_data"
    },
    {
     "data": {
      "application/vnd.jupyter.widget-view+json": {
       "model_id": "12ccb68468b04b9dbd39973d2c5093de",
       "version_major": 2,
       "version_minor": 0
      },
      "text/plain": [
       "VBox(children=(Label(value='1.411 MB of 1.411 MB uploaded (0.000 MB deduped)\\r'), FloatProgress(value=1.0, max…"
      ]
     },
     "metadata": {},
     "output_type": "display_data"
    },
    {
     "data": {
      "text/html": [
       " View run <strong style=\"color:#cdcd00\">predicted_need</strong> at: <a href='https://wandb.ai/nisargvp/Dynamic%20Inventory%20Management%20for%20Bimbo/runs/xqv3oeqw' target=\"_blank\">https://wandb.ai/nisargvp/Dynamic%20Inventory%20Management%20for%20Bimbo/runs/xqv3oeqw</a><br/>Synced 4 W&B file(s), 1 media file(s), 1 artifact file(s) and 0 other file(s)"
      ],
      "text/plain": [
       "<IPython.core.display.HTML object>"
      ]
     },
     "metadata": {},
     "output_type": "display_data"
    },
    {
     "data": {
      "text/html": [
       "Syncing run <strong><a href='https://wandb.ai/nisargvp/Dynamic%20Inventory%20Management%20for%20Bimbo/runs/0pubyca7' target=\"_blank\">predicted_need_plus_one</a></strong> to <a href='https://wandb.ai/nisargvp/Dynamic%20Inventory%20Management%20for%20Bimbo' target=\"_blank\">Weights & Biases</a> (<a href='https://wandb.me/run' target=\"_blank\">docs</a>)<br/>"
      ],
      "text/plain": [
       "<IPython.core.display.HTML object>"
      ]
     },
     "metadata": {},
     "output_type": "display_data"
    },
    {
     "data": {
      "text/html": [
       " View run at <a href='https://wandb.ai/nisargvp/Dynamic%20Inventory%20Management%20for%20Bimbo/runs/0pubyca7' target=\"_blank\">https://wandb.ai/nisargvp/Dynamic%20Inventory%20Management%20for%20Bimbo/runs/0pubyca7</a>"
      ],
      "text/plain": [
       "<IPython.core.display.HTML object>"
      ]
     },
     "metadata": {},
     "output_type": "display_data"
    },
    {
     "data": {
      "text/html": [
       "Waiting for W&B process to finish... <strong style=\"color:green\">(success).</strong>"
      ],
      "text/plain": [
       "<IPython.core.display.HTML object>"
      ]
     },
     "metadata": {},
     "output_type": "display_data"
    },
    {
     "data": {
      "application/vnd.jupyter.widget-view+json": {
       "model_id": "a3e7548583074a018ccd6ee7049239a1",
       "version_major": 2,
       "version_minor": 0
      },
      "text/plain": [
       "VBox(children=(Label(value='1.412 MB of 1.412 MB uploaded (0.000 MB deduped)\\r'), FloatProgress(value=1.0, max…"
      ]
     },
     "metadata": {},
     "output_type": "display_data"
    },
    {
     "data": {
      "text/html": [
       " View run <strong style=\"color:#cdcd00\">predicted_need_plus_one</strong> at: <a href='https://wandb.ai/nisargvp/Dynamic%20Inventory%20Management%20for%20Bimbo/runs/0pubyca7' target=\"_blank\">https://wandb.ai/nisargvp/Dynamic%20Inventory%20Management%20for%20Bimbo/runs/0pubyca7</a><br/>Synced 4 W&B file(s), 1 media file(s), 1 artifact file(s) and 0 other file(s)"
      ],
      "text/plain": [
       "<IPython.core.display.HTML object>"
      ]
     },
     "metadata": {},
     "output_type": "display_data"
    },
    {
     "data": {
      "text/html": [
       "Syncing run <strong><a href='https://wandb.ai/nisargvp/Dynamic%20Inventory%20Management%20for%20Bimbo/runs/oris2axz' target=\"_blank\">predicted_demand</a></strong> to <a href='https://wandb.ai/nisargvp/Dynamic%20Inventory%20Management%20for%20Bimbo' target=\"_blank\">Weights & Biases</a> (<a href='https://wandb.me/run' target=\"_blank\">docs</a>)<br/>"
      ],
      "text/plain": [
       "<IPython.core.display.HTML object>"
      ]
     },
     "metadata": {},
     "output_type": "display_data"
    },
    {
     "data": {
      "text/html": [
       " View run at <a href='https://wandb.ai/nisargvp/Dynamic%20Inventory%20Management%20for%20Bimbo/runs/oris2axz' target=\"_blank\">https://wandb.ai/nisargvp/Dynamic%20Inventory%20Management%20for%20Bimbo/runs/oris2axz</a>"
      ],
      "text/plain": [
       "<IPython.core.display.HTML object>"
      ]
     },
     "metadata": {},
     "output_type": "display_data"
    },
    {
     "data": {
      "text/html": [
       "Waiting for W&B process to finish... <strong style=\"color:green\">(success).</strong>"
      ],
      "text/plain": [
       "<IPython.core.display.HTML object>"
      ]
     },
     "metadata": {},
     "output_type": "display_data"
    },
    {
     "data": {
      "application/vnd.jupyter.widget-view+json": {
       "model_id": "c1ea99acc28c4a97aa2e9aa91b88eb06",
       "version_major": 2,
       "version_minor": 0
      },
      "text/plain": [
       "VBox(children=(Label(value='0.833 MB of 1.411 MB uploaded (0.000 MB deduped)\\r'), FloatProgress(value=0.589879…"
      ]
     },
     "metadata": {},
     "output_type": "display_data"
    },
    {
     "data": {
      "text/html": [
       " View run <strong style=\"color:#cdcd00\">predicted_demand</strong> at: <a href='https://wandb.ai/nisargvp/Dynamic%20Inventory%20Management%20for%20Bimbo/runs/oris2axz' target=\"_blank\">https://wandb.ai/nisargvp/Dynamic%20Inventory%20Management%20for%20Bimbo/runs/oris2axz</a><br/>Synced 4 W&B file(s), 1 media file(s), 1 artifact file(s) and 0 other file(s)"
      ],
      "text/plain": [
       "<IPython.core.display.HTML object>"
      ]
     },
     "metadata": {},
     "output_type": "display_data"
    }
   ],
   "source": [
    "import numpy as np\n",
    "\n",
    "def predicted_need(state):\n",
    "    return np.ceil(state.predicted_demand - state.old_stock)\n",
    "\n",
    "def predicted_need_plus_one(state):\n",
    "    return predicted_need(state) + 1\n",
    "\n",
    "def predicted_demand(state):\n",
    "    return np.ceil(state.predicted_demand)\n",
    "\n",
    "for rule in [first_decision_rule, predicted_need, predicted_need_plus_one, predicted_demand]:\n",
    "    simulate_multiple_stores_and_products(decision_validation_data, rule, tags=[\"agencia_1110\"])\n"
   ]
  },
  {
   "cell_type": "markdown",
   "metadata": {},
   "source": [
    "# Programmatic Optimization"
   ]
  },
  {
   "cell_type": "markdown",
   "metadata": {},
   "source": [
    "#### SciPy library, RL library, WANDB Sweeps to optimize an objective function for our simulation"
   ]
  },
  {
   "cell_type": "code",
   "execution_count": 11,
   "metadata": {},
   "outputs": [
    {
     "name": "stdout",
     "output_type": "stream",
     "text": [
      "Create sweep with ID: bxeo93q9\n",
      "Sweep URL: https://wandb.ai/nisargvp/Dynamic%20Inventory%20Management%20for%20Bimbo/sweeps/bxeo93q9\n"
     ]
    },
    {
     "name": "stderr",
     "output_type": "stream",
     "text": [
      "\u001b[34m\u001b[1mwandb\u001b[0m: Agent Starting Run: wy0u0943 with config:\n",
      "\u001b[34m\u001b[1mwandb\u001b[0m: \tconstant: 0.22258954745751405\n",
      "\u001b[34m\u001b[1mwandb\u001b[0m: \told_stock_mult: -0.8606640354395918\n",
      "\u001b[34m\u001b[1mwandb\u001b[0m: \tpredicted_demand_mult: 0.9145669409551592\n",
      "Failed to detect the name of this notebook, you can set it manually with the WANDB_NOTEBOOK_NAME environment variable to enable code saving.\n",
      "\u001b[34m\u001b[1mwandb\u001b[0m: \u001b[33mWARNING\u001b[0m Ignored wandb.init() arg project when running a sweep.\n"
     ]
    },
    {
     "data": {
      "text/html": [
       "Syncing run <strong><a href='https://wandb.ai/nisargvp/Dynamic%20Inventory%20Management%20for%20Bimbo/runs/wy0u0943' target=\"_blank\">lucky-sweep-1</a></strong> to <a href='https://wandb.ai/nisargvp/Dynamic%20Inventory%20Management%20for%20Bimbo' target=\"_blank\">Weights & Biases</a> (<a href='https://wandb.me/run' target=\"_blank\">docs</a>)<br/>Sweep page: <a href='https://wandb.ai/nisargvp/Dynamic%20Inventory%20Management%20for%20Bimbo/sweeps/bxeo93q9' target=\"_blank\">https://wandb.ai/nisargvp/Dynamic%20Inventory%20Management%20for%20Bimbo/sweeps/bxeo93q9</a>"
      ],
      "text/plain": [
       "<IPython.core.display.HTML object>"
      ]
     },
     "metadata": {},
     "output_type": "display_data"
    },
    {
     "data": {
      "text/html": [
       " View run at <a href='https://wandb.ai/nisargvp/Dynamic%20Inventory%20Management%20for%20Bimbo/runs/wy0u0943' target=\"_blank\">https://wandb.ai/nisargvp/Dynamic%20Inventory%20Management%20for%20Bimbo/runs/wy0u0943</a>"
      ],
      "text/plain": [
       "<IPython.core.display.HTML object>"
      ]
     },
     "metadata": {},
     "output_type": "display_data"
    },
    {
     "data": {
      "text/html": [
       "Waiting for W&B process to finish... <strong style=\"color:green\">(success).</strong>"
      ],
      "text/plain": [
       "<IPython.core.display.HTML object>"
      ]
     },
     "metadata": {},
     "output_type": "display_data"
    },
    {
     "data": {
      "application/vnd.jupyter.widget-view+json": {
       "model_id": "4081521732584d0b9108e3bc489927de",
       "version_major": 2,
       "version_minor": 0
      },
      "text/plain": [
       "VBox(children=(Label(value='0.001 MB of 0.007 MB uploaded (0.000 MB deduped)\\r'), FloatProgress(value=0.171333…"
      ]
     },
     "metadata": {},
     "output_type": "display_data"
    },
    {
     "data": {
      "text/html": [
       " View run <strong style=\"color:#cdcd00\">lucky-sweep-1</strong> at: <a href='https://wandb.ai/nisargvp/Dynamic%20Inventory%20Management%20for%20Bimbo/runs/wy0u0943' target=\"_blank\">https://wandb.ai/nisargvp/Dynamic%20Inventory%20Management%20for%20Bimbo/runs/wy0u0943</a><br/>Synced 4 W&B file(s), 0 media file(s), 0 artifact file(s) and 0 other file(s)"
      ],
      "text/plain": [
       "<IPython.core.display.HTML object>"
      ]
     },
     "metadata": {},
     "output_type": "display_data"
    },
    {
     "name": "stderr",
     "output_type": "stream",
     "text": [
      "\u001b[34m\u001b[1mwandb\u001b[0m: Agent Starting Run: 0clj2wij with config:\n",
      "\u001b[34m\u001b[1mwandb\u001b[0m: \tconstant: 0.1830544895669101\n",
      "\u001b[34m\u001b[1mwandb\u001b[0m: \told_stock_mult: -0.04991751694440283\n",
      "\u001b[34m\u001b[1mwandb\u001b[0m: \tpredicted_demand_mult: 1.1171435896269315\n",
      "Failed to detect the name of this notebook, you can set it manually with the WANDB_NOTEBOOK_NAME environment variable to enable code saving.\n",
      "\u001b[34m\u001b[1mwandb\u001b[0m: \u001b[33mWARNING\u001b[0m Ignored wandb.init() arg project when running a sweep.\n"
     ]
    },
    {
     "data": {
      "text/html": [
       "Syncing run <strong><a href='https://wandb.ai/nisargvp/Dynamic%20Inventory%20Management%20for%20Bimbo/runs/0clj2wij' target=\"_blank\">denim-sweep-2</a></strong> to <a href='https://wandb.ai/nisargvp/Dynamic%20Inventory%20Management%20for%20Bimbo' target=\"_blank\">Weights & Biases</a> (<a href='https://wandb.me/run' target=\"_blank\">docs</a>)<br/>Sweep page: <a href='https://wandb.ai/nisargvp/Dynamic%20Inventory%20Management%20for%20Bimbo/sweeps/bxeo93q9' target=\"_blank\">https://wandb.ai/nisargvp/Dynamic%20Inventory%20Management%20for%20Bimbo/sweeps/bxeo93q9</a>"
      ],
      "text/plain": [
       "<IPython.core.display.HTML object>"
      ]
     },
     "metadata": {},
     "output_type": "display_data"
    },
    {
     "data": {
      "text/html": [
       " View run at <a href='https://wandb.ai/nisargvp/Dynamic%20Inventory%20Management%20for%20Bimbo/runs/0clj2wij' target=\"_blank\">https://wandb.ai/nisargvp/Dynamic%20Inventory%20Management%20for%20Bimbo/runs/0clj2wij</a>"
      ],
      "text/plain": [
       "<IPython.core.display.HTML object>"
      ]
     },
     "metadata": {},
     "output_type": "display_data"
    },
    {
     "data": {
      "text/html": [
       "Waiting for W&B process to finish... <strong style=\"color:green\">(success).</strong>"
      ],
      "text/plain": [
       "<IPython.core.display.HTML object>"
      ]
     },
     "metadata": {},
     "output_type": "display_data"
    },
    {
     "data": {
      "text/html": [
       " View run <strong style=\"color:#cdcd00\">denim-sweep-2</strong> at: <a href='https://wandb.ai/nisargvp/Dynamic%20Inventory%20Management%20for%20Bimbo/runs/0clj2wij' target=\"_blank\">https://wandb.ai/nisargvp/Dynamic%20Inventory%20Management%20for%20Bimbo/runs/0clj2wij</a><br/>Synced 4 W&B file(s), 0 media file(s), 0 artifact file(s) and 0 other file(s)"
      ],
      "text/plain": [
       "<IPython.core.display.HTML object>"
      ]
     },
     "metadata": {},
     "output_type": "display_data"
    },
    {
     "name": "stderr",
     "output_type": "stream",
     "text": [
      "\u001b[34m\u001b[1mwandb\u001b[0m: Agent Starting Run: ujafe6im with config:\n",
      "\u001b[34m\u001b[1mwandb\u001b[0m: \tconstant: 0.25970199708312214\n",
      "\u001b[34m\u001b[1mwandb\u001b[0m: \told_stock_mult: -0.1482814952686189\n",
      "\u001b[34m\u001b[1mwandb\u001b[0m: \tpredicted_demand_mult: 1.0440808979592875\n",
      "Failed to detect the name of this notebook, you can set it manually with the WANDB_NOTEBOOK_NAME environment variable to enable code saving.\n",
      "\u001b[34m\u001b[1mwandb\u001b[0m: \u001b[33mWARNING\u001b[0m Ignored wandb.init() arg project when running a sweep.\n"
     ]
    },
    {
     "data": {
      "text/html": [
       "Syncing run <strong><a href='https://wandb.ai/nisargvp/Dynamic%20Inventory%20Management%20for%20Bimbo/runs/ujafe6im' target=\"_blank\">jolly-sweep-3</a></strong> to <a href='https://wandb.ai/nisargvp/Dynamic%20Inventory%20Management%20for%20Bimbo' target=\"_blank\">Weights & Biases</a> (<a href='https://wandb.me/run' target=\"_blank\">docs</a>)<br/>Sweep page: <a href='https://wandb.ai/nisargvp/Dynamic%20Inventory%20Management%20for%20Bimbo/sweeps/bxeo93q9' target=\"_blank\">https://wandb.ai/nisargvp/Dynamic%20Inventory%20Management%20for%20Bimbo/sweeps/bxeo93q9</a>"
      ],
      "text/plain": [
       "<IPython.core.display.HTML object>"
      ]
     },
     "metadata": {},
     "output_type": "display_data"
    },
    {
     "data": {
      "text/html": [
       " View run at <a href='https://wandb.ai/nisargvp/Dynamic%20Inventory%20Management%20for%20Bimbo/runs/ujafe6im' target=\"_blank\">https://wandb.ai/nisargvp/Dynamic%20Inventory%20Management%20for%20Bimbo/runs/ujafe6im</a>"
      ],
      "text/plain": [
       "<IPython.core.display.HTML object>"
      ]
     },
     "metadata": {},
     "output_type": "display_data"
    },
    {
     "data": {
      "text/html": [
       "Waiting for W&B process to finish... <strong style=\"color:green\">(success).</strong>"
      ],
      "text/plain": [
       "<IPython.core.display.HTML object>"
      ]
     },
     "metadata": {},
     "output_type": "display_data"
    },
    {
     "data": {
      "text/html": [
       " View run <strong style=\"color:#cdcd00\">jolly-sweep-3</strong> at: <a href='https://wandb.ai/nisargvp/Dynamic%20Inventory%20Management%20for%20Bimbo/runs/ujafe6im' target=\"_blank\">https://wandb.ai/nisargvp/Dynamic%20Inventory%20Management%20for%20Bimbo/runs/ujafe6im</a><br/>Synced 4 W&B file(s), 0 media file(s), 0 artifact file(s) and 0 other file(s)"
      ],
      "text/plain": [
       "<IPython.core.display.HTML object>"
      ]
     },
     "metadata": {},
     "output_type": "display_data"
    },
    {
     "name": "stderr",
     "output_type": "stream",
     "text": [
      "\u001b[34m\u001b[1mwandb\u001b[0m: Agent Starting Run: 71mzc751 with config:\n",
      "\u001b[34m\u001b[1mwandb\u001b[0m: \tconstant: 0.3875557826290099\n",
      "\u001b[34m\u001b[1mwandb\u001b[0m: \told_stock_mult: -0.03704893227204842\n",
      "\u001b[34m\u001b[1mwandb\u001b[0m: \tpredicted_demand_mult: 1.2345546492393848\n",
      "Failed to detect the name of this notebook, you can set it manually with the WANDB_NOTEBOOK_NAME environment variable to enable code saving.\n",
      "\u001b[34m\u001b[1mwandb\u001b[0m: \u001b[33mWARNING\u001b[0m Ignored wandb.init() arg project when running a sweep.\n"
     ]
    },
    {
     "data": {
      "text/html": [
       "Syncing run <strong><a href='https://wandb.ai/nisargvp/Dynamic%20Inventory%20Management%20for%20Bimbo/runs/71mzc751' target=\"_blank\">eager-sweep-4</a></strong> to <a href='https://wandb.ai/nisargvp/Dynamic%20Inventory%20Management%20for%20Bimbo' target=\"_blank\">Weights & Biases</a> (<a href='https://wandb.me/run' target=\"_blank\">docs</a>)<br/>Sweep page: <a href='https://wandb.ai/nisargvp/Dynamic%20Inventory%20Management%20for%20Bimbo/sweeps/bxeo93q9' target=\"_blank\">https://wandb.ai/nisargvp/Dynamic%20Inventory%20Management%20for%20Bimbo/sweeps/bxeo93q9</a>"
      ],
      "text/plain": [
       "<IPython.core.display.HTML object>"
      ]
     },
     "metadata": {},
     "output_type": "display_data"
    },
    {
     "data": {
      "text/html": [
       " View run at <a href='https://wandb.ai/nisargvp/Dynamic%20Inventory%20Management%20for%20Bimbo/runs/71mzc751' target=\"_blank\">https://wandb.ai/nisargvp/Dynamic%20Inventory%20Management%20for%20Bimbo/runs/71mzc751</a>"
      ],
      "text/plain": [
       "<IPython.core.display.HTML object>"
      ]
     },
     "metadata": {},
     "output_type": "display_data"
    },
    {
     "data": {
      "text/html": [
       "Waiting for W&B process to finish... <strong style=\"color:green\">(success).</strong>"
      ],
      "text/plain": [
       "<IPython.core.display.HTML object>"
      ]
     },
     "metadata": {},
     "output_type": "display_data"
    },
    {
     "data": {
      "text/html": [
       " View run <strong style=\"color:#cdcd00\">eager-sweep-4</strong> at: <a href='https://wandb.ai/nisargvp/Dynamic%20Inventory%20Management%20for%20Bimbo/runs/71mzc751' target=\"_blank\">https://wandb.ai/nisargvp/Dynamic%20Inventory%20Management%20for%20Bimbo/runs/71mzc751</a><br/>Synced 4 W&B file(s), 0 media file(s), 0 artifact file(s) and 0 other file(s)"
      ],
      "text/plain": [
       "<IPython.core.display.HTML object>"
      ]
     },
     "metadata": {},
     "output_type": "display_data"
    },
    {
     "name": "stderr",
     "output_type": "stream",
     "text": [
      "\u001b[34m\u001b[1mwandb\u001b[0m: Sweep Agent: Waiting for job.\n",
      "\u001b[34m\u001b[1mwandb\u001b[0m: Job received.\n",
      "\u001b[34m\u001b[1mwandb\u001b[0m: Agent Starting Run: 6wpjb9oz with config:\n",
      "\u001b[34m\u001b[1mwandb\u001b[0m: \tconstant: 0.1313547233022161\n",
      "\u001b[34m\u001b[1mwandb\u001b[0m: \told_stock_mult: -0.00801215842215619\n",
      "\u001b[34m\u001b[1mwandb\u001b[0m: \tpredicted_demand_mult: 1.4413395250848713\n",
      "Failed to detect the name of this notebook, you can set it manually with the WANDB_NOTEBOOK_NAME environment variable to enable code saving.\n",
      "\u001b[34m\u001b[1mwandb\u001b[0m: \u001b[33mWARNING\u001b[0m Ignored wandb.init() arg project when running a sweep.\n"
     ]
    },
    {
     "data": {
      "text/html": [
       "Syncing run <strong><a href='https://wandb.ai/nisargvp/Dynamic%20Inventory%20Management%20for%20Bimbo/runs/6wpjb9oz' target=\"_blank\">ethereal-sweep-5</a></strong> to <a href='https://wandb.ai/nisargvp/Dynamic%20Inventory%20Management%20for%20Bimbo' target=\"_blank\">Weights & Biases</a> (<a href='https://wandb.me/run' target=\"_blank\">docs</a>)<br/>Sweep page: <a href='https://wandb.ai/nisargvp/Dynamic%20Inventory%20Management%20for%20Bimbo/sweeps/bxeo93q9' target=\"_blank\">https://wandb.ai/nisargvp/Dynamic%20Inventory%20Management%20for%20Bimbo/sweeps/bxeo93q9</a>"
      ],
      "text/plain": [
       "<IPython.core.display.HTML object>"
      ]
     },
     "metadata": {},
     "output_type": "display_data"
    },
    {
     "data": {
      "text/html": [
       " View run at <a href='https://wandb.ai/nisargvp/Dynamic%20Inventory%20Management%20for%20Bimbo/runs/6wpjb9oz' target=\"_blank\">https://wandb.ai/nisargvp/Dynamic%20Inventory%20Management%20for%20Bimbo/runs/6wpjb9oz</a>"
      ],
      "text/plain": [
       "<IPython.core.display.HTML object>"
      ]
     },
     "metadata": {},
     "output_type": "display_data"
    },
    {
     "data": {
      "text/html": [
       "Waiting for W&B process to finish... <strong style=\"color:green\">(success).</strong>"
      ],
      "text/plain": [
       "<IPython.core.display.HTML object>"
      ]
     },
     "metadata": {},
     "output_type": "display_data"
    },
    {
     "data": {
      "application/vnd.jupyter.widget-view+json": {
       "model_id": "ba5e1cd481a742618ca01d66d965f3c2",
       "version_major": 2,
       "version_minor": 0
      },
      "text/plain": [
       "VBox(children=(Label(value='0.007 MB of 0.008 MB uploaded (0.000 MB deduped)\\r'), FloatProgress(value=0.899420…"
      ]
     },
     "metadata": {},
     "output_type": "display_data"
    },
    {
     "data": {
      "text/html": [
       " View run <strong style=\"color:#cdcd00\">ethereal-sweep-5</strong> at: <a href='https://wandb.ai/nisargvp/Dynamic%20Inventory%20Management%20for%20Bimbo/runs/6wpjb9oz' target=\"_blank\">https://wandb.ai/nisargvp/Dynamic%20Inventory%20Management%20for%20Bimbo/runs/6wpjb9oz</a><br/>Synced 4 W&B file(s), 0 media file(s), 0 artifact file(s) and 0 other file(s)"
      ],
      "text/plain": [
       "<IPython.core.display.HTML object>"
      ]
     },
     "metadata": {},
     "output_type": "display_data"
    },
    {
     "name": "stderr",
     "output_type": "stream",
     "text": [
      "\u001b[34m\u001b[1mwandb\u001b[0m: Agent Starting Run: aysz2q7o with config:\n",
      "\u001b[34m\u001b[1mwandb\u001b[0m: \tconstant: 2.8839437824938963\n",
      "\u001b[34m\u001b[1mwandb\u001b[0m: \told_stock_mult: -0.012554993351748587\n",
      "\u001b[34m\u001b[1mwandb\u001b[0m: \tpredicted_demand_mult: 0.9552813025901546\n",
      "Failed to detect the name of this notebook, you can set it manually with the WANDB_NOTEBOOK_NAME environment variable to enable code saving.\n",
      "\u001b[34m\u001b[1mwandb\u001b[0m: \u001b[33mWARNING\u001b[0m Ignored wandb.init() arg project when running a sweep.\n"
     ]
    },
    {
     "data": {
      "text/html": [
       "Syncing run <strong><a href='https://wandb.ai/nisargvp/Dynamic%20Inventory%20Management%20for%20Bimbo/runs/aysz2q7o' target=\"_blank\">neat-sweep-6</a></strong> to <a href='https://wandb.ai/nisargvp/Dynamic%20Inventory%20Management%20for%20Bimbo' target=\"_blank\">Weights & Biases</a> (<a href='https://wandb.me/run' target=\"_blank\">docs</a>)<br/>Sweep page: <a href='https://wandb.ai/nisargvp/Dynamic%20Inventory%20Management%20for%20Bimbo/sweeps/bxeo93q9' target=\"_blank\">https://wandb.ai/nisargvp/Dynamic%20Inventory%20Management%20for%20Bimbo/sweeps/bxeo93q9</a>"
      ],
      "text/plain": [
       "<IPython.core.display.HTML object>"
      ]
     },
     "metadata": {},
     "output_type": "display_data"
    },
    {
     "data": {
      "text/html": [
       " View run at <a href='https://wandb.ai/nisargvp/Dynamic%20Inventory%20Management%20for%20Bimbo/runs/aysz2q7o' target=\"_blank\">https://wandb.ai/nisargvp/Dynamic%20Inventory%20Management%20for%20Bimbo/runs/aysz2q7o</a>"
      ],
      "text/plain": [
       "<IPython.core.display.HTML object>"
      ]
     },
     "metadata": {},
     "output_type": "display_data"
    },
    {
     "data": {
      "text/html": [
       "Waiting for W&B process to finish... <strong style=\"color:green\">(success).</strong>"
      ],
      "text/plain": [
       "<IPython.core.display.HTML object>"
      ]
     },
     "metadata": {},
     "output_type": "display_data"
    },
    {
     "data": {
      "application/vnd.jupyter.widget-view+json": {
       "model_id": "388fd994e5454430b714e40664f53c3e",
       "version_major": 2,
       "version_minor": 0
      },
      "text/plain": [
       "VBox(children=(Label(value='0.001 MB of 0.007 MB uploaded (0.000 MB deduped)\\r'), FloatProgress(value=0.171417…"
      ]
     },
     "metadata": {},
     "output_type": "display_data"
    },
    {
     "data": {
      "text/html": [
       " View run <strong style=\"color:#cdcd00\">neat-sweep-6</strong> at: <a href='https://wandb.ai/nisargvp/Dynamic%20Inventory%20Management%20for%20Bimbo/runs/aysz2q7o' target=\"_blank\">https://wandb.ai/nisargvp/Dynamic%20Inventory%20Management%20for%20Bimbo/runs/aysz2q7o</a><br/>Synced 4 W&B file(s), 0 media file(s), 0 artifact file(s) and 0 other file(s)"
      ],
      "text/plain": [
       "<IPython.core.display.HTML object>"
      ]
     },
     "metadata": {},
     "output_type": "display_data"
    },
    {
     "name": "stderr",
     "output_type": "stream",
     "text": [
      "\u001b[34m\u001b[1mwandb\u001b[0m: Agent Starting Run: ctsuqwkw with config:\n",
      "\u001b[34m\u001b[1mwandb\u001b[0m: \tconstant: 1.325128792852841\n",
      "\u001b[34m\u001b[1mwandb\u001b[0m: \told_stock_mult: -0.015240260550847928\n",
      "\u001b[34m\u001b[1mwandb\u001b[0m: \tpredicted_demand_mult: 1.2496256932503165\n",
      "Failed to detect the name of this notebook, you can set it manually with the WANDB_NOTEBOOK_NAME environment variable to enable code saving.\n",
      "\u001b[34m\u001b[1mwandb\u001b[0m: \u001b[33mWARNING\u001b[0m Ignored wandb.init() arg project when running a sweep.\n"
     ]
    },
    {
     "data": {
      "text/html": [
       "Syncing run <strong><a href='https://wandb.ai/nisargvp/Dynamic%20Inventory%20Management%20for%20Bimbo/runs/ctsuqwkw' target=\"_blank\">graceful-sweep-7</a></strong> to <a href='https://wandb.ai/nisargvp/Dynamic%20Inventory%20Management%20for%20Bimbo' target=\"_blank\">Weights & Biases</a> (<a href='https://wandb.me/run' target=\"_blank\">docs</a>)<br/>Sweep page: <a href='https://wandb.ai/nisargvp/Dynamic%20Inventory%20Management%20for%20Bimbo/sweeps/bxeo93q9' target=\"_blank\">https://wandb.ai/nisargvp/Dynamic%20Inventory%20Management%20for%20Bimbo/sweeps/bxeo93q9</a>"
      ],
      "text/plain": [
       "<IPython.core.display.HTML object>"
      ]
     },
     "metadata": {},
     "output_type": "display_data"
    },
    {
     "data": {
      "text/html": [
       " View run at <a href='https://wandb.ai/nisargvp/Dynamic%20Inventory%20Management%20for%20Bimbo/runs/ctsuqwkw' target=\"_blank\">https://wandb.ai/nisargvp/Dynamic%20Inventory%20Management%20for%20Bimbo/runs/ctsuqwkw</a>"
      ],
      "text/plain": [
       "<IPython.core.display.HTML object>"
      ]
     },
     "metadata": {},
     "output_type": "display_data"
    },
    {
     "data": {
      "text/html": [
       "Waiting for W&B process to finish... <strong style=\"color:green\">(success).</strong>"
      ],
      "text/plain": [
       "<IPython.core.display.HTML object>"
      ]
     },
     "metadata": {},
     "output_type": "display_data"
    },
    {
     "data": {
      "application/vnd.jupyter.widget-view+json": {
       "model_id": "c9ee099a4ffa438a9660c86c50b30b79",
       "version_major": 2,
       "version_minor": 0
      },
      "text/plain": [
       "VBox(children=(Label(value='0.001 MB of 0.007 MB uploaded (0.000 MB deduped)\\r'), FloatProgress(value=0.171333…"
      ]
     },
     "metadata": {},
     "output_type": "display_data"
    },
    {
     "data": {
      "text/html": [
       " View run <strong style=\"color:#cdcd00\">graceful-sweep-7</strong> at: <a href='https://wandb.ai/nisargvp/Dynamic%20Inventory%20Management%20for%20Bimbo/runs/ctsuqwkw' target=\"_blank\">https://wandb.ai/nisargvp/Dynamic%20Inventory%20Management%20for%20Bimbo/runs/ctsuqwkw</a><br/>Synced 4 W&B file(s), 0 media file(s), 0 artifact file(s) and 0 other file(s)"
      ],
      "text/plain": [
       "<IPython.core.display.HTML object>"
      ]
     },
     "metadata": {},
     "output_type": "display_data"
    },
    {
     "name": "stderr",
     "output_type": "stream",
     "text": [
      "\u001b[34m\u001b[1mwandb\u001b[0m: Agent Starting Run: 17og19tn with config:\n",
      "\u001b[34m\u001b[1mwandb\u001b[0m: \tconstant: 0.4079549590402331\n",
      "\u001b[34m\u001b[1mwandb\u001b[0m: \told_stock_mult: -0.013460565504499034\n",
      "\u001b[34m\u001b[1mwandb\u001b[0m: \tpredicted_demand_mult: 1.0620376953762105\n",
      "Failed to detect the name of this notebook, you can set it manually with the WANDB_NOTEBOOK_NAME environment variable to enable code saving.\n",
      "\u001b[34m\u001b[1mwandb\u001b[0m: \u001b[33mWARNING\u001b[0m Ignored wandb.init() arg project when running a sweep.\n"
     ]
    },
    {
     "data": {
      "text/html": [
       "Syncing run <strong><a href='https://wandb.ai/nisargvp/Dynamic%20Inventory%20Management%20for%20Bimbo/runs/17og19tn' target=\"_blank\">prime-sweep-8</a></strong> to <a href='https://wandb.ai/nisargvp/Dynamic%20Inventory%20Management%20for%20Bimbo' target=\"_blank\">Weights & Biases</a> (<a href='https://wandb.me/run' target=\"_blank\">docs</a>)<br/>Sweep page: <a href='https://wandb.ai/nisargvp/Dynamic%20Inventory%20Management%20for%20Bimbo/sweeps/bxeo93q9' target=\"_blank\">https://wandb.ai/nisargvp/Dynamic%20Inventory%20Management%20for%20Bimbo/sweeps/bxeo93q9</a>"
      ],
      "text/plain": [
       "<IPython.core.display.HTML object>"
      ]
     },
     "metadata": {},
     "output_type": "display_data"
    },
    {
     "data": {
      "text/html": [
       " View run at <a href='https://wandb.ai/nisargvp/Dynamic%20Inventory%20Management%20for%20Bimbo/runs/17og19tn' target=\"_blank\">https://wandb.ai/nisargvp/Dynamic%20Inventory%20Management%20for%20Bimbo/runs/17og19tn</a>"
      ],
      "text/plain": [
       "<IPython.core.display.HTML object>"
      ]
     },
     "metadata": {},
     "output_type": "display_data"
    },
    {
     "data": {
      "text/html": [
       "Waiting for W&B process to finish... <strong style=\"color:green\">(success).</strong>"
      ],
      "text/plain": [
       "<IPython.core.display.HTML object>"
      ]
     },
     "metadata": {},
     "output_type": "display_data"
    },
    {
     "data": {
      "application/vnd.jupyter.widget-view+json": {
       "model_id": "a153907038b9495fb1af68067cd06617",
       "version_major": 2,
       "version_minor": 0
      },
      "text/plain": [
       "VBox(children=(Label(value='0.001 MB of 0.008 MB uploaded (0.000 MB deduped)\\r'), FloatProgress(value=0.168263…"
      ]
     },
     "metadata": {},
     "output_type": "display_data"
    },
    {
     "data": {
      "text/html": [
       " View run <strong style=\"color:#cdcd00\">prime-sweep-8</strong> at: <a href='https://wandb.ai/nisargvp/Dynamic%20Inventory%20Management%20for%20Bimbo/runs/17og19tn' target=\"_blank\">https://wandb.ai/nisargvp/Dynamic%20Inventory%20Management%20for%20Bimbo/runs/17og19tn</a><br/>Synced 4 W&B file(s), 0 media file(s), 0 artifact file(s) and 0 other file(s)"
      ],
      "text/plain": [
       "<IPython.core.display.HTML object>"
      ]
     },
     "metadata": {},
     "output_type": "display_data"
    },
    {
     "name": "stderr",
     "output_type": "stream",
     "text": [
      "\u001b[34m\u001b[1mwandb\u001b[0m: Agent Starting Run: hs0wt9ze with config:\n",
      "\u001b[34m\u001b[1mwandb\u001b[0m: \tconstant: 4.800576448315451\n",
      "\u001b[34m\u001b[1mwandb\u001b[0m: \told_stock_mult: -1.376196528084333\n",
      "\u001b[34m\u001b[1mwandb\u001b[0m: \tpredicted_demand_mult: 0.0025865523680115854\n",
      "Failed to detect the name of this notebook, you can set it manually with the WANDB_NOTEBOOK_NAME environment variable to enable code saving.\n",
      "\u001b[34m\u001b[1mwandb\u001b[0m: \u001b[33mWARNING\u001b[0m Ignored wandb.init() arg project when running a sweep.\n"
     ]
    },
    {
     "data": {
      "text/html": [
       "Syncing run <strong><a href='https://wandb.ai/nisargvp/Dynamic%20Inventory%20Management%20for%20Bimbo/runs/hs0wt9ze' target=\"_blank\">toasty-sweep-9</a></strong> to <a href='https://wandb.ai/nisargvp/Dynamic%20Inventory%20Management%20for%20Bimbo' target=\"_blank\">Weights & Biases</a> (<a href='https://wandb.me/run' target=\"_blank\">docs</a>)<br/>Sweep page: <a href='https://wandb.ai/nisargvp/Dynamic%20Inventory%20Management%20for%20Bimbo/sweeps/bxeo93q9' target=\"_blank\">https://wandb.ai/nisargvp/Dynamic%20Inventory%20Management%20for%20Bimbo/sweeps/bxeo93q9</a>"
      ],
      "text/plain": [
       "<IPython.core.display.HTML object>"
      ]
     },
     "metadata": {},
     "output_type": "display_data"
    },
    {
     "data": {
      "text/html": [
       " View run at <a href='https://wandb.ai/nisargvp/Dynamic%20Inventory%20Management%20for%20Bimbo/runs/hs0wt9ze' target=\"_blank\">https://wandb.ai/nisargvp/Dynamic%20Inventory%20Management%20for%20Bimbo/runs/hs0wt9ze</a>"
      ],
      "text/plain": [
       "<IPython.core.display.HTML object>"
      ]
     },
     "metadata": {},
     "output_type": "display_data"
    },
    {
     "data": {
      "text/html": [
       "Waiting for W&B process to finish... <strong style=\"color:green\">(success).</strong>"
      ],
      "text/plain": [
       "<IPython.core.display.HTML object>"
      ]
     },
     "metadata": {},
     "output_type": "display_data"
    },
    {
     "data": {
      "application/vnd.jupyter.widget-view+json": {
       "model_id": "4e8a50866f744406b48b689422688be9",
       "version_major": 2,
       "version_minor": 0
      },
      "text/plain": [
       "VBox(children=(Label(value='0.001 MB of 0.008 MB uploaded (0.000 MB deduped)\\r'), FloatProgress(value=0.168158…"
      ]
     },
     "metadata": {},
     "output_type": "display_data"
    },
    {
     "data": {
      "text/html": [
       " View run <strong style=\"color:#cdcd00\">toasty-sweep-9</strong> at: <a href='https://wandb.ai/nisargvp/Dynamic%20Inventory%20Management%20for%20Bimbo/runs/hs0wt9ze' target=\"_blank\">https://wandb.ai/nisargvp/Dynamic%20Inventory%20Management%20for%20Bimbo/runs/hs0wt9ze</a><br/>Synced 4 W&B file(s), 0 media file(s), 0 artifact file(s) and 0 other file(s)"
      ],
      "text/plain": [
       "<IPython.core.display.HTML object>"
      ]
     },
     "metadata": {},
     "output_type": "display_data"
    },
    {
     "name": "stderr",
     "output_type": "stream",
     "text": [
      "\u001b[34m\u001b[1mwandb\u001b[0m: Agent Starting Run: dipiqq1b with config:\n",
      "\u001b[34m\u001b[1mwandb\u001b[0m: \tconstant: 4.737316952842038\n",
      "\u001b[34m\u001b[1mwandb\u001b[0m: \told_stock_mult: -0.016256265103233858\n",
      "\u001b[34m\u001b[1mwandb\u001b[0m: \tpredicted_demand_mult: 1.4699058120179185\n",
      "Failed to detect the name of this notebook, you can set it manually with the WANDB_NOTEBOOK_NAME environment variable to enable code saving.\n",
      "\u001b[34m\u001b[1mwandb\u001b[0m: \u001b[33mWARNING\u001b[0m Ignored wandb.init() arg project when running a sweep.\n"
     ]
    },
    {
     "data": {
      "text/html": [
       "Syncing run <strong><a href='https://wandb.ai/nisargvp/Dynamic%20Inventory%20Management%20for%20Bimbo/runs/dipiqq1b' target=\"_blank\">skilled-sweep-10</a></strong> to <a href='https://wandb.ai/nisargvp/Dynamic%20Inventory%20Management%20for%20Bimbo' target=\"_blank\">Weights & Biases</a> (<a href='https://wandb.me/run' target=\"_blank\">docs</a>)<br/>Sweep page: <a href='https://wandb.ai/nisargvp/Dynamic%20Inventory%20Management%20for%20Bimbo/sweeps/bxeo93q9' target=\"_blank\">https://wandb.ai/nisargvp/Dynamic%20Inventory%20Management%20for%20Bimbo/sweeps/bxeo93q9</a>"
      ],
      "text/plain": [
       "<IPython.core.display.HTML object>"
      ]
     },
     "metadata": {},
     "output_type": "display_data"
    },
    {
     "data": {
      "text/html": [
       " View run at <a href='https://wandb.ai/nisargvp/Dynamic%20Inventory%20Management%20for%20Bimbo/runs/dipiqq1b' target=\"_blank\">https://wandb.ai/nisargvp/Dynamic%20Inventory%20Management%20for%20Bimbo/runs/dipiqq1b</a>"
      ],
      "text/plain": [
       "<IPython.core.display.HTML object>"
      ]
     },
     "metadata": {},
     "output_type": "display_data"
    },
    {
     "data": {
      "text/html": [
       "Waiting for W&B process to finish... <strong style=\"color:green\">(success).</strong>"
      ],
      "text/plain": [
       "<IPython.core.display.HTML object>"
      ]
     },
     "metadata": {},
     "output_type": "display_data"
    },
    {
     "data": {
      "application/vnd.jupyter.widget-view+json": {
       "model_id": "4aef810235cc49529eaf027031e71e6f",
       "version_major": 2,
       "version_minor": 0
      },
      "text/plain": [
       "VBox(children=(Label(value='0.001 MB of 0.008 MB uploaded (0.000 MB deduped)\\r'), FloatProgress(value=0.168326…"
      ]
     },
     "metadata": {},
     "output_type": "display_data"
    },
    {
     "data": {
      "text/html": [
       " View run <strong style=\"color:#cdcd00\">skilled-sweep-10</strong> at: <a href='https://wandb.ai/nisargvp/Dynamic%20Inventory%20Management%20for%20Bimbo/runs/dipiqq1b' target=\"_blank\">https://wandb.ai/nisargvp/Dynamic%20Inventory%20Management%20for%20Bimbo/runs/dipiqq1b</a><br/>Synced 4 W&B file(s), 0 media file(s), 0 artifact file(s) and 0 other file(s)"
      ],
      "text/plain": [
       "<IPython.core.display.HTML object>"
      ]
     },
     "metadata": {},
     "output_type": "display_data"
    },
    {
     "name": "stderr",
     "output_type": "stream",
     "text": [
      "\u001b[34m\u001b[1mwandb\u001b[0m: Agent Starting Run: kfn52u55 with config:\n",
      "\u001b[34m\u001b[1mwandb\u001b[0m: \tconstant: 2.5436632569573083\n",
      "\u001b[34m\u001b[1mwandb\u001b[0m: \told_stock_mult: -0.3252542093277859\n",
      "\u001b[34m\u001b[1mwandb\u001b[0m: \tpredicted_demand_mult: 1.496934767793806\n",
      "Failed to detect the name of this notebook, you can set it manually with the WANDB_NOTEBOOK_NAME environment variable to enable code saving.\n",
      "\u001b[34m\u001b[1mwandb\u001b[0m: \u001b[33mWARNING\u001b[0m Ignored wandb.init() arg project when running a sweep.\n"
     ]
    },
    {
     "data": {
      "text/html": [
       "Syncing run <strong><a href='https://wandb.ai/nisargvp/Dynamic%20Inventory%20Management%20for%20Bimbo/runs/kfn52u55' target=\"_blank\">royal-sweep-11</a></strong> to <a href='https://wandb.ai/nisargvp/Dynamic%20Inventory%20Management%20for%20Bimbo' target=\"_blank\">Weights & Biases</a> (<a href='https://wandb.me/run' target=\"_blank\">docs</a>)<br/>Sweep page: <a href='https://wandb.ai/nisargvp/Dynamic%20Inventory%20Management%20for%20Bimbo/sweeps/bxeo93q9' target=\"_blank\">https://wandb.ai/nisargvp/Dynamic%20Inventory%20Management%20for%20Bimbo/sweeps/bxeo93q9</a>"
      ],
      "text/plain": [
       "<IPython.core.display.HTML object>"
      ]
     },
     "metadata": {},
     "output_type": "display_data"
    },
    {
     "data": {
      "text/html": [
       " View run at <a href='https://wandb.ai/nisargvp/Dynamic%20Inventory%20Management%20for%20Bimbo/runs/kfn52u55' target=\"_blank\">https://wandb.ai/nisargvp/Dynamic%20Inventory%20Management%20for%20Bimbo/runs/kfn52u55</a>"
      ],
      "text/plain": [
       "<IPython.core.display.HTML object>"
      ]
     },
     "metadata": {},
     "output_type": "display_data"
    },
    {
     "data": {
      "text/html": [
       "Waiting for W&B process to finish... <strong style=\"color:green\">(success).</strong>"
      ],
      "text/plain": [
       "<IPython.core.display.HTML object>"
      ]
     },
     "metadata": {},
     "output_type": "display_data"
    },
    {
     "data": {
      "application/vnd.jupyter.widget-view+json": {
       "model_id": "26921d9227f0440ba1a7c47a1b0c963a",
       "version_major": 2,
       "version_minor": 0
      },
      "text/plain": [
       "VBox(children=(Label(value='0.001 MB of 0.007 MB uploaded (0.000 MB deduped)\\r'), FloatProgress(value=0.171377…"
      ]
     },
     "metadata": {},
     "output_type": "display_data"
    },
    {
     "data": {
      "text/html": [
       " View run <strong style=\"color:#cdcd00\">royal-sweep-11</strong> at: <a href='https://wandb.ai/nisargvp/Dynamic%20Inventory%20Management%20for%20Bimbo/runs/kfn52u55' target=\"_blank\">https://wandb.ai/nisargvp/Dynamic%20Inventory%20Management%20for%20Bimbo/runs/kfn52u55</a><br/>Synced 4 W&B file(s), 0 media file(s), 0 artifact file(s) and 0 other file(s)"
      ],
      "text/plain": [
       "<IPython.core.display.HTML object>"
      ]
     },
     "metadata": {},
     "output_type": "display_data"
    },
    {
     "name": "stderr",
     "output_type": "stream",
     "text": [
      "\u001b[34m\u001b[1mwandb\u001b[0m: Agent Starting Run: lki05dk2 with config:\n",
      "\u001b[34m\u001b[1mwandb\u001b[0m: \tconstant: 0.5878458673911013\n",
      "\u001b[34m\u001b[1mwandb\u001b[0m: \told_stock_mult: -1.414379177036032\n",
      "\u001b[34m\u001b[1mwandb\u001b[0m: \tpredicted_demand_mult: 1.4609473496477534\n",
      "Failed to detect the name of this notebook, you can set it manually with the WANDB_NOTEBOOK_NAME environment variable to enable code saving.\n",
      "\u001b[34m\u001b[1mwandb\u001b[0m: \u001b[33mWARNING\u001b[0m Ignored wandb.init() arg project when running a sweep.\n"
     ]
    },
    {
     "data": {
      "text/html": [
       "Syncing run <strong><a href='https://wandb.ai/nisargvp/Dynamic%20Inventory%20Management%20for%20Bimbo/runs/lki05dk2' target=\"_blank\">divine-sweep-12</a></strong> to <a href='https://wandb.ai/nisargvp/Dynamic%20Inventory%20Management%20for%20Bimbo' target=\"_blank\">Weights & Biases</a> (<a href='https://wandb.me/run' target=\"_blank\">docs</a>)<br/>Sweep page: <a href='https://wandb.ai/nisargvp/Dynamic%20Inventory%20Management%20for%20Bimbo/sweeps/bxeo93q9' target=\"_blank\">https://wandb.ai/nisargvp/Dynamic%20Inventory%20Management%20for%20Bimbo/sweeps/bxeo93q9</a>"
      ],
      "text/plain": [
       "<IPython.core.display.HTML object>"
      ]
     },
     "metadata": {},
     "output_type": "display_data"
    },
    {
     "data": {
      "text/html": [
       " View run at <a href='https://wandb.ai/nisargvp/Dynamic%20Inventory%20Management%20for%20Bimbo/runs/lki05dk2' target=\"_blank\">https://wandb.ai/nisargvp/Dynamic%20Inventory%20Management%20for%20Bimbo/runs/lki05dk2</a>"
      ],
      "text/plain": [
       "<IPython.core.display.HTML object>"
      ]
     },
     "metadata": {},
     "output_type": "display_data"
    },
    {
     "data": {
      "text/html": [
       "Waiting for W&B process to finish... <strong style=\"color:green\">(success).</strong>"
      ],
      "text/plain": [
       "<IPython.core.display.HTML object>"
      ]
     },
     "metadata": {},
     "output_type": "display_data"
    },
    {
     "data": {
      "text/html": [
       " View run <strong style=\"color:#cdcd00\">divine-sweep-12</strong> at: <a href='https://wandb.ai/nisargvp/Dynamic%20Inventory%20Management%20for%20Bimbo/runs/lki05dk2' target=\"_blank\">https://wandb.ai/nisargvp/Dynamic%20Inventory%20Management%20for%20Bimbo/runs/lki05dk2</a><br/>Synced 4 W&B file(s), 0 media file(s), 0 artifact file(s) and 0 other file(s)"
      ],
      "text/plain": [
       "<IPython.core.display.HTML object>"
      ]
     },
     "metadata": {},
     "output_type": "display_data"
    },
    {
     "name": "stderr",
     "output_type": "stream",
     "text": [
      "\u001b[34m\u001b[1mwandb\u001b[0m: Agent Starting Run: ny2ot4lh with config:\n",
      "\u001b[34m\u001b[1mwandb\u001b[0m: \tconstant: 0.8137117114173958\n",
      "\u001b[34m\u001b[1mwandb\u001b[0m: \told_stock_mult: -1.1621056199580213\n",
      "\u001b[34m\u001b[1mwandb\u001b[0m: \tpredicted_demand_mult: 1.4905252134500449\n",
      "Failed to detect the name of this notebook, you can set it manually with the WANDB_NOTEBOOK_NAME environment variable to enable code saving.\n",
      "\u001b[34m\u001b[1mwandb\u001b[0m: \u001b[33mWARNING\u001b[0m Ignored wandb.init() arg project when running a sweep.\n"
     ]
    },
    {
     "data": {
      "text/html": [
       "Syncing run <strong><a href='https://wandb.ai/nisargvp/Dynamic%20Inventory%20Management%20for%20Bimbo/runs/ny2ot4lh' target=\"_blank\">woven-sweep-13</a></strong> to <a href='https://wandb.ai/nisargvp/Dynamic%20Inventory%20Management%20for%20Bimbo' target=\"_blank\">Weights & Biases</a> (<a href='https://wandb.me/run' target=\"_blank\">docs</a>)<br/>Sweep page: <a href='https://wandb.ai/nisargvp/Dynamic%20Inventory%20Management%20for%20Bimbo/sweeps/bxeo93q9' target=\"_blank\">https://wandb.ai/nisargvp/Dynamic%20Inventory%20Management%20for%20Bimbo/sweeps/bxeo93q9</a>"
      ],
      "text/plain": [
       "<IPython.core.display.HTML object>"
      ]
     },
     "metadata": {},
     "output_type": "display_data"
    },
    {
     "data": {
      "text/html": [
       " View run at <a href='https://wandb.ai/nisargvp/Dynamic%20Inventory%20Management%20for%20Bimbo/runs/ny2ot4lh' target=\"_blank\">https://wandb.ai/nisargvp/Dynamic%20Inventory%20Management%20for%20Bimbo/runs/ny2ot4lh</a>"
      ],
      "text/plain": [
       "<IPython.core.display.HTML object>"
      ]
     },
     "metadata": {},
     "output_type": "display_data"
    },
    {
     "data": {
      "text/html": [
       "Waiting for W&B process to finish... <strong style=\"color:green\">(success).</strong>"
      ],
      "text/plain": [
       "<IPython.core.display.HTML object>"
      ]
     },
     "metadata": {},
     "output_type": "display_data"
    },
    {
     "data": {
      "text/html": [
       " View run <strong style=\"color:#cdcd00\">woven-sweep-13</strong> at: <a href='https://wandb.ai/nisargvp/Dynamic%20Inventory%20Management%20for%20Bimbo/runs/ny2ot4lh' target=\"_blank\">https://wandb.ai/nisargvp/Dynamic%20Inventory%20Management%20for%20Bimbo/runs/ny2ot4lh</a><br/>Synced 4 W&B file(s), 0 media file(s), 0 artifact file(s) and 0 other file(s)"
      ],
      "text/plain": [
       "<IPython.core.display.HTML object>"
      ]
     },
     "metadata": {},
     "output_type": "display_data"
    },
    {
     "name": "stderr",
     "output_type": "stream",
     "text": [
      "\u001b[34m\u001b[1mwandb\u001b[0m: Agent Starting Run: vk7wj590 with config:\n",
      "\u001b[34m\u001b[1mwandb\u001b[0m: \tconstant: 0.10737695232966082\n",
      "\u001b[34m\u001b[1mwandb\u001b[0m: \told_stock_mult: -1.0579191900082514\n",
      "\u001b[34m\u001b[1mwandb\u001b[0m: \tpredicted_demand_mult: 1.4935592892877845\n",
      "Failed to detect the name of this notebook, you can set it manually with the WANDB_NOTEBOOK_NAME environment variable to enable code saving.\n",
      "\u001b[34m\u001b[1mwandb\u001b[0m: \u001b[33mWARNING\u001b[0m Ignored wandb.init() arg project when running a sweep.\n"
     ]
    },
    {
     "data": {
      "text/html": [
       "Syncing run <strong><a href='https://wandb.ai/nisargvp/Dynamic%20Inventory%20Management%20for%20Bimbo/runs/vk7wj590' target=\"_blank\">fresh-sweep-14</a></strong> to <a href='https://wandb.ai/nisargvp/Dynamic%20Inventory%20Management%20for%20Bimbo' target=\"_blank\">Weights & Biases</a> (<a href='https://wandb.me/run' target=\"_blank\">docs</a>)<br/>Sweep page: <a href='https://wandb.ai/nisargvp/Dynamic%20Inventory%20Management%20for%20Bimbo/sweeps/bxeo93q9' target=\"_blank\">https://wandb.ai/nisargvp/Dynamic%20Inventory%20Management%20for%20Bimbo/sweeps/bxeo93q9</a>"
      ],
      "text/plain": [
       "<IPython.core.display.HTML object>"
      ]
     },
     "metadata": {},
     "output_type": "display_data"
    },
    {
     "data": {
      "text/html": [
       " View run at <a href='https://wandb.ai/nisargvp/Dynamic%20Inventory%20Management%20for%20Bimbo/runs/vk7wj590' target=\"_blank\">https://wandb.ai/nisargvp/Dynamic%20Inventory%20Management%20for%20Bimbo/runs/vk7wj590</a>"
      ],
      "text/plain": [
       "<IPython.core.display.HTML object>"
      ]
     },
     "metadata": {},
     "output_type": "display_data"
    },
    {
     "data": {
      "text/html": [
       "Waiting for W&B process to finish... <strong style=\"color:green\">(success).</strong>"
      ],
      "text/plain": [
       "<IPython.core.display.HTML object>"
      ]
     },
     "metadata": {},
     "output_type": "display_data"
    },
    {
     "data": {
      "application/vnd.jupyter.widget-view+json": {
       "model_id": "8a07ac95fd00486391a6c95dcd38456d",
       "version_major": 2,
       "version_minor": 0
      },
      "text/plain": [
       "VBox(children=(Label(value='0.001 MB of 0.007 MB uploaded (0.000 MB deduped)\\r'), FloatProgress(value=0.171439…"
      ]
     },
     "metadata": {},
     "output_type": "display_data"
    },
    {
     "data": {
      "text/html": [
       " View run <strong style=\"color:#cdcd00\">fresh-sweep-14</strong> at: <a href='https://wandb.ai/nisargvp/Dynamic%20Inventory%20Management%20for%20Bimbo/runs/vk7wj590' target=\"_blank\">https://wandb.ai/nisargvp/Dynamic%20Inventory%20Management%20for%20Bimbo/runs/vk7wj590</a><br/>Synced 4 W&B file(s), 0 media file(s), 0 artifact file(s) and 0 other file(s)"
      ],
      "text/plain": [
       "<IPython.core.display.HTML object>"
      ]
     },
     "metadata": {},
     "output_type": "display_data"
    },
    {
     "name": "stderr",
     "output_type": "stream",
     "text": [
      "\u001b[34m\u001b[1mwandb\u001b[0m: Agent Starting Run: rm36seu2 with config:\n",
      "\u001b[34m\u001b[1mwandb\u001b[0m: \tconstant: 0.10352439907356958\n",
      "\u001b[34m\u001b[1mwandb\u001b[0m: \told_stock_mult: -1.2561460734196956\n",
      "\u001b[34m\u001b[1mwandb\u001b[0m: \tpredicted_demand_mult: 1.4707776342309646\n",
      "Failed to detect the name of this notebook, you can set it manually with the WANDB_NOTEBOOK_NAME environment variable to enable code saving.\n",
      "\u001b[34m\u001b[1mwandb\u001b[0m: \u001b[33mWARNING\u001b[0m Ignored wandb.init() arg project when running a sweep.\n"
     ]
    },
    {
     "data": {
      "text/html": [
       "Syncing run <strong><a href='https://wandb.ai/nisargvp/Dynamic%20Inventory%20Management%20for%20Bimbo/runs/rm36seu2' target=\"_blank\">sparkling-sweep-15</a></strong> to <a href='https://wandb.ai/nisargvp/Dynamic%20Inventory%20Management%20for%20Bimbo' target=\"_blank\">Weights & Biases</a> (<a href='https://wandb.me/run' target=\"_blank\">docs</a>)<br/>Sweep page: <a href='https://wandb.ai/nisargvp/Dynamic%20Inventory%20Management%20for%20Bimbo/sweeps/bxeo93q9' target=\"_blank\">https://wandb.ai/nisargvp/Dynamic%20Inventory%20Management%20for%20Bimbo/sweeps/bxeo93q9</a>"
      ],
      "text/plain": [
       "<IPython.core.display.HTML object>"
      ]
     },
     "metadata": {},
     "output_type": "display_data"
    },
    {
     "data": {
      "text/html": [
       " View run at <a href='https://wandb.ai/nisargvp/Dynamic%20Inventory%20Management%20for%20Bimbo/runs/rm36seu2' target=\"_blank\">https://wandb.ai/nisargvp/Dynamic%20Inventory%20Management%20for%20Bimbo/runs/rm36seu2</a>"
      ],
      "text/plain": [
       "<IPython.core.display.HTML object>"
      ]
     },
     "metadata": {},
     "output_type": "display_data"
    },
    {
     "data": {
      "text/html": [
       "Waiting for W&B process to finish... <strong style=\"color:green\">(success).</strong>"
      ],
      "text/plain": [
       "<IPython.core.display.HTML object>"
      ]
     },
     "metadata": {},
     "output_type": "display_data"
    },
    {
     "data": {
      "text/html": [
       " View run <strong style=\"color:#cdcd00\">sparkling-sweep-15</strong> at: <a href='https://wandb.ai/nisargvp/Dynamic%20Inventory%20Management%20for%20Bimbo/runs/rm36seu2' target=\"_blank\">https://wandb.ai/nisargvp/Dynamic%20Inventory%20Management%20for%20Bimbo/runs/rm36seu2</a><br/>Synced 4 W&B file(s), 0 media file(s), 0 artifact file(s) and 0 other file(s)"
      ],
      "text/plain": [
       "<IPython.core.display.HTML object>"
      ]
     },
     "metadata": {},
     "output_type": "display_data"
    },
    {
     "name": "stderr",
     "output_type": "stream",
     "text": [
      "\u001b[34m\u001b[1mwandb\u001b[0m: Agent Starting Run: vmb0bsyv with config:\n",
      "\u001b[34m\u001b[1mwandb\u001b[0m: \tconstant: 2.5724379611955777\n",
      "\u001b[34m\u001b[1mwandb\u001b[0m: \told_stock_mult: -0.006196935789114955\n",
      "\u001b[34m\u001b[1mwandb\u001b[0m: \tpredicted_demand_mult: 1.3887992749475788\n",
      "Failed to detect the name of this notebook, you can set it manually with the WANDB_NOTEBOOK_NAME environment variable to enable code saving.\n",
      "\u001b[34m\u001b[1mwandb\u001b[0m: \u001b[33mWARNING\u001b[0m Ignored wandb.init() arg project when running a sweep.\n"
     ]
    },
    {
     "data": {
      "text/html": [
       "Syncing run <strong><a href='https://wandb.ai/nisargvp/Dynamic%20Inventory%20Management%20for%20Bimbo/runs/vmb0bsyv' target=\"_blank\">distinctive-sweep-16</a></strong> to <a href='https://wandb.ai/nisargvp/Dynamic%20Inventory%20Management%20for%20Bimbo' target=\"_blank\">Weights & Biases</a> (<a href='https://wandb.me/run' target=\"_blank\">docs</a>)<br/>Sweep page: <a href='https://wandb.ai/nisargvp/Dynamic%20Inventory%20Management%20for%20Bimbo/sweeps/bxeo93q9' target=\"_blank\">https://wandb.ai/nisargvp/Dynamic%20Inventory%20Management%20for%20Bimbo/sweeps/bxeo93q9</a>"
      ],
      "text/plain": [
       "<IPython.core.display.HTML object>"
      ]
     },
     "metadata": {},
     "output_type": "display_data"
    },
    {
     "data": {
      "text/html": [
       " View run at <a href='https://wandb.ai/nisargvp/Dynamic%20Inventory%20Management%20for%20Bimbo/runs/vmb0bsyv' target=\"_blank\">https://wandb.ai/nisargvp/Dynamic%20Inventory%20Management%20for%20Bimbo/runs/vmb0bsyv</a>"
      ],
      "text/plain": [
       "<IPython.core.display.HTML object>"
      ]
     },
     "metadata": {},
     "output_type": "display_data"
    },
    {
     "data": {
      "text/html": [
       "Waiting for W&B process to finish... <strong style=\"color:green\">(success).</strong>"
      ],
      "text/plain": [
       "<IPython.core.display.HTML object>"
      ]
     },
     "metadata": {},
     "output_type": "display_data"
    },
    {
     "data": {
      "text/html": [
       " View run <strong style=\"color:#cdcd00\">distinctive-sweep-16</strong> at: <a href='https://wandb.ai/nisargvp/Dynamic%20Inventory%20Management%20for%20Bimbo/runs/vmb0bsyv' target=\"_blank\">https://wandb.ai/nisargvp/Dynamic%20Inventory%20Management%20for%20Bimbo/runs/vmb0bsyv</a><br/>Synced 4 W&B file(s), 0 media file(s), 0 artifact file(s) and 0 other file(s)"
      ],
      "text/plain": [
       "<IPython.core.display.HTML object>"
      ]
     },
     "metadata": {},
     "output_type": "display_data"
    },
    {
     "name": "stderr",
     "output_type": "stream",
     "text": [
      "\u001b[34m\u001b[1mwandb\u001b[0m: Agent Starting Run: 8swuxvna with config:\n",
      "\u001b[34m\u001b[1mwandb\u001b[0m: \tconstant: 0.04313567160143472\n",
      "\u001b[34m\u001b[1mwandb\u001b[0m: \told_stock_mult: -1.4209856753582424\n",
      "\u001b[34m\u001b[1mwandb\u001b[0m: \tpredicted_demand_mult: 1.4596707770209087\n",
      "Failed to detect the name of this notebook, you can set it manually with the WANDB_NOTEBOOK_NAME environment variable to enable code saving.\n",
      "\u001b[34m\u001b[1mwandb\u001b[0m: \u001b[33mWARNING\u001b[0m Ignored wandb.init() arg project when running a sweep.\n"
     ]
    },
    {
     "data": {
      "text/html": [
       "Syncing run <strong><a href='https://wandb.ai/nisargvp/Dynamic%20Inventory%20Management%20for%20Bimbo/runs/8swuxvna' target=\"_blank\">laced-sweep-17</a></strong> to <a href='https://wandb.ai/nisargvp/Dynamic%20Inventory%20Management%20for%20Bimbo' target=\"_blank\">Weights & Biases</a> (<a href='https://wandb.me/run' target=\"_blank\">docs</a>)<br/>Sweep page: <a href='https://wandb.ai/nisargvp/Dynamic%20Inventory%20Management%20for%20Bimbo/sweeps/bxeo93q9' target=\"_blank\">https://wandb.ai/nisargvp/Dynamic%20Inventory%20Management%20for%20Bimbo/sweeps/bxeo93q9</a>"
      ],
      "text/plain": [
       "<IPython.core.display.HTML object>"
      ]
     },
     "metadata": {},
     "output_type": "display_data"
    },
    {
     "data": {
      "text/html": [
       " View run at <a href='https://wandb.ai/nisargvp/Dynamic%20Inventory%20Management%20for%20Bimbo/runs/8swuxvna' target=\"_blank\">https://wandb.ai/nisargvp/Dynamic%20Inventory%20Management%20for%20Bimbo/runs/8swuxvna</a>"
      ],
      "text/plain": [
       "<IPython.core.display.HTML object>"
      ]
     },
     "metadata": {},
     "output_type": "display_data"
    },
    {
     "data": {
      "text/html": [
       "Waiting for W&B process to finish... <strong style=\"color:green\">(success).</strong>"
      ],
      "text/plain": [
       "<IPython.core.display.HTML object>"
      ]
     },
     "metadata": {},
     "output_type": "display_data"
    },
    {
     "data": {
      "text/html": [
       " View run <strong style=\"color:#cdcd00\">laced-sweep-17</strong> at: <a href='https://wandb.ai/nisargvp/Dynamic%20Inventory%20Management%20for%20Bimbo/runs/8swuxvna' target=\"_blank\">https://wandb.ai/nisargvp/Dynamic%20Inventory%20Management%20for%20Bimbo/runs/8swuxvna</a><br/>Synced 4 W&B file(s), 0 media file(s), 0 artifact file(s) and 0 other file(s)"
      ],
      "text/plain": [
       "<IPython.core.display.HTML object>"
      ]
     },
     "metadata": {},
     "output_type": "display_data"
    },
    {
     "name": "stderr",
     "output_type": "stream",
     "text": [
      "\u001b[34m\u001b[1mwandb\u001b[0m: Agent Starting Run: 1mvz3czv with config:\n",
      "\u001b[34m\u001b[1mwandb\u001b[0m: \tconstant: 0.7341730632139226\n",
      "\u001b[34m\u001b[1mwandb\u001b[0m: \told_stock_mult: -0.6271350074688643\n",
      "\u001b[34m\u001b[1mwandb\u001b[0m: \tpredicted_demand_mult: 1.454210135180272\n",
      "Failed to detect the name of this notebook, you can set it manually with the WANDB_NOTEBOOK_NAME environment variable to enable code saving.\n",
      "\u001b[34m\u001b[1mwandb\u001b[0m: \u001b[33mWARNING\u001b[0m Ignored wandb.init() arg project when running a sweep.\n"
     ]
    },
    {
     "data": {
      "text/html": [
       "Syncing run <strong><a href='https://wandb.ai/nisargvp/Dynamic%20Inventory%20Management%20for%20Bimbo/runs/1mvz3czv' target=\"_blank\">drawn-sweep-18</a></strong> to <a href='https://wandb.ai/nisargvp/Dynamic%20Inventory%20Management%20for%20Bimbo' target=\"_blank\">Weights & Biases</a> (<a href='https://wandb.me/run' target=\"_blank\">docs</a>)<br/>Sweep page: <a href='https://wandb.ai/nisargvp/Dynamic%20Inventory%20Management%20for%20Bimbo/sweeps/bxeo93q9' target=\"_blank\">https://wandb.ai/nisargvp/Dynamic%20Inventory%20Management%20for%20Bimbo/sweeps/bxeo93q9</a>"
      ],
      "text/plain": [
       "<IPython.core.display.HTML object>"
      ]
     },
     "metadata": {},
     "output_type": "display_data"
    },
    {
     "data": {
      "text/html": [
       " View run at <a href='https://wandb.ai/nisargvp/Dynamic%20Inventory%20Management%20for%20Bimbo/runs/1mvz3czv' target=\"_blank\">https://wandb.ai/nisargvp/Dynamic%20Inventory%20Management%20for%20Bimbo/runs/1mvz3czv</a>"
      ],
      "text/plain": [
       "<IPython.core.display.HTML object>"
      ]
     },
     "metadata": {},
     "output_type": "display_data"
    },
    {
     "data": {
      "text/html": [
       "Waiting for W&B process to finish... <strong style=\"color:green\">(success).</strong>"
      ],
      "text/plain": [
       "<IPython.core.display.HTML object>"
      ]
     },
     "metadata": {},
     "output_type": "display_data"
    },
    {
     "data": {
      "text/html": [
       " View run <strong style=\"color:#cdcd00\">drawn-sweep-18</strong> at: <a href='https://wandb.ai/nisargvp/Dynamic%20Inventory%20Management%20for%20Bimbo/runs/1mvz3czv' target=\"_blank\">https://wandb.ai/nisargvp/Dynamic%20Inventory%20Management%20for%20Bimbo/runs/1mvz3czv</a><br/>Synced 4 W&B file(s), 0 media file(s), 0 artifact file(s) and 0 other file(s)"
      ],
      "text/plain": [
       "<IPython.core.display.HTML object>"
      ]
     },
     "metadata": {},
     "output_type": "display_data"
    },
    {
     "name": "stderr",
     "output_type": "stream",
     "text": [
      "\u001b[34m\u001b[1mwandb\u001b[0m: Agent Starting Run: mfjx0oyw with config:\n",
      "\u001b[34m\u001b[1mwandb\u001b[0m: \tconstant: 0.27515787174427375\n",
      "\u001b[34m\u001b[1mwandb\u001b[0m: \told_stock_mult: -1.3684181048611117\n",
      "\u001b[34m\u001b[1mwandb\u001b[0m: \tpredicted_demand_mult: 1.491361321921986\n",
      "Failed to detect the name of this notebook, you can set it manually with the WANDB_NOTEBOOK_NAME environment variable to enable code saving.\n",
      "\u001b[34m\u001b[1mwandb\u001b[0m: \u001b[33mWARNING\u001b[0m Ignored wandb.init() arg project when running a sweep.\n"
     ]
    },
    {
     "data": {
      "text/html": [
       "Syncing run <strong><a href='https://wandb.ai/nisargvp/Dynamic%20Inventory%20Management%20for%20Bimbo/runs/mfjx0oyw' target=\"_blank\">dry-sweep-19</a></strong> to <a href='https://wandb.ai/nisargvp/Dynamic%20Inventory%20Management%20for%20Bimbo' target=\"_blank\">Weights & Biases</a> (<a href='https://wandb.me/run' target=\"_blank\">docs</a>)<br/>Sweep page: <a href='https://wandb.ai/nisargvp/Dynamic%20Inventory%20Management%20for%20Bimbo/sweeps/bxeo93q9' target=\"_blank\">https://wandb.ai/nisargvp/Dynamic%20Inventory%20Management%20for%20Bimbo/sweeps/bxeo93q9</a>"
      ],
      "text/plain": [
       "<IPython.core.display.HTML object>"
      ]
     },
     "metadata": {},
     "output_type": "display_data"
    },
    {
     "data": {
      "text/html": [
       " View run at <a href='https://wandb.ai/nisargvp/Dynamic%20Inventory%20Management%20for%20Bimbo/runs/mfjx0oyw' target=\"_blank\">https://wandb.ai/nisargvp/Dynamic%20Inventory%20Management%20for%20Bimbo/runs/mfjx0oyw</a>"
      ],
      "text/plain": [
       "<IPython.core.display.HTML object>"
      ]
     },
     "metadata": {},
     "output_type": "display_data"
    },
    {
     "data": {
      "text/html": [
       "Waiting for W&B process to finish... <strong style=\"color:green\">(success).</strong>"
      ],
      "text/plain": [
       "<IPython.core.display.HTML object>"
      ]
     },
     "metadata": {},
     "output_type": "display_data"
    },
    {
     "data": {
      "application/vnd.jupyter.widget-view+json": {
       "model_id": "0c314be67c5840b6a35b62360ebee50f",
       "version_major": 2,
       "version_minor": 0
      },
      "text/plain": [
       "VBox(children=(Label(value='0.001 MB of 0.007 MB uploaded (0.000 MB deduped)\\r'), FloatProgress(value=0.171461…"
      ]
     },
     "metadata": {},
     "output_type": "display_data"
    },
    {
     "data": {
      "text/html": [
       " View run <strong style=\"color:#cdcd00\">dry-sweep-19</strong> at: <a href='https://wandb.ai/nisargvp/Dynamic%20Inventory%20Management%20for%20Bimbo/runs/mfjx0oyw' target=\"_blank\">https://wandb.ai/nisargvp/Dynamic%20Inventory%20Management%20for%20Bimbo/runs/mfjx0oyw</a><br/>Synced 4 W&B file(s), 0 media file(s), 0 artifact file(s) and 0 other file(s)"
      ],
      "text/plain": [
       "<IPython.core.display.HTML object>"
      ]
     },
     "metadata": {},
     "output_type": "display_data"
    },
    {
     "name": "stderr",
     "output_type": "stream",
     "text": [
      "\u001b[34m\u001b[1mwandb\u001b[0m: Agent Starting Run: 2bk2wqf9 with config:\n",
      "\u001b[34m\u001b[1mwandb\u001b[0m: \tconstant: 2.5327847244487467\n",
      "\u001b[34m\u001b[1mwandb\u001b[0m: \told_stock_mult: -1.3608946531190205\n",
      "\u001b[34m\u001b[1mwandb\u001b[0m: \tpredicted_demand_mult: 1.48201759639537\n",
      "Failed to detect the name of this notebook, you can set it manually with the WANDB_NOTEBOOK_NAME environment variable to enable code saving.\n",
      "\u001b[34m\u001b[1mwandb\u001b[0m: \u001b[33mWARNING\u001b[0m Ignored wandb.init() arg project when running a sweep.\n"
     ]
    },
    {
     "data": {
      "text/html": [
       "Syncing run <strong><a href='https://wandb.ai/nisargvp/Dynamic%20Inventory%20Management%20for%20Bimbo/runs/2bk2wqf9' target=\"_blank\">vocal-sweep-20</a></strong> to <a href='https://wandb.ai/nisargvp/Dynamic%20Inventory%20Management%20for%20Bimbo' target=\"_blank\">Weights & Biases</a> (<a href='https://wandb.me/run' target=\"_blank\">docs</a>)<br/>Sweep page: <a href='https://wandb.ai/nisargvp/Dynamic%20Inventory%20Management%20for%20Bimbo/sweeps/bxeo93q9' target=\"_blank\">https://wandb.ai/nisargvp/Dynamic%20Inventory%20Management%20for%20Bimbo/sweeps/bxeo93q9</a>"
      ],
      "text/plain": [
       "<IPython.core.display.HTML object>"
      ]
     },
     "metadata": {},
     "output_type": "display_data"
    },
    {
     "data": {
      "text/html": [
       " View run at <a href='https://wandb.ai/nisargvp/Dynamic%20Inventory%20Management%20for%20Bimbo/runs/2bk2wqf9' target=\"_blank\">https://wandb.ai/nisargvp/Dynamic%20Inventory%20Management%20for%20Bimbo/runs/2bk2wqf9</a>"
      ],
      "text/plain": [
       "<IPython.core.display.HTML object>"
      ]
     },
     "metadata": {},
     "output_type": "display_data"
    },
    {
     "data": {
      "text/html": [
       "Waiting for W&B process to finish... <strong style=\"color:green\">(success).</strong>"
      ],
      "text/plain": [
       "<IPython.core.display.HTML object>"
      ]
     },
     "metadata": {},
     "output_type": "display_data"
    },
    {
     "data": {
      "text/html": [
       " View run <strong style=\"color:#cdcd00\">vocal-sweep-20</strong> at: <a href='https://wandb.ai/nisargvp/Dynamic%20Inventory%20Management%20for%20Bimbo/runs/2bk2wqf9' target=\"_blank\">https://wandb.ai/nisargvp/Dynamic%20Inventory%20Management%20for%20Bimbo/runs/2bk2wqf9</a><br/>Synced 4 W&B file(s), 0 media file(s), 0 artifact file(s) and 0 other file(s)"
      ],
      "text/plain": [
       "<IPython.core.display.HTML object>"
      ]
     },
     "metadata": {},
     "output_type": "display_data"
    }
   ],
   "source": [
    "def linear_decision_function_factory(constant, predicted_demand_mult, old_stock_mult):\n",
    "    def decision_function(state):\n",
    "        return constant + predicted_demand_mult * state.predicted_demand + old_stock_mult * state.old_stock\n",
    "    return decision_function\n",
    "\n",
    "def objective(params):\n",
    "    decision_function = linear_decision_function_factory(params.constant, params.predicted_demand_mult, params.old_stock_mult)\n",
    "    outcomes = simulate_multiple_stores_and_products(decision_validation_data, decision_function, tags=[\"agencia_1110\"], log=False)\n",
    "    return objective_function(outcomes)\n",
    "\n",
    "sweep_config = {\n",
    "    'method': 'bayes',\n",
    "    'metric': {\n",
    "        'name': 'objective_function',\n",
    "        'goal': 'maximize'\n",
    "    },\n",
    "    'parameters': {\n",
    "        'constant': {\n",
    "            'distribution': 'uniform',\n",
    "            'min': 0,\n",
    "            'max': 5\n",
    "        },\n",
    "        'predicted_demand_mult': {\n",
    "            'distribution': 'uniform',\n",
    "            'min': 0,\n",
    "            'max': 1.5\n",
    "        },\n",
    "        'old_stock_mult': {\n",
    "            'distribution': 'uniform',\n",
    "            'min': -1.5,\n",
    "            'max': 0,\n",
    "        }\n",
    "    }\n",
    "}\n",
    "\n",
    "def main():\n",
    "    wandb.init(project=project_name)\n",
    "    score = objective(wandb.config)\n",
    "    wandb.log({'objective_function': score})\n",
    "\n",
    "sweep_id = wandb.sweep(sweep_config, project=project_name)\n",
    "wandb.agent(sweep_id, main, count=20)"
   ]
  },
  {
   "cell_type": "code",
   "execution_count": null,
   "metadata": {},
   "outputs": [],
   "source": []
  },
  {
   "cell_type": "code",
   "execution_count": null,
   "metadata": {},
   "outputs": [],
   "source": []
  }
 ],
 "metadata": {
  "kernelspec": {
   "display_name": "Python 3",
   "language": "python",
   "name": "python3"
  },
  "language_info": {
   "codemirror_mode": {
    "name": "ipython",
    "version": 3
   },
   "file_extension": ".py",
   "mimetype": "text/x-python",
   "name": "python",
   "nbconvert_exporter": "python",
   "pygments_lexer": "ipython3",
   "version": "3.9.0"
  }
 },
 "nbformat": 4,
 "nbformat_minor": 4
}
