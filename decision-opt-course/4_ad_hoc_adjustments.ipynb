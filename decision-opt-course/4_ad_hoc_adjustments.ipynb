{
 "cells": [
  {
   "cell_type": "markdown",
   "metadata": {},
   "source": [
    "# A Basic Model As A Starting Point\n",
    "<!--- @wandbcode{decisionopt-nb4a} -->\n",
    "\n",
    "Model building isn't our focus, so I won't go into great depth on this. But it gives a model to use"
   ]
  },
  {
   "cell_type": "code",
   "execution_count": null,
   "metadata": {},
   "outputs": [],
   "source": [
    "%pip install shap -qqq"
   ]
  },
  {
   "cell_type": "code",
   "execution_count": null,
   "metadata": {},
   "outputs": [],
   "source": [
    "import os\n",
    "import pandas as pd\n",
    "import matplotlib.pyplot as plt\n",
    "import wandb\n",
    "from pathlib import Path\n",
    "from sklearn.model_selection import train_test_split\n",
    "from sklearn.pipeline import Pipeline\n",
    "from sklearn.compose import ColumnTransformer\n",
    "from sklearn.preprocessing import OneHotEncoder\n",
    "from sklearn.metrics import roc_auc_score, log_loss\n",
    "from sklearn.compose import make_column_selector as selector\n",
    "from wandb.xgboost import WandbCallback\n",
    "from xgboost import XGBClassifier\n",
    "\n",
    "os.environ[\"WANDB_NOTEBOOK_NAME\"] = \"ad_hoc_adjustments.ipynb\"\n",
    "plt.style.use('fivethirtyeight')"
   ]
  },
  {
   "cell_type": "code",
   "execution_count": null,
   "metadata": {},
   "outputs": [],
   "source": [
    "# We will load dataset from wandb Artifact\n",
    "with wandb.init(project=\"ad_hoc_adjustments\") as run:\n",
    "    artifact = run.use_artifact('wandb_course/decision_opt/telco-customer-churn:latest', type='dataset')\n",
    "    artifact_dir = artifact.download()\n",
    "    path = Path(artifact_dir)"
   ]
  },
  {
   "cell_type": "code",
   "execution_count": null,
   "metadata": {},
   "outputs": [],
   "source": [
    "data = pd.read_csv(path/\"WA_Fn-UseC_-Telco-Customer-Churn.csv\")\n",
    "data.head()"
   ]
  },
  {
   "cell_type": "code",
   "execution_count": null,
   "metadata": {},
   "outputs": [],
   "source": [
    "run = wandb.init(project=\"ad_hoc_adjustments\")\n",
    "\n",
    "target = \"Churn\"\n",
    "X_train, X_test, y_train, y_test = train_test_split(\n",
    "    data.drop(target, axis=1), data[target] == \"Yes\", test_size=0.2, random_state=0\n",
    ")\n",
    "cols_to_use = [\n",
    "    \"tenure\",\n",
    "    \"PhoneService\",\n",
    "    \"MultipleLines\",\n",
    "    \"InternetService\",\n",
    "    \"OnlineSecurity\",\n",
    "    \"OnlineBackup\",\n",
    "    \"DeviceProtection\",\n",
    "    \"TechSupport\",\n",
    "    \"StreamingTV\",\n",
    "    \"StreamingMovies\",\n",
    "    \"Contract\",\n",
    "    \"PaperlessBilling\",\n",
    "    \"PaymentMethod\",\n",
    "    \"MonthlyCharges\",\n",
    "]\n",
    "\n",
    "preprocessor = ColumnTransformer(\n",
    "    transformers=[(\"one_hot\", OneHotEncoder(), selector(dtype_include=\"object\"))],\n",
    "    remainder=\"passthrough\",  # Leave numerical variables unchanged\n",
    ")\n",
    "\n",
    "# Create pipeline\n",
    "pipeline = Pipeline([(\"preprocessor\", preprocessor), (\"classifier\", XGBClassifier())])\n",
    "pipeline.fit(X_train[cols_to_use], y_train)\n",
    "y_pred = pipeline.predict_proba(X_test[cols_to_use])[:, 1]\n",
    "roc_auc = roc_auc_score(y_test, y_pred)\n",
    "log_loss_val = log_loss(y_test, y_pred)"
   ]
  },
  {
   "cell_type": "code",
   "execution_count": null,
   "metadata": {},
   "outputs": [],
   "source": [
    "X_train[cols_to_use].head()"
   ]
  },
  {
   "cell_type": "code",
   "execution_count": null,
   "metadata": {},
   "outputs": [],
   "source": [
    "def baseline_prediction(data):\n",
    "    return pipeline.predict_proba(data[cols_to_use])[:, 1]\n",
    "\n",
    "def prediction_adjust_DSL(data):\n",
    "    baseline = baseline_prediction(data)\n",
    "    has_DSL = data[\"InternetService\"] == \"DSL\"\n",
    "    out = baseline + has_DSL * 0.1\n",
    "    return out\n",
    "\n",
    "prediction_adjust_DSL(X_test) - baseline_prediction(X_test)"
   ]
  },
  {
   "cell_type": "code",
   "execution_count": null,
   "metadata": {},
   "outputs": [],
   "source": [
    "import shap\n",
    "\n",
    "encoded_value = pipeline.named_steps[\"preprocessor\"].transform(X_train[cols_to_use])\n",
    "explainer = shap.TreeExplainer(pipeline.named_steps[\"classifier\"], data=encoded_value)"
   ]
  },
  {
   "cell_type": "code",
   "execution_count": null,
   "metadata": {},
   "outputs": [],
   "source": [
    "def prediction_with_less_effect_for_tenure(data):\n",
    "    tenure_column = 0\n",
    "    effect_reduction_size = 0.5\n",
    "\n",
    "    prediction = baseline_prediction(data)\n",
    "    encoded_data = pipeline.named_steps[\"preprocessor\"].transform(data[cols_to_use])\n",
    "    shap_values = explainer.shap_values(encoded_data)\n",
    "    effect_for_tenure = shap_values[:, tenure_column]\n",
    "    adjusted_predictions = prediction - effect_for_tenure * effect_reduction_size\n",
    "    return adjusted_predictions\n",
    "\n",
    "prediction_with_less_effect_for_tenure(X_test) - baseline_prediction(X_test)"
   ]
  },
  {
   "cell_type": "code",
   "execution_count": null,
   "metadata": {},
   "outputs": [],
   "source": [
    "run.finish()"
   ]
  }
 ],
 "metadata": {
  "kernelspec": {
   "display_name": "Python 3",
   "language": "python",
   "name": "python3"
  },
  "language_info": {
   "codemirror_mode": {
    "name": "ipython",
    "version": 3
   },
   "file_extension": ".py",
   "mimetype": "text/x-python",
   "name": "python",
   "nbconvert_exporter": "python",
   "pygments_lexer": "ipython3",
   "version": "3.8.13"
  },
  "vscode": {
   "interpreter": {
    "hash": "9b52454ccac6a5061b9956402f9b0126832d9d09240c85a0ef34ec847cbca41c"
   }
  }
 },
 "nbformat": 4,
 "nbformat_minor": 4
}
