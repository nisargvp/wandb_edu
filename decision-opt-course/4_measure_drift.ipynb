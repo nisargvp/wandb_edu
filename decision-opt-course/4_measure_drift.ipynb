{
 "cells": [
  {
   "cell_type": "markdown",
   "metadata": {},
   "source": [
    "# Measuring Drift\n",
    "<!--- @wandbcode{decisionopt-nb4b} -->"
   ]
  },
  {
   "cell_type": "code",
   "execution_count": null,
   "metadata": {},
   "outputs": [],
   "source": [
    "import os\n",
    "import pandas as pd\n",
    "from matplotlib import pyplot as plt\n",
    "import wandb\n",
    "from pathlib import Path\n",
    "\n",
    "plt.style.use('fivethirtyeight')\n",
    "os.environ[\"WANDB_QUIET\"] = \"true\"\n",
    "os.environ[\"WANDB_NOTEBOOK_NAME\"] = \"measure_drift.ipynb\"\n",
    "wandb_project = \"bimbo_drift_check\""
   ]
  },
  {
   "cell_type": "code",
   "execution_count": null,
   "metadata": {},
   "outputs": [],
   "source": [
    "# Let's load the data from a W&B artifact\n",
    "with wandb.init(project=wandb_project) as run:\n",
    "    artifact = run.use_artifact(\n",
    "        \"danbecker/edu-decision-opt-course/course-data:v0\"\n",
    "    )\n",
    "    data_dir = Path(artifact.download())\n",
    "\n",
    "all_data = pd.read_csv(data_dir/'bimbo/train.csv')\n",
    "all_data.head()"
   ]
  },
  {
   "cell_type": "code",
   "execution_count": null,
   "metadata": {},
   "outputs": [],
   "source": [
    "product_data = all_data.query(\"Producto_ID == 1238\")\n",
    "product_data.head()"
   ]
  },
  {
   "cell_type": "code",
   "execution_count": null,
   "metadata": {},
   "outputs": [],
   "source": [
    "product_data.Semana.value_counts().sort_index()"
   ]
  },
  {
   "cell_type": "code",
   "execution_count": null,
   "metadata": {},
   "outputs": [],
   "source": [
    "store_product_group_cols = ['Agencia_ID', 'Canal_ID', 'Ruta_SAK', 'Cliente_ID']\n",
    "store_product_value_counts = product_data.groupby(store_product_group_cols).size()\n",
    "store_product_value_counts.describe()"
   ]
  },
  {
   "cell_type": "code",
   "execution_count": null,
   "metadata": {},
   "outputs": [],
   "source": [
    "full_filled_cases = (store_product_value_counts == 7)\n",
    "full_filled_data = product_data.set_index(store_product_group_cols).loc[full_filled_cases]\n",
    "full_filled_data.reset_index(inplace=True)\n",
    "original_rows = product_data.shape[0]\n",
    "new_rows = full_filled_data.shape[0]\n",
    "frac_data_dropped = 1 - (new_rows / original_rows)\n",
    "print(f'Went from {original_rows} to {new_rows} rows, removing {(frac_data_dropped*100):.1f}% of rows')"
   ]
  },
  {
   "cell_type": "code",
   "execution_count": null,
   "metadata": {},
   "outputs": [],
   "source": [
    "full_filled_data.groupby(['Semana']).Demanda_uni_equil.mean().plot();"
   ]
  },
  {
   "cell_type": "code",
   "execution_count": null,
   "metadata": {},
   "outputs": [],
   "source": [
    "run = wandb.init(project=wandb_project, job_type=\"log_stats\")\n",
    "for semana, mean_demand in full_filled_data.groupby(['Semana']).Demanda_uni_equil.mean().iteritems():\n",
    "    wandb.log({'week': semana, 'mean_demand': mean_demand})\n",
    "run.finish()"
   ]
  },
  {
   "cell_type": "code",
   "execution_count": null,
   "metadata": {},
   "outputs": [],
   "source": [
    "from utils.time_series_split_modeling import make_models\n",
    "\n",
    "models, encoder = make_models(full_filled_data)"
   ]
  },
  {
   "cell_type": "code",
   "execution_count": null,
   "metadata": {},
   "outputs": [],
   "source": []
  }
 ],
 "metadata": {
  "kernelspec": {
   "display_name": "Python 3",
   "language": "python",
   "name": "python3"
  },
  "language_info": {
   "codemirror_mode": {
    "name": "ipython",
    "version": 3
   },
   "file_extension": ".py",
   "mimetype": "text/x-python",
   "name": "python",
   "nbconvert_exporter": "python",
   "pygments_lexer": "ipython3",
   "version": "3.8.13"
  }
 },
 "nbformat": 4,
 "nbformat_minor": 4
}
