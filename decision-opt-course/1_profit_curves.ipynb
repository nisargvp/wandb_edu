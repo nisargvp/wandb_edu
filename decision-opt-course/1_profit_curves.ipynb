{
 "cells": [
  {
   "cell_type": "markdown",
   "metadata": {},
   "source": [
    "<a href=\"https://colab.research.google.com/github/wandb/edu/blob/main/decision-opt-course/1_profit_curves.ipynb\" target=\"_parent\"><img src=\"https://colab.research.google.com/assets/colab-badge.svg\" alt=\"Open In Colab\"/></a>\n",
    "<!--- @wandbcode{decisionopt-nb1} -->"
   ]
  },
  {
   "cell_type": "markdown",
   "metadata": {},
   "source": [
    "# Lesson 1 - Profit Curves"
   ]
  },
  {
   "cell_type": "markdown",
   "metadata": {},
   "source": [
    "## A Basic Model As A Starting Point\n",
    "\n",
    "Model building isn't our focus, so I won't go into great depth on this. Data is from [this dataset](https://www.kaggle.com/datasets/blastchar/telco-customer-churn) to predict churn from a telecom company."
   ]
  },
  {
   "cell_type": "code",
   "execution_count": null,
   "metadata": {},
   "outputs": [],
   "source": [
    "%pip install wandb xgboost"
   ]
  },
  {
   "cell_type": "code",
   "execution_count": null,
   "metadata": {},
   "outputs": [],
   "source": [
    "import pandas as pd\n",
    "import matplotlib.pyplot as plt\n",
    "import wandb\n",
    "from sklearn.model_selection import train_test_split\n",
    "from sklearn.pipeline import Pipeline\n",
    "from sklearn.compose import ColumnTransformer\n",
    "from sklearn.preprocessing import OneHotEncoder\n",
    "from sklearn.metrics import roc_auc_score, log_loss\n",
    "from sklearn.compose import make_column_selector as selector\n",
    "from wandb.xgboost import WandbCallback\n",
    "from xgboost import XGBClassifier\n",
    "from pathlib import Path\n",
    "\n",
    "plt.style.use('fivethirtyeight')"
   ]
  },
  {
   "cell_type": "code",
   "execution_count": null,
   "metadata": {},
   "outputs": [],
   "source": [
    "# Let's log into W&B to load data and track our experiments\n",
    "wandb.login()"
   ]
  },
  {
   "cell_type": "code",
   "execution_count": null,
   "metadata": {},
   "outputs": [],
   "source": [
    "# We will load dataset from wandb Artifact\n",
    "with wandb.init(project=\"profit_curves\") as run:\n",
    "    artifact = run.use_artifact('wandb_course/decision_opt/telco-customer-churn:latest', type='dataset')\n",
    "    artifact_dir = artifact.download()\n",
    "    path = Path(artifact_dir)"
   ]
  },
  {
   "cell_type": "code",
   "execution_count": null,
   "metadata": {},
   "outputs": [],
   "source": [
    "data = pd.read_csv(path/\"WA_Fn-UseC_-Telco-Customer-Churn.csv\")\n",
    "data.head()"
   ]
  },
  {
   "cell_type": "code",
   "execution_count": null,
   "metadata": {},
   "outputs": [],
   "source": [
    "run1 = wandb.init(project=\"profit_curves\")\n",
    "\n",
    "target = \"Churn\"\n",
    "X_train, X_test, y_train, y_test = train_test_split(\n",
    "    data.drop(target, axis=1), data[target] == \"Yes\", test_size=0.2, random_state=0\n",
    ")\n",
    "cols_to_use = [\n",
    "    \"tenure\",\n",
    "    \"PhoneService\",\n",
    "    \"MultipleLines\",\n",
    "    \"InternetService\",\n",
    "    \"OnlineSecurity\",\n",
    "    \"OnlineBackup\",\n",
    "    \"DeviceProtection\",\n",
    "    \"TechSupport\",\n",
    "    \"StreamingTV\",\n",
    "    \"StreamingMovies\",\n",
    "    \"Contract\",\n",
    "    \"PaperlessBilling\",\n",
    "    \"PaymentMethod\",\n",
    "    \"MonthlyCharges\",\n",
    "]\n",
    "\n",
    "preprocessor = ColumnTransformer(\n",
    "    transformers=[(\"one_hot\", OneHotEncoder(), selector(dtype_include=\"object\"))],\n",
    "    remainder=\"passthrough\",  # Leave numerical variables unchanged\n",
    ")\n",
    "\n",
    "# Create pipeline\n",
    "pipeline = Pipeline([(\"preprocessor\", preprocessor), (\"classifier\", XGBClassifier())])\n",
    "pipeline.fit(X_train[cols_to_use], y_train)\n",
    "y_pred = pipeline.predict_proba(X_test[cols_to_use])[:, 1]\n",
    "roc_auc = roc_auc_score(y_test, y_pred)\n",
    "log_loss_val = log_loss(y_test, y_pred)\n",
    "\n",
    "# Log metrics to W&B\n",
    "wandb.log({\"roc_auc\": roc_auc, \"log_loss\": log_loss_val})"
   ]
  },
  {
   "cell_type": "code",
   "execution_count": null,
   "metadata": {},
   "outputs": [],
   "source": [
    "import numpy as np\n",
    "from sklearn.metrics import confusion_matrix\n",
    "\n",
    "threshold = 0.5  # Set your custom threshold here\n",
    "y_pred_binary = np.where(y_pred >= threshold, 1, 0)\n",
    "cm = confusion_matrix(y_test, y_pred_binary)\n",
    "\n",
    "# format is\n",
    "# [[TN, FP],\n",
    "#  [FN, TP]]\n",
    "\n",
    "# Log confusion matrix to W&B\n",
    "wandb.log({'confusion_matrix': wandb.plot.confusion_matrix(\n",
    "    probs=None,\n",
    "    y_true=y_test.tolist(),\n",
    "    preds=y_pred_binary.tolist(),\n",
    "    class_names=['Not Churn', 'Churn'])}\n",
    "    )\n",
    "\n",
    "\n",
    "print(\"Confusion Matrix:\")\n",
    "print(cm)"
   ]
  },
  {
   "cell_type": "code",
   "execution_count": null,
   "metadata": {},
   "outputs": [],
   "source": [
    "def profit_curve(y_true, y_pred, payoff_matrix, n_points=101):\n",
    "    \"\"\"Calculate profit curve for a binary classifier.\n",
    "\n",
    "    Args:\n",
    "        y_true (array-like): True labels.\n",
    "        y_pred (array-like): Predicted probabilities.\n",
    "        payoff_matrix (array-like): Payoff matrix.\n",
    "        n_points (int): Number of points to calculate.\n",
    "\n",
    "    Returns:\n",
    "        tuple: x and y values for the profit curve.\n",
    "    \"\"\"\n",
    "    # Calculate profit for each threshold\n",
    "    thresholds = np.linspace(0, 1, n_points)\n",
    "    profits = []\n",
    "    for threshold in thresholds:\n",
    "        y_pred_binary = np.where(y_pred >= threshold, 1, 0)\n",
    "        cm = confusion_matrix(y_true, y_pred_binary)\n",
    "        profit = (cm * payoff_matrix).sum()\n",
    "        profits.append(profit)\n",
    "    return thresholds, profits\n",
    "\n",
    "\n",
    "# Costs $80 to give discount to a customer who will not churn\n",
    "# Worth $200 to give discount to a customer who will otherwise churn\n",
    "payoff_matrix = np.array([[0, -80], [0, 200]])\n",
    "first_thresholds, first_profits = profit_curve(y_test, y_pred, payoff_matrix)\n",
    "print(first_thresholds)\n",
    "print(first_profits)"
   ]
  },
  {
   "cell_type": "code",
   "execution_count": null,
   "metadata": {},
   "outputs": [],
   "source": [
    "# Log your data as a wandb.Table\n",
    "def log_profit_curve(thresholds, profits):\n",
    "    data = [[x, y] for (x, y) in zip(thresholds, profits)]\n",
    "    profit_curve_table = wandb.Table(data=data, columns=[\"Threshold\", \"Profit\"])\n",
    "    line_plot = wandb.plot.line(profit_curve_table, x='Threshold', y='Profit', title='Value of Offering Discounts to Prevent Churn')\n",
    "    wandb.log({\"profit_curve_table\": profit_curve_table, \"profit_curve\": line_plot})\n",
    "\n",
    "log_profit_curve(first_thresholds, first_profits)"
   ]
  },
  {
   "cell_type": "code",
   "execution_count": null,
   "metadata": {},
   "outputs": [],
   "source": [
    "def find_best_threshold_and_profit(thresholds, profits):\n",
    "    \"\"\"Find the best threshold and profit.\n",
    "    \n",
    "    Args:\n",
    "        thresholds (array-like): Threshold values.\n",
    "        profits (array-like): Profit values.\n",
    "    \n",
    "    Returns:\n",
    "        tuple: Best threshold and profit.\n",
    "    \"\"\"\n",
    "    best_profit = max(profits)\n",
    "    best_threshold = thresholds[profits.index(best_profit)]\n",
    "    return best_threshold, best_profit\n",
    "    \n",
    "best_thresh, best_profits = find_best_threshold_and_profit(first_thresholds, first_profits)\n",
    "\n",
    "wandb.log({\"best_threshold\": best_thresh, \"best_profit\": best_profits})\n",
    "\n",
    "print(f\"Ideal threshold is {best_thresh:.2f} which yields profits of ${best_profits:.0f}\")\n"
   ]
  },
  {
   "cell_type": "code",
   "execution_count": null,
   "metadata": {},
   "outputs": [],
   "source": [
    "# We'll finish our first experiment (run) here. \n",
    "wandb.finish()"
   ]
  },
  {
   "cell_type": "markdown",
   "metadata": {},
   "source": [
    "## Prioritizing Work"
   ]
  },
  {
   "cell_type": "code",
   "execution_count": null,
   "metadata": {},
   "outputs": [],
   "source": [
    "# start a new W&B run\n",
    "run2 = wandb.init(project=\"profit_curves\")\n",
    "\n",
    "field_lost_in_broken_pipeline = \"Contract\"\n",
    "\n",
    "# refit model and get new predictions without this field\n",
    "new_cols_to_use = [col for col in cols_to_use if col != field_lost_in_broken_pipeline]\n",
    "pipeline.fit(X_train[new_cols_to_use], y_train,\n",
    "             classifier__callbacks=[WandbCallback()]\n",
    "             )\n",
    "new_y_pred = pipeline.predict_proba(X_test[new_cols_to_use])[:, 1]\n",
    "\n",
    "roc_auc = roc_auc_score(y_test, new_y_pred)\n",
    "log_loss_val = log_loss(y_test, new_y_pred)\n",
    "\n",
    "# Log metrics to W&B\n",
    "wandb.log({\"roc_auc\": roc_auc, \"log_loss\": log_loss_val})\n",
    "\n",
    "new_thresholds, new_profits = profit_curve(y_test, new_y_pred, payoff_matrix)\n",
    "log_profit_curve(new_thresholds, new_profits)\n",
    "new_best_thresh, new_best_profits = find_best_threshold_and_profit(new_thresholds, new_profits)\n",
    "wandb.log({\"best_threshold\": new_best_thresh, \"best_profit\": new_best_profits})\n",
    "print(f\"Ideal threshold is {new_best_thresh:.2f} which yields profits of ${new_best_profits:.0f}\")"
   ]
  },
  {
   "cell_type": "code",
   "execution_count": null,
   "metadata": {},
   "outputs": [],
   "source": [
    "# Let's finish our second run here\n",
    "wandb.finish()"
   ]
  },
  {
   "cell_type": "code",
   "execution_count": null,
   "metadata": {},
   "outputs": [],
   "source": [
    "print(f\"Change in profit due to lost field: {new_best_profits - best_profits:.0f}\")"
   ]
  },
  {
   "cell_type": "markdown",
   "metadata": {},
   "source": [
    "The most important field is `tenure`. It is an interesting exercise to see modify this code slightly and see how the results change when you remove `tenure`."
   ]
  },
  {
   "cell_type": "markdown",
   "metadata": {},
   "source": [
    "## Model Improvements"
   ]
  },
  {
   "cell_type": "code",
   "execution_count": null,
   "metadata": {},
   "outputs": [],
   "source": [
    "# Let's start our third run here. Because it's a synthtic dataset, we'll use tags to indicate that\n",
    "run3 = wandb.init(project=\"profit_curves\", tags=[\"synthetic_data\"])"
   ]
  },
  {
   "cell_type": "code",
   "execution_count": null,
   "metadata": {},
   "outputs": [],
   "source": [
    "def make_synth_accurate_data(y_pred, y_true, closeness_factor=0.1):\n",
    "    \"\"\"Create synthetic data that is accurate.\n",
    "\n",
    "    Args:\n",
    "        y_pred (array-like): Predicted probabilities.\n",
    "        y_true (array-like): True labels.\n",
    "        closeness_factor (float): A measure of how much to increase the accuracy of the synthetic data.\n",
    "\n",
    "    Returns:\n",
    "        array: Synthetic data.\n",
    "    \"\"\"\n",
    "    errors = y_pred - y_true\n",
    "    synth_data = y_pred - errors * closeness_factor\n",
    "    synth_data_AUC = roc_auc_score(y_true, synth_data)\n",
    "    print(\n",
    "        f\"closeness_factor: {closeness_factor:.2f}.   AUC of synthetic data: {synth_data_AUC:.2f}\"\n",
    "    )\n",
    "    return synth_data\n",
    "\n",
    "\n",
    "for i in np.linspace(0, 0.2, 11):\n",
    "    make_synth_accurate_data(y_pred, y_test, i)"
   ]
  },
  {
   "cell_type": "markdown",
   "metadata": {},
   "source": [
    "A closeness factor of 0.14 creates synthetic data that's a proxy for how good we expect predictions to be after this modeling improvement (recall that we hypothesized the modeling improvement would yield an AUC of 0.9)"
   ]
  },
  {
   "cell_type": "code",
   "execution_count": null,
   "metadata": {},
   "outputs": [],
   "source": [
    "synth_preds = make_synth_accurate_data(y_pred, y_test, 0.14)\n",
    "print(\n",
    "    f\"\"\"\n",
    "Sanity check that means make sense:\n",
    "{synth_preds.mean():.3f}\n",
    "{y_pred.mean():.3f}\n",
    "{y_test.mean():.3f}\n",
    "\"\"\"\n",
    ")"
   ]
  },
  {
   "cell_type": "markdown",
   "metadata": {},
   "source": [
    "Now show profit curves we expect after this modeling improvement. We'll compare it to the profit curve from the best model built so far."
   ]
  },
  {
   "cell_type": "code",
   "execution_count": null,
   "metadata": {},
   "outputs": [],
   "source": [
    "synth_preds = make_synth_accurate_data(y_pred, y_test, 0.14)\n",
    "roc_auc = roc_auc_score(y_test, synth_preds)\n",
    "log_loss_val = log_loss(y_test, synth_preds)\n",
    "\n",
    "# Log metrics to W&B\n",
    "wandb.log({\"roc_auc\": roc_auc, \"log_loss\": log_loss_val})\n",
    "synth_pred_thresholds, synth_pred_profits = profit_curve(y_test, synth_preds, payoff_matrix)\n",
    "log_profit_curve(synth_pred_thresholds, synth_pred_profits)\n",
    "synth_best_thresh, synth_best_profits = find_best_threshold_and_profit(synth_pred_thresholds, synth_pred_profits)\n",
    "wandb.log({\"best_threshold\": synth_best_thresh, \"best_profit\": synth_best_profits})\n",
    "print(f\"Ideal threshold is {synth_best_thresh:.2f} which yields profits of ${synth_best_profits:.0f}\")"
   ]
  },
  {
   "cell_type": "code",
   "execution_count": null,
   "metadata": {},
   "outputs": [],
   "source": [
    "wandb.finish()"
   ]
  },
  {
   "cell_type": "markdown",
   "metadata": {},
   "source": [
    "## Beyond Simple-Number Decision Thresholds"
   ]
  },
  {
   "cell_type": "code",
   "execution_count": null,
   "metadata": {},
   "outputs": [],
   "source": [
    "data.MonthlyCharges.hist()"
   ]
  },
  {
   "cell_type": "code",
   "execution_count": null,
   "metadata": {},
   "outputs": [],
   "source": [
    "# Previously assumed this was 200 for all customers.\n",
    "# Mean MonthlyCharge is 68\n",
    "X_test[\"value_of_promoting_to_churning_customer\"] = data.MonthlyCharges * 3\n",
    "\n",
    "# Previously assumed this was -80 for all customers.\n",
    "X_test[\"cost_of_promoting_to_non_churning_customer\"] = -80"
   ]
  },
  {
   "cell_type": "code",
   "execution_count": null,
   "metadata": {},
   "outputs": [],
   "source": [
    "def group_specific_profit_curve(X_test, y_test, y_pred, low_thresh, high_thresh):\n",
    "    in_group = (X_test.MonthlyCharges > low_thresh) & (\n",
    "        X_test.MonthlyCharges <= high_thresh\n",
    "    )\n",
    "    y_test_in_group = y_test[in_group]\n",
    "    y_pred_in_group = y_pred[in_group]\n",
    "    mean_monthly_charge = X_test.MonthlyCharges[in_group].mean()\n",
    "    payoff_matrix = np.array([[0, -80], [0, 3 * mean_monthly_charge]])\n",
    "    thresholds, profits = profit_curve(y_test_in_group, y_pred_in_group, payoff_matrix)\n",
    "    best_thresh, best_profits = find_best_threshold_and_profit(thresholds, profits)\n",
    "    return best_thresh, best_profits"
   ]
  },
  {
   "cell_type": "markdown",
   "metadata": {},
   "source": [
    "Divide customers into three groups and assign different thresholds for each"
   ]
  },
  {
   "cell_type": "code",
   "execution_count": null,
   "metadata": {},
   "outputs": [],
   "source": [
    "# Find ideal threshold for customers paying less than $20/month\n",
    "thresh_low, profits_low = group_specific_profit_curve(X_test, y_test, y_pred, 0, 20)\n",
    "# Find ideal threshold for customers paying between $20 and $60/month\n",
    "thresh_medium, profits_medium = group_specific_profit_curve(\n",
    "    X_test, y_test, y_pred, 20, 60\n",
    ")\n",
    "# Find ideal threshold for customers paying between $60 and $100/month\n",
    "thresh_high, profits_high = group_specific_profit_curve(X_test, y_test, y_pred, 60, 100)\n",
    "# Find ideal threshold for customers paying more than $100/month\n",
    "thresh_very_high, profits_very_high = group_specific_profit_curve(\n",
    "    X_test, y_test, y_pred, 100, 200\n",
    ")\n",
    "\n",
    "print(\n",
    "    f\"\"\"\n",
    "With flexible thresholds, the profit is {(profits_low + profits_medium + profits_high + profits_very_high):.0f}.\n",
    "Previous profit was {best_profits}\"\"\"\n",
    ")"
   ]
  },
  {
   "cell_type": "code",
   "execution_count": null,
   "metadata": {},
   "outputs": [],
   "source": []
  },
  {
   "cell_type": "code",
   "execution_count": null,
   "metadata": {},
   "outputs": [],
   "source": []
  },
  {
   "cell_type": "code",
   "execution_count": null,
   "metadata": {},
   "outputs": [],
   "source": []
  }
 ],
 "metadata": {
  "kernelspec": {
   "display_name": "Python 3",
   "language": "python",
   "name": "python3"
  },
  "language_info": {
   "codemirror_mode": {
    "name": "ipython",
    "version": 3
   },
   "file_extension": ".py",
   "mimetype": "text/x-python",
   "name": "python",
   "nbconvert_exporter": "python",
   "pygments_lexer": "ipython3",
   "version": "3.7.1"
  },
  "vscode": {
   "interpreter": {
    "hash": "9b52454ccac6a5061b9956402f9b0126832d9d09240c85a0ef34ec847cbca41c"
   }
  }
 },
 "nbformat": 4,
 "nbformat_minor": 4
}
