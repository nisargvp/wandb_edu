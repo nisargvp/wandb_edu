{
 "cells": [
  {
   "cell_type": "markdown",
   "metadata": {},
   "source": [
    "<a href=\"https://colab.research.google.com/github/wandb/edu/blob/main/decision-opt-course/3_dynamic_decision_opt_data_prep.ipynb\" target=\"_parent\"><img src=\"https://colab.research.google.com/assets/colab-badge.svg\" alt=\"Open In Colab\"/></a>\n",
    "<!--- @wandbcode{decisionopt-nb3a} -->"
   ]
  },
  {
   "cell_type": "markdown",
   "metadata": {},
   "source": [
    "# Lesson 3 - Dynamic Decision Optimization - Prepare data"
   ]
  },
  {
   "cell_type": "code",
   "execution_count": null,
   "metadata": {},
   "outputs": [],
   "source": [
    "import os\n",
    "import pandas as pd\n",
    "import pickle\n",
    "import torch\n",
    "import wandb\n",
    "from pathlib import Path\n",
    "from utils.modeling import make_model\n",
    "\n",
    "os.environ[\"WANDB_QUIET\"] = \"true\" \n",
    "wandb_project = \"decision_opt_bimbo\""
   ]
  },
  {
   "cell_type": "code",
   "execution_count": null,
   "metadata": {},
   "outputs": [],
   "source": [
    "# Let's load the data from a W&B artifact\n",
    "with wandb.init(project=wandb_project) as run:\n",
    "    artifact = run.use_artifact(\n",
    "        \"danbecker/edu-decision-opt-course/course-data:v0\"\n",
    "    )\n",
    "    data_dir = Path(artifact.download())\n",
    "\n",
    "all_data = pd.read_csv(data_dir/'bimbo/train.csv')\n",
    "all_data.head()"
   ]
  },
  {
   "cell_type": "code",
   "execution_count": null,
   "metadata": {},
   "outputs": [],
   "source": [
    "all_data.Semana.value_counts().sort_index()"
   ]
  },
  {
   "cell_type": "code",
   "execution_count": null,
   "metadata": {},
   "outputs": [],
   "source": [
    "MIN_ML_MODEL_WEEK = 3\n",
    "MAX_ML_MODEL_WEEK = 4\n",
    "MIN_DECISION_MODEL_WEEK = 5\n",
    "MAX_DECISION_MODEL_WEEK = 9"
   ]
  },
  {
   "cell_type": "code",
   "execution_count": null,
   "metadata": {},
   "outputs": [],
   "source": [
    "store_product_group_cols = ['Agencia_ID', 'Canal_ID', 'Ruta_SAK', 'Cliente_ID', 'Producto_ID']\n",
    "store_product_value_counts = all_data.groupby(store_product_group_cols).size()"
   ]
  },
  {
   "cell_type": "code",
   "execution_count": null,
   "metadata": {},
   "outputs": [],
   "source": [
    "store_product_value_counts.describe()"
   ]
  },
  {
   "cell_type": "code",
   "execution_count": null,
   "metadata": {},
   "outputs": [],
   "source": [
    "full_filled_cases = (store_product_value_counts == 7)\n",
    "full_filled_data = all_data.set_index(store_product_group_cols)[full_filled_cases]\n",
    "full_filled_data.reset_index(inplace=True)"
   ]
  },
  {
   "cell_type": "code",
   "execution_count": null,
   "metadata": {},
   "outputs": [],
   "source": [
    "full_filled_data.shape"
   ]
  },
  {
   "cell_type": "code",
   "execution_count": null,
   "metadata": {},
   "outputs": [],
   "source": [
    "prediction_data = full_filled_data.query(\"Semana >= @MIN_ML_MODEL_WEEK and Semana <= @MAX_ML_MODEL_WEEK\")\n",
    "decision_data = full_filled_data.query(\"Semana >= @MIN_DECISION_MODEL_WEEK and Semana <= @MAX_DECISION_MODEL_WEEK\")\n",
    "model, encoder = make_model(prediction_data, run_name=\"prediction_model\")\n",
    "torch.save(model, 'predictive_model.pt')\n",
    "with open('catgeorical_encoder.pkl', 'wb') as f:\n",
    "    pickle.dump(encoder, f)\n"
   ]
  },
  {
   "cell_type": "code",
   "execution_count": null,
   "metadata": {},
   "outputs": [],
   "source": [
    "prediction_data.to_parquet('prediction_data.parquet')\n",
    "decision_data.to_parquet('decision_data.parquet')\n",
    "\n",
    "wandb_project = \"decision_opt_bimbo\"\n",
    "with wandb.init(wandb_project):\n",
    "    dynamic_optimization_artifact = wandb.Artifact('dynamic_optimization_data', type='dataset')\n",
    "    dynamic_optimization_artifact.add_file('prediction_data.parquet', name='prediction_data.parquet')    \n",
    "    dynamic_optimization_artifact.add_file('decision_data.parquet', name='decision_data.parquet')\n",
    "    wandb.log_artifact(dynamic_optimization_artifact)"
   ]
  },
  {
   "cell_type": "code",
   "execution_count": null,
   "metadata": {},
   "outputs": [],
   "source": []
  },
  {
   "cell_type": "code",
   "execution_count": null,
   "metadata": {},
   "outputs": [],
   "source": []
  }
 ],
 "metadata": {
  "kernelspec": {
   "display_name": "Python 3",
   "language": "python",
   "name": "python3"
  },
  "language_info": {
   "codemirror_mode": {
    "name": "ipython",
    "version": 3
   },
   "file_extension": ".py",
   "mimetype": "text/x-python",
   "name": "python",
   "nbconvert_exporter": "python",
   "pygments_lexer": "ipython3",
   "version": "3.9.0"
  }
 },
 "nbformat": 4,
 "nbformat_minor": 4
}
